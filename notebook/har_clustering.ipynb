{
 "cells": [
  {
   "cell_type": "markdown",
   "metadata": {
    "id": "3T2tZmWqHguL"
   },
   "source": [
    "# **Hard Clustering: Análisis de Patrones de Movimiento con K-Means 📊**\n",
    "\n",
    "<span style=\"font-size: 1.5rem;\">\n",
    "\n",
    "🎓 **Universidad:** Fundación Universitaria Konrad Lorenz\n",
    "\n",
    "</span>\n",
    "\n",
    "<span style=\"font-size: 1.25rem;\">\n",
    "\n",
    "🏫 **Facultad:** Facultad de Matemáticas e Ingenierías\n",
    "\n",
    "📖 **Curso:** Introducción a Big Data\n",
    "\n",
    "</span>\n",
    "\n",
    "<span style=\"font-size: 1.5rem;\">\n",
    "\n",
    "**🧑‍💻 Integrantes:**\n",
    "\n",
    "</span>\n",
    "\n",
    "- Ángel Stiven Pinzón Sánchez - 506221100\n",
    "- Andrea Valentina Cubillos Pinto - 506231711\n",
    "- Martín Alexander Ramos Yampufe - 506251051\n"
   ]
  },
  {
   "cell_type": "markdown",
   "metadata": {
    "id": "XeTFtrjIxmwX"
   },
   "source": [
    "## **1. Introducción**\n"
   ]
  },
  {
   "cell_type": "markdown",
   "metadata": {
    "id": "TKrCJTr6Pwpv"
   },
   "source": [
    "**El Reconocimiento de Actividad Humana (HAR)** es una técnica ampliamente\n",
    "utilizada en el monitoreo de la salud, el análisis del rendimiento deportivo y\n",
    "el seguimiento de la actividad física mediante dispositivos portátiles. Estos\n",
    "sistemas suelen basarse en datos obtenidos de acelerómetros y giroscopios, los\n",
    "cuales permiten detectar patrones de movimiento y clasificar actividades.\n",
    "\n",
    "Uno de los principales desafíos en HAR es la detección de inactividad prolongada\n",
    "en condiciones de vida libre, un aspecto clave para la prevención de\n",
    "enfermedades asociadas al sedentarismo. Sin embargo, la mayoría de los estudios\n",
    "actuales dependen de modelos supervisados, los cuales requieren datos\n",
    "etiquetados, lo que puede ser un proceso costoso y propenso a errores.\n",
    "\n",
    "Para abordar esta limitación, en este proyecto aplicaremos K-Means, un algoritmo\n",
    "de aprendizaje no supervisado, para analizar datos de acelerómetros y detectar\n",
    "segmentos de tiempo con baja actividad física. Este enfoque nos permitirá\n",
    "identificar patrones de inactividad sin necesidad de etiquetas previas,\n",
    "facilitando su aplicación en el monitoreo de la salud y la detección temprana de\n",
    "conductas sedentarias.\n"
   ]
  },
  {
   "cell_type": "markdown",
   "metadata": {
    "id": "aEbIOAew04AK"
   },
   "source": [
    "## **2. Objetivos**\n"
   ]
  },
  {
   "cell_type": "markdown",
   "metadata": {
    "id": "f2Nv3dEOqIQR"
   },
   "source": [
    "El objetivo de este análisis es identificar patrones de movimiento a partir de\n",
    "datos de acelerómetros, explorando relaciones entre variables y reduciendo la\n",
    "dimensionalidad de los datos para facilitar su agrupamiento mediante\n",
    "**K-Means**. Esto permitirá detectar segmentos de baja actividad física y\n",
    "evaluar su utilidad en el Reconocimiento de Actividad Humana (HAR) para prevenir\n",
    "enfermedades relacionadas con el sedentarismo.\n"
   ]
  },
  {
   "cell_type": "markdown",
   "metadata": {
    "id": "UnLYaJdyyJko"
   },
   "source": [
    "## **3. Preprocesamiento de datos**\n"
   ]
  },
  {
   "cell_type": "code",
   "execution_count": 1,
   "metadata": {
    "execution": {
     "iopub.execute_input": "2025-05-29T04:53:15.039224Z",
     "iopub.status.busy": "2025-05-29T04:53:15.038893Z",
     "iopub.status.idle": "2025-05-29T04:53:16.835869Z",
     "shell.execute_reply": "2025-05-29T04:53:16.835405Z"
    },
    "id": "AZxkKnWg9dxY"
   },
   "outputs": [],
   "source": [
    "import io\n",
    "import math\n",
    "import zipfile\n",
    "from inspect import cleandoc\n",
    "from pathlib import Path\n",
    "from typing import Final\n",
    "\n",
    "import joblib\n",
    "import matplotlib.pyplot as plt\n",
    "import numpy as np\n",
    "import pandas as pd\n",
    "import polars as pl\n",
    "import requests\n",
    "import seaborn as sns\n",
    "from IPython.display import Markdown\n",
    "from scipy import stats\n",
    "from scipy.stats import zscore\n",
    "from sklearn.cluster import MiniBatchKMeans\n",
    "from sklearn.decomposition import PCA\n",
    "from sklearn.discriminant_analysis import StandardScaler\n",
    "from sklearn.inspection import permutation_importance\n",
    "from sklearn.metrics import (\n",
    "    ConfusionMatrixDisplay,\n",
    "    accuracy_score,\n",
    "    classification_report,\n",
    "    confusion_matrix,\n",
    "    f1_score,\n",
    "    precision_score,\n",
    "    recall_score,\n",
    "    silhouette_score,\n",
    ")\n",
    "from sklearn.model_selection import train_test_split\n",
    "from sklearn.neural_network import MLPClassifier"
   ]
  },
  {
   "cell_type": "code",
   "execution_count": 2,
   "metadata": {
    "execution": {
     "iopub.execute_input": "2025-05-29T04:53:16.837650Z",
     "iopub.status.busy": "2025-05-29T04:53:16.837423Z",
     "iopub.status.idle": "2025-05-29T04:53:16.839874Z",
     "shell.execute_reply": "2025-05-29T04:53:16.839460Z"
    },
    "id": "ABG58dtQbdO-"
   },
   "outputs": [],
   "source": [
    "dataset_url: Final[str] = (\n",
    "    \"https://drive.usercontent.google.com/download?id=1pawtHobYPmvHLKKJfbg12fqkMdG5rlkL&export=download&authuser=0&confirm=t&uuid=c5110138-278c-4dc3-9be0-a11aeaefd54d&at=ALoNOgn9aAhEQRUpJf90DRNzLwiP%3A1748493341099\"\n",
    ")"
   ]
  },
  {
   "cell_type": "code",
   "execution_count": 3,
   "metadata": {
    "execution": {
     "iopub.execute_input": "2025-05-29T04:53:16.841328Z",
     "iopub.status.busy": "2025-05-29T04:53:16.841157Z",
     "iopub.status.idle": "2025-05-29T04:53:24.839668Z",
     "shell.execute_reply": "2025-05-29T04:53:24.839080Z"
    },
    "id": "HB2Nbxkw-UIS"
   },
   "outputs": [],
   "source": [
    "response = requests.get(\n",
    "    dataset_url,\n",
    "    timeout=10,\n",
    ")\n",
    "\n",
    "# Delete the data directory if it already exists\n",
    "data_dir = Path(\"./data\")\n",
    "\n",
    "\n",
    "def remove_file_or_directory(file_or_directory: Path) -> None:\n",
    "    \"\"\"Elimina un archivo o carpeta de forma recursiva.\"\"\"\n",
    "    if file_or_directory.is_dir():\n",
    "        for file in file_or_directory.iterdir():\n",
    "            remove_file_or_directory(file)\n",
    "        file_or_directory.rmdir()\n",
    "    else:\n",
    "        file_or_directory.unlink()\n",
    "\n",
    "\n",
    "if data_dir.exists():\n",
    "    remove_file_or_directory(data_dir)\n",
    "\n",
    "\n",
    "with zipfile.ZipFile(io.BytesIO(response.content)) as zip_file:\n",
    "    zip_file.extractall(\"./data\")"
   ]
  },
  {
   "cell_type": "code",
   "execution_count": 4,
   "metadata": {
    "colab": {
     "base_uri": "https://localhost:8080/",
     "height": 1000
    },
    "execution": {
     "iopub.execute_input": "2025-05-29T04:53:24.841391Z",
     "iopub.status.busy": "2025-05-29T04:53:24.841235Z",
     "iopub.status.idle": "2025-05-29T04:53:33.092944Z",
     "shell.execute_reply": "2025-05-29T04:53:33.092514Z"
    },
    "id": "lOpjEKCWbhKH",
    "outputId": "c3522bfb-ed7f-4268-8763-a753ebedb709"
   },
   "outputs": [
    {
     "data": {
      "text/markdown": [
       "Archivo: data\\harth\\S006.csv, Tamaño: (408709, 8)"
      ],
      "text/plain": [
       "<IPython.core.display.Markdown object>"
      ]
     },
     "metadata": {},
     "output_type": "display_data"
    },
    {
     "data": {
      "text/markdown": [
       "Archivo: data\\harth\\S008.csv, Tamaño: (418989, 8)"
      ],
      "text/plain": [
       "<IPython.core.display.Markdown object>"
      ]
     },
     "metadata": {},
     "output_type": "display_data"
    },
    {
     "data": {
      "text/markdown": [
       "Archivo: data\\harth\\S009.csv, Tamaño: (154464, 8)"
      ],
      "text/plain": [
       "<IPython.core.display.Markdown object>"
      ]
     },
     "metadata": {},
     "output_type": "display_data"
    },
    {
     "data": {
      "text/markdown": [
       "Archivo: data\\harth\\S010.csv, Tamaño: (351649, 8)"
      ],
      "text/plain": [
       "<IPython.core.display.Markdown object>"
      ]
     },
     "metadata": {},
     "output_type": "display_data"
    },
    {
     "data": {
      "text/markdown": [
       "Archivo: data\\harth\\S012.csv, Tamaño: (382414, 8)"
      ],
      "text/plain": [
       "<IPython.core.display.Markdown object>"
      ]
     },
     "metadata": {},
     "output_type": "display_data"
    },
    {
     "data": {
      "text/markdown": [
       "Archivo: data\\harth\\S013.csv, Tamaño: (369077, 8)"
      ],
      "text/plain": [
       "<IPython.core.display.Markdown object>"
      ]
     },
     "metadata": {},
     "output_type": "display_data"
    },
    {
     "data": {
      "text/markdown": [
       "Archivo: data\\harth\\S014.csv, Tamaño: (366487, 8)"
      ],
      "text/plain": [
       "<IPython.core.display.Markdown object>"
      ]
     },
     "metadata": {},
     "output_type": "display_data"
    },
    {
     "data": {
      "text/markdown": [
       "Archivo: data\\harth\\S015.csv, Tamaño: (418392, 8)"
      ],
      "text/plain": [
       "<IPython.core.display.Markdown object>"
      ]
     },
     "metadata": {},
     "output_type": "display_data"
    },
    {
     "data": {
      "text/markdown": [
       "Archivo: data\\harth\\S016.csv, Tamaño: (355418, 8)"
      ],
      "text/plain": [
       "<IPython.core.display.Markdown object>"
      ]
     },
     "metadata": {},
     "output_type": "display_data"
    },
    {
     "data": {
      "text/markdown": [
       "Archivo: data\\harth\\S017.csv, Tamaño: (366609, 8)"
      ],
      "text/plain": [
       "<IPython.core.display.Markdown object>"
      ]
     },
     "metadata": {},
     "output_type": "display_data"
    },
    {
     "data": {
      "text/markdown": [
       "Archivo: data\\harth\\S018.csv, Tamaño: (322271, 8)"
      ],
      "text/plain": [
       "<IPython.core.display.Markdown object>"
      ]
     },
     "metadata": {},
     "output_type": "display_data"
    },
    {
     "data": {
      "text/markdown": [
       "Archivo: data\\harth\\S019.csv, Tamaño: (297945, 8)"
      ],
      "text/plain": [
       "<IPython.core.display.Markdown object>"
      ]
     },
     "metadata": {},
     "output_type": "display_data"
    },
    {
     "data": {
      "text/markdown": [
       "Archivo: data\\harth\\S020.csv, Tamaño: (371496, 8)"
      ],
      "text/plain": [
       "<IPython.core.display.Markdown object>"
      ]
     },
     "metadata": {},
     "output_type": "display_data"
    },
    {
     "data": {
      "text/markdown": [
       "Archivo: data\\harth\\S021.csv, Tamaño: (302247, 8)"
      ],
      "text/plain": [
       "<IPython.core.display.Markdown object>"
      ]
     },
     "metadata": {},
     "output_type": "display_data"
    },
    {
     "data": {
      "text/markdown": [
       "Archivo: data\\harth\\S022.csv, Tamaño: (337602, 8)"
      ],
      "text/plain": [
       "<IPython.core.display.Markdown object>"
      ]
     },
     "metadata": {},
     "output_type": "display_data"
    },
    {
     "data": {
      "text/markdown": [
       "Archivo: data\\harth\\S023.csv, Tamaño: (137646, 8)"
      ],
      "text/plain": [
       "<IPython.core.display.Markdown object>"
      ]
     },
     "metadata": {},
     "output_type": "display_data"
    },
    {
     "data": {
      "text/markdown": [
       "Archivo: data\\harth\\S024.csv, Tamaño: (170534, 8)"
      ],
      "text/plain": [
       "<IPython.core.display.Markdown object>"
      ]
     },
     "metadata": {},
     "output_type": "display_data"
    },
    {
     "data": {
      "text/markdown": [
       "Archivo: data\\harth\\S025.csv, Tamaño: (231729, 8)"
      ],
      "text/plain": [
       "<IPython.core.display.Markdown object>"
      ]
     },
     "metadata": {},
     "output_type": "display_data"
    },
    {
     "data": {
      "text/markdown": [
       "Archivo: data\\harth\\S026.csv, Tamaño: (195172, 8)"
      ],
      "text/plain": [
       "<IPython.core.display.Markdown object>"
      ]
     },
     "metadata": {},
     "output_type": "display_data"
    },
    {
     "data": {
      "text/markdown": [
       "Archivo: data\\harth\\S027.csv, Tamaño: (158584, 8)"
      ],
      "text/plain": [
       "<IPython.core.display.Markdown object>"
      ]
     },
     "metadata": {},
     "output_type": "display_data"
    },
    {
     "data": {
      "text/markdown": [
       "Archivo: data\\harth\\S028.csv, Tamaño: (165178, 8)"
      ],
      "text/plain": [
       "<IPython.core.display.Markdown object>"
      ]
     },
     "metadata": {},
     "output_type": "display_data"
    },
    {
     "data": {
      "text/markdown": [
       "Archivo: data\\harth\\S029.csv, Tamaño: (178716, 8)"
      ],
      "text/plain": [
       "<IPython.core.display.Markdown object>"
      ]
     },
     "metadata": {},
     "output_type": "display_data"
    },
    {
     "data": {
      "text/markdown": [
       "Número total de filas en todos los archivos: 6461328"
      ],
      "text/plain": [
       "<IPython.core.display.Markdown object>"
      ]
     },
     "metadata": {},
     "output_type": "display_data"
    },
    {
     "data": {
      "text/markdown": [
       "Contenido del DataFrame después de cargar los archivos:"
      ],
      "text/plain": [
       "<IPython.core.display.Markdown object>"
      ]
     },
     "metadata": {},
     "output_type": "display_data"
    },
    {
     "data": {
      "text/html": [
       "<div><style>\n",
       ".dataframe > thead > tr,\n",
       ".dataframe > tbody > tr {\n",
       "  text-align: right;\n",
       "  white-space: pre-wrap;\n",
       "}\n",
       "</style>\n",
       "<small>shape: (5, 8)</small><table border=\"1\" class=\"dataframe\"><thead><tr><th>timestamp</th><th>back_x</th><th>back_y</th><th>back_z</th><th>thigh_x</th><th>thigh_y</th><th>thigh_z</th><th>label</th></tr><tr><td>datetime[μs]</td><td>f64</td><td>f64</td><td>f64</td><td>f64</td><td>f64</td><td>f64</td><td>i64</td></tr></thead><tbody><tr><td>2019-01-12 00:00:00</td><td>-0.760242</td><td>0.29957</td><td>0.46857</td><td>-5.092732</td><td>-0.298644</td><td>0.709439</td><td>6</td></tr><tr><td>2019-01-12 00:00:00.010</td><td>-0.530138</td><td>0.28188</td><td>0.319987</td><td>0.900547</td><td>0.286944</td><td>0.340309</td><td>6</td></tr><tr><td>2019-01-12 00:00:00.020</td><td>-1.170922</td><td>0.186353</td><td>-0.16701</td><td>-0.035442</td><td>-0.078423</td><td>-0.515212</td><td>6</td></tr><tr><td>2019-01-12 00:00:00.030</td><td>-0.648772</td><td>0.016579</td><td>-0.054284</td><td>-1.554248</td><td>-0.950978</td><td>-0.22114</td><td>6</td></tr><tr><td>2019-01-12 00:00:00.040</td><td>-0.355071</td><td>-0.051831</td><td>-0.113419</td><td>-0.547471</td><td>0.140903</td><td>-0.653782</td><td>6</td></tr></tbody></table></div>"
      ],
      "text/plain": [
       "shape: (5, 8)\n",
       "┌──────────────┬───────────┬───────────┬───────────┬───────────┬───────────┬───────────┬───────┐\n",
       "│ timestamp    ┆ back_x    ┆ back_y    ┆ back_z    ┆ thigh_x   ┆ thigh_y   ┆ thigh_z   ┆ label │\n",
       "│ ---          ┆ ---       ┆ ---       ┆ ---       ┆ ---       ┆ ---       ┆ ---       ┆ ---   │\n",
       "│ datetime[μs] ┆ f64       ┆ f64       ┆ f64       ┆ f64       ┆ f64       ┆ f64       ┆ i64   │\n",
       "╞══════════════╪═══════════╪═══════════╪═══════════╪═══════════╪═══════════╪═══════════╪═══════╡\n",
       "│ 2019-01-12   ┆ -0.760242 ┆ 0.29957   ┆ 0.46857   ┆ -5.092732 ┆ -0.298644 ┆ 0.709439  ┆ 6     │\n",
       "│ 00:00:00     ┆           ┆           ┆           ┆           ┆           ┆           ┆       │\n",
       "│ 2019-01-12   ┆ -0.530138 ┆ 0.28188   ┆ 0.319987  ┆ 0.900547  ┆ 0.286944  ┆ 0.340309  ┆ 6     │\n",
       "│ 00:00:00.010 ┆           ┆           ┆           ┆           ┆           ┆           ┆       │\n",
       "│ 2019-01-12   ┆ -1.170922 ┆ 0.186353  ┆ -0.16701  ┆ -0.035442 ┆ -0.078423 ┆ -0.515212 ┆ 6     │\n",
       "│ 00:00:00.020 ┆           ┆           ┆           ┆           ┆           ┆           ┆       │\n",
       "│ 2019-01-12   ┆ -0.648772 ┆ 0.016579  ┆ -0.054284 ┆ -1.554248 ┆ -0.950978 ┆ -0.22114  ┆ 6     │\n",
       "│ 00:00:00.030 ┆           ┆           ┆           ┆           ┆           ┆           ┆       │\n",
       "│ 2019-01-12   ┆ -0.355071 ┆ -0.051831 ┆ -0.113419 ┆ -0.547471 ┆ 0.140903  ┆ -0.653782 ┆ 6     │\n",
       "│ 00:00:00.040 ┆           ┆           ┆           ┆           ┆           ┆           ┆       │\n",
       "└──────────────┴───────────┴───────────┴───────────┴───────────┴───────────┴───────────┴───────┘"
      ]
     },
     "metadata": {},
     "output_type": "display_data"
    },
    {
     "data": {
      "text/html": [
       "<div><style>\n",
       ".dataframe > thead > tr,\n",
       ".dataframe > tbody > tr {\n",
       "  text-align: right;\n",
       "  white-space: pre-wrap;\n",
       "}\n",
       "</style>\n",
       "<small>shape: (9, 9)</small><table border=\"1\" class=\"dataframe\"><thead><tr><th>statistic</th><th>timestamp</th><th>back_x</th><th>back_y</th><th>back_z</th><th>thigh_x</th><th>thigh_y</th><th>thigh_z</th><th>label</th></tr><tr><td>str</td><td>str</td><td>f64</td><td>f64</td><td>f64</td><td>f64</td><td>f64</td><td>f64</td><td>f64</td></tr></thead><tbody><tr><td>&quot;count&quot;</td><td>&quot;6461328&quot;</td><td>6.461328e6</td><td>6.461328e6</td><td>6.461328e6</td><td>6.461328e6</td><td>6.461328e6</td><td>6.461328e6</td><td>6.461328e6</td></tr><tr><td>&quot;null_count&quot;</td><td>&quot;0&quot;</td><td>0.0</td><td>0.0</td><td>0.0</td><td>0.0</td><td>0.0</td><td>0.0</td><td>0.0</td></tr><tr><td>&quot;mean&quot;</td><td>&quot;2012-02-20 18:20:58.805005&quot;</td><td>-0.884957</td><td>-0.013261</td><td>-0.169378</td><td>-0.594888</td><td>0.020877</td><td>0.374916</td><td>6.783833</td></tr><tr><td>&quot;std&quot;</td><td>null</td><td>0.377592</td><td>0.231171</td><td>0.364738</td><td>0.626347</td><td>0.388451</td><td>0.736098</td><td>11.432381</td></tr><tr><td>&quot;min&quot;</td><td>&quot;2000-01-01 00:00:00&quot;</td><td>-8.0</td><td>-4.307617</td><td>-6.574463</td><td>-8.0</td><td>-7.997314</td><td>-8.0</td><td>1.0</td></tr><tr><td>&quot;25%&quot;</td><td>&quot;2000-01-01 01:23:47.680000&quot;</td><td>-1.002393</td><td>-0.083129</td><td>-0.37207</td><td>-0.974211</td><td>-0.100087</td><td>-0.155714</td><td>3.0</td></tr><tr><td>&quot;50%&quot;</td><td>&quot;2019-01-12 00:12:46.760000&quot;</td><td>-0.9749</td><td>0.002594</td><td>-0.137451</td><td>-0.421731</td><td>0.032629</td><td>0.700439</td><td>7.0</td></tr><tr><td>&quot;75%&quot;</td><td>&quot;2019-01-12 00:49:20.500000&quot;</td><td>-0.812303</td><td>0.07251</td><td>0.046473</td><td>-0.167876</td><td>0.154951</td><td>0.948675</td><td>7.0</td></tr><tr><td>&quot;max&quot;</td><td>&quot;2019-01-12 02:23:36.720000&quot;</td><td>2.291708</td><td>6.491943</td><td>4.909483</td><td>7.999756</td><td>7.999756</td><td>8.406235</td><td>140.0</td></tr></tbody></table></div>"
      ],
      "text/plain": [
       "shape: (9, 9)\n",
       "┌───────────┬───────────┬───────────┬───────────┬───┬───────────┬───────────┬───────────┬──────────┐\n",
       "│ statistic ┆ timestamp ┆ back_x    ┆ back_y    ┆ … ┆ thigh_x   ┆ thigh_y   ┆ thigh_z   ┆ label    │\n",
       "│ ---       ┆ ---       ┆ ---       ┆ ---       ┆   ┆ ---       ┆ ---       ┆ ---       ┆ ---      │\n",
       "│ str       ┆ str       ┆ f64       ┆ f64       ┆   ┆ f64       ┆ f64       ┆ f64       ┆ f64      │\n",
       "╞═══════════╪═══════════╪═══════════╪═══════════╪═══╪═══════════╪═══════════╪═══════════╪══════════╡\n",
       "│ count     ┆ 6461328   ┆ 6.461328e ┆ 6.461328e ┆ … ┆ 6.461328e ┆ 6.461328e ┆ 6.461328e ┆ 6.461328 │\n",
       "│           ┆           ┆ 6         ┆ 6         ┆   ┆ 6         ┆ 6         ┆ 6         ┆ e6       │\n",
       "│ null_coun ┆ 0         ┆ 0.0       ┆ 0.0       ┆ … ┆ 0.0       ┆ 0.0       ┆ 0.0       ┆ 0.0      │\n",
       "│ t         ┆           ┆           ┆           ┆   ┆           ┆           ┆           ┆          │\n",
       "│ mean      ┆ 2012-02-2 ┆ -0.884957 ┆ -0.013261 ┆ … ┆ -0.594888 ┆ 0.020877  ┆ 0.374916  ┆ 6.783833 │\n",
       "│           ┆ 0 18:20:5 ┆           ┆           ┆   ┆           ┆           ┆           ┆          │\n",
       "│           ┆ 8.805005  ┆           ┆           ┆   ┆           ┆           ┆           ┆          │\n",
       "│ std       ┆ null      ┆ 0.377592  ┆ 0.231171  ┆ … ┆ 0.626347  ┆ 0.388451  ┆ 0.736098  ┆ 11.43238 │\n",
       "│           ┆           ┆           ┆           ┆   ┆           ┆           ┆           ┆ 1        │\n",
       "│ min       ┆ 2000-01-0 ┆ -8.0      ┆ -4.307617 ┆ … ┆ -8.0      ┆ -7.997314 ┆ -8.0      ┆ 1.0      │\n",
       "│           ┆ 1         ┆           ┆           ┆   ┆           ┆           ┆           ┆          │\n",
       "│           ┆ 00:00:00  ┆           ┆           ┆   ┆           ┆           ┆           ┆          │\n",
       "│ 25%       ┆ 2000-01-0 ┆ -1.002393 ┆ -0.083129 ┆ … ┆ -0.974211 ┆ -0.100087 ┆ -0.155714 ┆ 3.0      │\n",
       "│           ┆ 1 01:23:4 ┆           ┆           ┆   ┆           ┆           ┆           ┆          │\n",
       "│           ┆ 7.680000  ┆           ┆           ┆   ┆           ┆           ┆           ┆          │\n",
       "│ 50%       ┆ 2019-01-1 ┆ -0.9749   ┆ 0.002594  ┆ … ┆ -0.421731 ┆ 0.032629  ┆ 0.700439  ┆ 7.0      │\n",
       "│           ┆ 2 00:12:4 ┆           ┆           ┆   ┆           ┆           ┆           ┆          │\n",
       "│           ┆ 6.760000  ┆           ┆           ┆   ┆           ┆           ┆           ┆          │\n",
       "│ 75%       ┆ 2019-01-1 ┆ -0.812303 ┆ 0.07251   ┆ … ┆ -0.167876 ┆ 0.154951  ┆ 0.948675  ┆ 7.0      │\n",
       "│           ┆ 2 00:49:2 ┆           ┆           ┆   ┆           ┆           ┆           ┆          │\n",
       "│           ┆ 0.500000  ┆           ┆           ┆   ┆           ┆           ┆           ┆          │\n",
       "│ max       ┆ 2019-01-1 ┆ 2.291708  ┆ 6.491943  ┆ … ┆ 7.999756  ┆ 7.999756  ┆ 8.406235  ┆ 140.0    │\n",
       "│           ┆ 2 02:23:3 ┆           ┆           ┆   ┆           ┆           ┆           ┆          │\n",
       "│           ┆ 6.720000  ┆           ┆           ┆   ┆           ┆           ┆           ┆          │\n",
       "└───────────┴───────────┴───────────┴───────────┴───┴───────────┴───────────┴───────────┴──────────┘"
      ]
     },
     "metadata": {},
     "output_type": "display_data"
    },
    {
     "data": {
      "text/html": [
       "<div><style>\n",
       ".dataframe > thead > tr,\n",
       ".dataframe > tbody > tr {\n",
       "  text-align: right;\n",
       "  white-space: pre-wrap;\n",
       "}\n",
       "</style>\n",
       "<small>shape: (0, 8)</small><table border=\"1\" class=\"dataframe\"><thead><tr><th>timestamp</th><th>back_x</th><th>back_y</th><th>back_z</th><th>thigh_x</th><th>thigh_y</th><th>thigh_z</th><th>label</th></tr><tr><td>datetime[μs]</td><td>f64</td><td>f64</td><td>f64</td><td>f64</td><td>f64</td><td>f64</td><td>i64</td></tr></thead><tbody></tbody></table></div>"
      ],
      "text/plain": [
       "shape: (0, 8)\n",
       "┌──────────────┬────────┬────────┬────────┬─────────┬─────────┬─────────┬───────┐\n",
       "│ timestamp    ┆ back_x ┆ back_y ┆ back_z ┆ thigh_x ┆ thigh_y ┆ thigh_z ┆ label │\n",
       "│ ---          ┆ ---    ┆ ---    ┆ ---    ┆ ---     ┆ ---     ┆ ---     ┆ ---   │\n",
       "│ datetime[μs] ┆ f64    ┆ f64    ┆ f64    ┆ f64     ┆ f64     ┆ f64     ┆ i64   │\n",
       "╞══════════════╪════════╪════════╪════════╪═════════╪═════════╪═════════╪═══════╡\n",
       "└──────────────┴────────┴────────┴────────┴─────────┴─────────┴─────────┴───────┘"
      ]
     },
     "metadata": {},
     "output_type": "display_data"
    },
    {
     "data": {
      "text/markdown": [
       "394.37 MB"
      ],
      "text/plain": [
       "<IPython.core.display.Markdown object>"
      ]
     },
     "metadata": {},
     "output_type": "display_data"
    }
   ],
   "source": [
    "path = Path(\"./data/harth\")\n",
    "all_files = path.glob(\"S0*.csv\")\n",
    "\n",
    "df_list = []\n",
    "for file in all_files:\n",
    "    temp_df = pl.read_csv(file)\n",
    "\n",
    "    # Eliminamos la columna 'Unnamed: 0' si existe y index\n",
    "    if \"index\" in temp_df.columns:\n",
    "        temp_df = temp_df.drop(\"index\")\n",
    "    if \"\" in temp_df.columns:\n",
    "        temp_df = temp_df.drop(\"\")\n",
    "\n",
    "    display(\n",
    "        Markdown(f\"Archivo: {file}, Tamaño: {temp_df.shape}\")\n",
    "    )  # Imprime el tamaño de cada archivo\n",
    "    df_list.append(temp_df)\n",
    "\n",
    "display(\n",
    "    Markdown(\n",
    "        f\"Número total de filas en todos los archivos: {sum(df.shape[0] for df in df_list)}\"\n",
    "    )\n",
    ")\n",
    "\n",
    "# Combina los DataFrames\n",
    "df: pl.DataFrame = pl.concat(\n",
    "    df_list,\n",
    ")\n",
    "\n",
    "# Convierte la columna timestamp a tipo datetime\n",
    "df = df.with_columns(\n",
    "    pl.col(\"timestamp\").str.strptime(\n",
    "        pl.Datetime, \"%Y-%m-%d %H:%M:%S%.f\", strict=False\n",
    "    )\n",
    ")\n",
    "\n",
    "# Verifica el contenido del DataFrame después de cargar los archivos\n",
    "display(\n",
    "    Markdown(\"Contenido del DataFrame después de cargar los archivos:\"),\n",
    "    df.head(),\n",
    "    df.describe(),\n",
    "    df.schema.to_frame(),\n",
    "    Markdown(f\"{df.estimated_size() / (1024 * 1024):.2f} MB\"),\n",
    ")"
   ]
  },
  {
   "cell_type": "code",
   "execution_count": 5,
   "metadata": {
    "colab": {
     "base_uri": "https://localhost:8080/",
     "height": 159
    },
    "execution": {
     "iopub.execute_input": "2025-05-29T04:53:33.094496Z",
     "iopub.status.busy": "2025-05-29T04:53:33.094336Z",
     "iopub.status.idle": "2025-05-29T04:53:33.162686Z",
     "shell.execute_reply": "2025-05-29T04:53:33.162193Z"
    },
    "id": "Sk-DvG4z-o_R",
    "outputId": "8823561f-1077-495f-a975-ceda8d6d27ce"
   },
   "outputs": [
    {
     "data": {
      "text/markdown": [
       "Número de valores nulos en cada columna:"
      ],
      "text/plain": [
       "<IPython.core.display.Markdown object>"
      ]
     },
     "metadata": {},
     "output_type": "display_data"
    },
    {
     "data": {
      "text/html": [
       "<div><style>\n",
       ".dataframe > thead > tr,\n",
       ".dataframe > tbody > tr {\n",
       "  text-align: right;\n",
       "  white-space: pre-wrap;\n",
       "}\n",
       "</style>\n",
       "<small>shape: (1, 8)</small><table border=\"1\" class=\"dataframe\"><thead><tr><th>timestamp</th><th>back_x</th><th>back_y</th><th>back_z</th><th>thigh_x</th><th>thigh_y</th><th>thigh_z</th><th>label</th></tr><tr><td>u32</td><td>u32</td><td>u32</td><td>u32</td><td>u32</td><td>u32</td><td>u32</td><td>u32</td></tr></thead><tbody><tr><td>0</td><td>0</td><td>0</td><td>0</td><td>0</td><td>0</td><td>0</td><td>0</td></tr></tbody></table></div>"
      ],
      "text/plain": [
       "shape: (1, 8)\n",
       "┌───────────┬────────┬────────┬────────┬─────────┬─────────┬─────────┬───────┐\n",
       "│ timestamp ┆ back_x ┆ back_y ┆ back_z ┆ thigh_x ┆ thigh_y ┆ thigh_z ┆ label │\n",
       "│ ---       ┆ ---    ┆ ---    ┆ ---    ┆ ---     ┆ ---     ┆ ---     ┆ ---   │\n",
       "│ u32       ┆ u32    ┆ u32    ┆ u32    ┆ u32     ┆ u32     ┆ u32     ┆ u32   │\n",
       "╞═══════════╪════════╪════════╪════════╪═════════╪═════════╪═════════╪═══════╡\n",
       "│ 0         ┆ 0      ┆ 0      ┆ 0      ┆ 0       ┆ 0       ┆ 0       ┆ 0     │\n",
       "└───────────┴────────┴────────┴────────┴─────────┴─────────┴─────────┴───────┘"
      ]
     },
     "metadata": {},
     "output_type": "display_data"
    }
   ],
   "source": [
    "display(Markdown(\"Número de valores nulos en cada columna:\"), df.null_count())"
   ]
  },
  {
   "cell_type": "code",
   "execution_count": 6,
   "metadata": {
    "colab": {
     "base_uri": "https://localhost:8080/",
     "height": 70
    },
    "execution": {
     "iopub.execute_input": "2025-05-29T04:53:33.257115Z",
     "iopub.status.busy": "2025-05-29T04:53:33.256468Z",
     "iopub.status.idle": "2025-05-29T04:53:33.388519Z",
     "shell.execute_reply": "2025-05-29T04:53:33.387022Z"
    },
    "id": "nKqcDz2Y_Elw",
    "outputId": "bb0559e6-5223-4fc7-a314-eec4f84d9df1"
   },
   "outputs": [
    {
     "data": {
      "text/markdown": [
       "Tamaño antes de eliminar nulos: (6461328, 8)"
      ],
      "text/plain": [
       "<IPython.core.display.Markdown object>"
      ]
     },
     "metadata": {},
     "output_type": "display_data"
    },
    {
     "data": {
      "text/markdown": [
       "Tamaño después de eliminar nulos: (6461328, 8)"
      ],
      "text/plain": [
       "<IPython.core.display.Markdown object>"
      ]
     },
     "execution_count": 6,
     "metadata": {},
     "output_type": "execute_result"
    }
   ],
   "source": [
    "display(Markdown(f\"Tamaño antes de eliminar nulos: {df.shape}\"))\n",
    "\n",
    "df = df.drop_nulls()  # Eliminar filas con valores nulos\n",
    "\n",
    "Markdown(f\"Tamaño después de eliminar nulos: {df.shape}\")"
   ]
  },
  {
   "cell_type": "code",
   "execution_count": 7,
   "metadata": {
    "colab": {
     "base_uri": "https://localhost:8080/",
     "height": 307
    },
    "execution": {
     "iopub.execute_input": "2025-05-29T04:53:33.392672Z",
     "iopub.status.busy": "2025-05-29T04:53:33.392073Z",
     "iopub.status.idle": "2025-05-29T04:53:34.060019Z",
     "shell.execute_reply": "2025-05-29T04:53:34.058766Z"
    },
    "id": "_gZ_RpA0BSh_",
    "outputId": "1134ce4d-0d4e-4677-ee0b-8db7581b5fe4"
   },
   "outputs": [
    {
     "data": {
      "text/markdown": [
       "Tamaño del DataFrame antes de la normalización: (6461328, 8)\n",
       "\n",
       "Contenido del DataFrame antes de la normalización:"
      ],
      "text/plain": [
       "<IPython.core.display.Markdown object>"
      ]
     },
     "metadata": {},
     "output_type": "display_data"
    },
    {
     "data": {
      "text/html": [
       "<div><style>\n",
       ".dataframe > thead > tr,\n",
       ".dataframe > tbody > tr {\n",
       "  text-align: right;\n",
       "  white-space: pre-wrap;\n",
       "}\n",
       "</style>\n",
       "<small>shape: (5, 8)</small><table border=\"1\" class=\"dataframe\"><thead><tr><th>timestamp</th><th>back_x</th><th>back_y</th><th>back_z</th><th>thigh_x</th><th>thigh_y</th><th>thigh_z</th><th>label</th></tr><tr><td>datetime[μs]</td><td>f64</td><td>f64</td><td>f64</td><td>f64</td><td>f64</td><td>f64</td><td>i64</td></tr></thead><tbody><tr><td>2019-01-12 00:00:00</td><td>-0.760242</td><td>0.29957</td><td>0.46857</td><td>-5.092732</td><td>-0.298644</td><td>0.709439</td><td>6</td></tr><tr><td>2019-01-12 00:00:00.010</td><td>-0.530138</td><td>0.28188</td><td>0.319987</td><td>0.900547</td><td>0.286944</td><td>0.340309</td><td>6</td></tr><tr><td>2019-01-12 00:00:00.020</td><td>-1.170922</td><td>0.186353</td><td>-0.16701</td><td>-0.035442</td><td>-0.078423</td><td>-0.515212</td><td>6</td></tr><tr><td>2019-01-12 00:00:00.030</td><td>-0.648772</td><td>0.016579</td><td>-0.054284</td><td>-1.554248</td><td>-0.950978</td><td>-0.22114</td><td>6</td></tr><tr><td>2019-01-12 00:00:00.040</td><td>-0.355071</td><td>-0.051831</td><td>-0.113419</td><td>-0.547471</td><td>0.140903</td><td>-0.653782</td><td>6</td></tr></tbody></table></div>"
      ],
      "text/plain": [
       "shape: (5, 8)\n",
       "┌──────────────┬───────────┬───────────┬───────────┬───────────┬───────────┬───────────┬───────┐\n",
       "│ timestamp    ┆ back_x    ┆ back_y    ┆ back_z    ┆ thigh_x   ┆ thigh_y   ┆ thigh_z   ┆ label │\n",
       "│ ---          ┆ ---       ┆ ---       ┆ ---       ┆ ---       ┆ ---       ┆ ---       ┆ ---   │\n",
       "│ datetime[μs] ┆ f64       ┆ f64       ┆ f64       ┆ f64       ┆ f64       ┆ f64       ┆ i64   │\n",
       "╞══════════════╪═══════════╪═══════════╪═══════════╪═══════════╪═══════════╪═══════════╪═══════╡\n",
       "│ 2019-01-12   ┆ -0.760242 ┆ 0.29957   ┆ 0.46857   ┆ -5.092732 ┆ -0.298644 ┆ 0.709439  ┆ 6     │\n",
       "│ 00:00:00     ┆           ┆           ┆           ┆           ┆           ┆           ┆       │\n",
       "│ 2019-01-12   ┆ -0.530138 ┆ 0.28188   ┆ 0.319987  ┆ 0.900547  ┆ 0.286944  ┆ 0.340309  ┆ 6     │\n",
       "│ 00:00:00.010 ┆           ┆           ┆           ┆           ┆           ┆           ┆       │\n",
       "│ 2019-01-12   ┆ -1.170922 ┆ 0.186353  ┆ -0.16701  ┆ -0.035442 ┆ -0.078423 ┆ -0.515212 ┆ 6     │\n",
       "│ 00:00:00.020 ┆           ┆           ┆           ┆           ┆           ┆           ┆       │\n",
       "│ 2019-01-12   ┆ -0.648772 ┆ 0.016579  ┆ -0.054284 ┆ -1.554248 ┆ -0.950978 ┆ -0.22114  ┆ 6     │\n",
       "│ 00:00:00.030 ┆           ┆           ┆           ┆           ┆           ┆           ┆       │\n",
       "│ 2019-01-12   ┆ -0.355071 ┆ -0.051831 ┆ -0.113419 ┆ -0.547471 ┆ 0.140903  ┆ -0.653782 ┆ 6     │\n",
       "│ 00:00:00.040 ┆           ┆           ┆           ┆           ┆           ┆           ┆       │\n",
       "└──────────────┴───────────┴───────────┴───────────┴───────────┴───────────┴───────────┴───────┘"
      ]
     },
     "metadata": {},
     "output_type": "display_data"
    }
   ],
   "source": [
    "quantitative_cols = [\n",
    "    \"back_x\",\n",
    "    \"back_y\",\n",
    "    \"back_z\",\n",
    "    \"thigh_x\",\n",
    "    \"thigh_y\",\n",
    "    \"thigh_z\",\n",
    "]\n",
    "\n",
    "display(\n",
    "    Markdown(\n",
    "        cleandoc(f\"\"\"\n",
    "            Tamaño del DataFrame antes de la normalización: {df.shape}\n",
    "\n",
    "            Contenido del DataFrame antes de la normalización:\n",
    "        \"\"\"),\n",
    "    ),\n",
    "    df.head(),\n",
    ")\n",
    "\n",
    "# Normalización\n",
    "if all(col in df.columns for col in quantitative_cols):\n",
    "    if df[quantitative_cols].shape[0] > 0:\n",
    "        scaler = StandardScaler()\n",
    "        df[quantitative_cols] = scaler.fit_transform(\n",
    "            df[quantitative_cols].to_arrow()\n",
    "        )\n",
    "    else:\n",
    "        display(Markdown(\"Las columnas seleccionadas están vacías.\"))\n",
    "else:\n",
    "    display(Markdown(\"Una o más columnas no existen en el DataFrame.\"))"
   ]
  },
  {
   "cell_type": "code",
   "execution_count": 8,
   "metadata": {
    "colab": {
     "base_uri": "https://localhost:8080/",
     "height": 1000
    },
    "execution": {
     "iopub.execute_input": "2025-05-29T04:53:34.064217Z",
     "iopub.status.busy": "2025-05-29T04:53:34.063775Z",
     "iopub.status.idle": "2025-05-29T04:54:06.802697Z",
     "shell.execute_reply": "2025-05-29T04:54:06.802210Z"
    },
    "id": "sGZprRnY_GSp",
    "outputId": "e51d6a48-fce6-45db-b3df-faff529e937b"
   },
   "outputs": [
    {
     "data": {
      "image/png": "[encoded data removed]",
      "text/plain": [
       "<Figure size 1500x1000 with 6 Axes>"
      ]
     },
     "metadata": {},
     "output_type": "display_data"
    },
    {
     "data": {
      "text/markdown": [
       "Número de outliers detectados por Z-Score: $507343$"
      ],
      "text/plain": [
       "<IPython.core.display.Markdown object>"
      ]
     },
     "metadata": {},
     "output_type": "display_data"
    },
    {
     "data": {
      "text/html": [
       "<div><style>\n",
       ".dataframe > thead > tr,\n",
       ".dataframe > tbody > tr {\n",
       "  text-align: right;\n",
       "  white-space: pre-wrap;\n",
       "}\n",
       "</style>\n",
       "<small>shape: (507_343, 8)</small><table border=\"1\" class=\"dataframe\"><thead><tr><th>timestamp</th><th>back_x</th><th>back_y</th><th>back_z</th><th>thigh_x</th><th>thigh_y</th><th>thigh_z</th><th>label</th></tr><tr><td>datetime[μs]</td><td>f64</td><td>f64</td><td>f64</td><td>f64</td><td>f64</td><td>f64</td><td>i64</td></tr></thead><tbody><tr><td>2019-01-12 00:00:00</td><td>0.330293</td><td>1.353248</td><td>1.749055</td><td>-7.181078</td><td>-0.822551</td><td>0.454455</td><td>6</td></tr><tr><td>2019-01-12 00:02:43.100</td><td>-1.210939</td><td>3.050026</td><td>0.711515</td><td>-0.653571</td><td>0.513943</td><td>-0.950917</td><td>1</td></tr><tr><td>2019-01-12 00:03:13.800</td><td>-0.919255</td><td>3.363959</td><td>0.687889</td><td>-0.64915</td><td>0.358385</td><td>-0.296835</td><td>1</td></tr><tr><td>2019-01-12 00:03:35.410</td><td>-1.474371</td><td>4.412604</td><td>1.671156</td><td>-1.148571</td><td>0.652607</td><td>-0.362975</td><td>1</td></tr><tr><td>2019-01-12 00:04:03.250</td><td>-0.886602</td><td>0.163189</td><td>1.250953</td><td>-3.329005</td><td>3.13183</td><td>-2.136228</td><td>1</td></tr><tr><td>&hellip;</td><td>&hellip;</td><td>&hellip;</td><td>&hellip;</td><td>&hellip;</td><td>&hellip;</td><td>&hellip;</td><td>&hellip;</td></tr><tr><td>2019-01-12 00:59:30.400</td><td>-1.652779</td><td>0.6604</td><td>-0.663487</td><td>-3.570954</td><td>-2.380443</td><td>0.808722</td><td>1</td></tr><tr><td>2019-01-12 00:59:30.420</td><td>-0.780554</td><td>1.381719</td><td>-1.068448</td><td>-3.534314</td><td>1.696624</td><td>-1.552426</td><td>1</td></tr><tr><td>2019-01-12 00:59:31.500</td><td>-0.461791</td><td>-0.048244</td><td>-0.160798</td><td>-4.045322</td><td>-2.165495</td><td>-4.413067</td><td>1</td></tr><tr><td>2019-01-12 00:59:31.520</td><td>-0.430755</td><td>0.126012</td><td>-0.18958</td><td>-3.476626</td><td>-3.895751</td><td>-4.952361</td><td>1</td></tr><tr><td>2019-01-12 00:59:55.320</td><td>-0.787019</td><td>-0.103161</td><td>-0.511542</td><td>-1.197163</td><td>-4.169148</td><td>-0.234375</td><td>3</td></tr></tbody></table></div>"
      ],
      "text/plain": [
       "shape: (507_343, 8)\n",
       "┌──────────────┬───────────┬───────────┬───────────┬───────────┬───────────┬───────────┬───────┐\n",
       "│ timestamp    ┆ back_x    ┆ back_y    ┆ back_z    ┆ thigh_x   ┆ thigh_y   ┆ thigh_z   ┆ label │\n",
       "│ ---          ┆ ---       ┆ ---       ┆ ---       ┆ ---       ┆ ---       ┆ ---       ┆ ---   │\n",
       "│ datetime[μs] ┆ f64       ┆ f64       ┆ f64       ┆ f64       ┆ f64       ┆ f64       ┆ i64   │\n",
       "╞══════════════╪═══════════╪═══════════╪═══════════╪═══════════╪═══════════╪═══════════╪═══════╡\n",
       "│ 2019-01-12   ┆ 0.330293  ┆ 1.353248  ┆ 1.749055  ┆ -7.181078 ┆ -0.822551 ┆ 0.454455  ┆ 6     │\n",
       "│ 00:00:00     ┆           ┆           ┆           ┆           ┆           ┆           ┆       │\n",
       "│ 2019-01-12   ┆ -1.210939 ┆ 3.050026  ┆ 0.711515  ┆ -0.653571 ┆ 0.513943  ┆ -0.950917 ┆ 1     │\n",
       "│ 00:02:43.100 ┆           ┆           ┆           ┆           ┆           ┆           ┆       │\n",
       "│ 2019-01-12   ┆ -0.919255 ┆ 3.363959  ┆ 0.687889  ┆ -0.64915  ┆ 0.358385  ┆ -0.296835 ┆ 1     │\n",
       "│ 00:03:13.800 ┆           ┆           ┆           ┆           ┆           ┆           ┆       │\n",
       "│ 2019-01-12   ┆ -1.474371 ┆ 4.412604  ┆ 1.671156  ┆ -1.148571 ┆ 0.652607  ┆ -0.362975 ┆ 1     │\n",
       "│ 00:03:35.410 ┆           ┆           ┆           ┆           ┆           ┆           ┆       │\n",
       "│ 2019-01-12   ┆ -0.886602 ┆ 0.163189  ┆ 1.250953  ┆ -3.329005 ┆ 3.13183   ┆ -2.136228 ┆ 1     │\n",
       "│ 00:04:03.250 ┆           ┆           ┆           ┆           ┆           ┆           ┆       │\n",
       "│ …            ┆ …         ┆ …         ┆ …         ┆ …         ┆ …         ┆ …         ┆ …     │\n",
       "│ 2019-01-12   ┆ -1.652779 ┆ 0.6604    ┆ -0.663487 ┆ -3.570954 ┆ -2.380443 ┆ 0.808722  ┆ 1     │\n",
       "│ 00:59:30.400 ┆           ┆           ┆           ┆           ┆           ┆           ┆       │\n",
       "│ 2019-01-12   ┆ -0.780554 ┆ 1.381719  ┆ -1.068448 ┆ -3.534314 ┆ 1.696624  ┆ -1.552426 ┆ 1     │\n",
       "│ 00:59:30.420 ┆           ┆           ┆           ┆           ┆           ┆           ┆       │\n",
       "│ 2019-01-12   ┆ -0.461791 ┆ -0.048244 ┆ -0.160798 ┆ -4.045322 ┆ -2.165495 ┆ -4.413067 ┆ 1     │\n",
       "│ 00:59:31.500 ┆           ┆           ┆           ┆           ┆           ┆           ┆       │\n",
       "│ 2019-01-12   ┆ -0.430755 ┆ 0.126012  ┆ -0.18958  ┆ -3.476626 ┆ -3.895751 ┆ -4.952361 ┆ 1     │\n",
       "│ 00:59:31.520 ┆           ┆           ┆           ┆           ┆           ┆           ┆       │\n",
       "│ 2019-01-12   ┆ -0.787019 ┆ -0.103161 ┆ -0.511542 ┆ -1.197163 ┆ -4.169148 ┆ -0.234375 ┆ 3     │\n",
       "│ 00:59:55.320 ┆           ┆           ┆           ┆           ┆           ┆           ┆       │\n",
       "└──────────────┴───────────┴───────────┴───────────┴───────────┴───────────┴───────────┴───────┘"
      ]
     },
     "metadata": {},
     "output_type": "display_data"
    },
    {
     "data": {
      "text/markdown": [
       "Número de outliers detectados por IQR: $1399305$"
      ],
      "text/plain": [
       "<IPython.core.display.Markdown object>"
      ]
     },
     "metadata": {},
     "output_type": "display_data"
    },
    {
     "data": {
      "text/html": [
       "<div><style>\n",
       ".dataframe > thead > tr,\n",
       ".dataframe > tbody > tr {\n",
       "  text-align: right;\n",
       "  white-space: pre-wrap;\n",
       "}\n",
       "</style>\n",
       "<small>shape: (1_399_305, 8)</small><table border=\"1\" class=\"dataframe\"><thead><tr><th>timestamp</th><th>back_x</th><th>back_y</th><th>back_z</th><th>thigh_x</th><th>thigh_y</th><th>thigh_z</th><th>label</th></tr><tr><td>datetime[μs]</td><td>f64</td><td>f64</td><td>f64</td><td>f64</td><td>f64</td><td>f64</td><td>i64</td></tr></thead><tbody><tr><td>2019-01-12 00:00:00</td><td>0.330293</td><td>1.353248</td><td>1.749055</td><td>-7.181078</td><td>-0.822551</td><td>0.454455</td><td>6</td></tr><tr><td>2019-01-12 00:00:00.030</td><td>0.625506</td><td>0.129082</td><td>0.315552</td><td>-1.531676</td><td>-2.501871</td><td>-0.809751</td><td>6</td></tr><tr><td>2019-01-12 00:00:00.040</td><td>1.403332</td><td>-0.166845</td><td>0.153423</td><td>0.075705</td><td>0.308988</td><td>-1.397501</td><td>6</td></tr><tr><td>2019-01-12 00:00:00.050</td><td>1.337504</td><td>-0.359878</td><td>0.398052</td><td>-0.569856</td><td>0.542315</td><td>-1.102051</td><td>6</td></tr><tr><td>2019-01-12 00:00:00.070</td><td>-2.238628</td><td>0.277729</td><td>0.513598</td><td>-1.314569</td><td>-0.263245</td><td>-0.586286</td><td>6</td></tr><tr><td>&hellip;</td><td>&hellip;</td><td>&hellip;</td><td>&hellip;</td><td>&hellip;</td><td>&hellip;</td><td>&hellip;</td><td>&hellip;</td></tr><tr><td>2019-01-12 00:59:55.340</td><td>-0.75469</td><td>0.538949</td><td>-0.425195</td><td>-1.462605</td><td>-2.305023</td><td>-1.132202</td><td>3</td></tr><tr><td>2019-01-12 00:59:55.360</td><td>-0.383556</td><td>0.968782</td><td>-0.41047</td><td>-1.005387</td><td>1.599206</td><td>-1.222416</td><td>3</td></tr><tr><td>2019-01-12 00:59:55.380</td><td>-0.118463</td><td>0.496703</td><td>-0.279943</td><td>-0.498276</td><td>1.42574</td><td>-0.844314</td><td>3</td></tr><tr><td>2019-01-12 00:59:55.420</td><td>-0.361572</td><td>-0.211942</td><td>-0.245138</td><td>-0.67485</td><td>-1.987632</td><td>-0.729889</td><td>3</td></tr><tr><td>2019-01-12 00:59:55.440</td><td>-0.422352</td><td>-0.068312</td><td>-0.27392</td><td>-0.641328</td><td>-1.47792</td><td>-0.417125</td><td>3</td></tr></tbody></table></div>"
      ],
      "text/plain": [
       "shape: (1_399_305, 8)\n",
       "┌──────────────┬───────────┬───────────┬───────────┬───────────┬───────────┬───────────┬───────┐\n",
       "│ timestamp    ┆ back_x    ┆ back_y    ┆ back_z    ┆ thigh_x   ┆ thigh_y   ┆ thigh_z   ┆ label │\n",
       "│ ---          ┆ ---       ┆ ---       ┆ ---       ┆ ---       ┆ ---       ┆ ---       ┆ ---   │\n",
       "│ datetime[μs] ┆ f64       ┆ f64       ┆ f64       ┆ f64       ┆ f64       ┆ f64       ┆ i64   │\n",
       "╞══════════════╪═══════════╪═══════════╪═══════════╪═══════════╪═══════════╪═══════════╪═══════╡\n",
       "│ 2019-01-12   ┆ 0.330293  ┆ 1.353248  ┆ 1.749055  ┆ -7.181078 ┆ -0.822551 ┆ 0.454455  ┆ 6     │\n",
       "│ 00:00:00     ┆           ┆           ┆           ┆           ┆           ┆           ┆       │\n",
       "│ 2019-01-12   ┆ 0.625506  ┆ 0.129082  ┆ 0.315552  ┆ -1.531676 ┆ -2.501871 ┆ -0.809751 ┆ 6     │\n",
       "│ 00:00:00.030 ┆           ┆           ┆           ┆           ┆           ┆           ┆       │\n",
       "│ 2019-01-12   ┆ 1.403332  ┆ -0.166845 ┆ 0.153423  ┆ 0.075705  ┆ 0.308988  ┆ -1.397501 ┆ 6     │\n",
       "│ 00:00:00.040 ┆           ┆           ┆           ┆           ┆           ┆           ┆       │\n",
       "│ 2019-01-12   ┆ 1.337504  ┆ -0.359878 ┆ 0.398052  ┆ -0.569856 ┆ 0.542315  ┆ -1.102051 ┆ 6     │\n",
       "│ 00:00:00.050 ┆           ┆           ┆           ┆           ┆           ┆           ┆       │\n",
       "│ 2019-01-12   ┆ -2.238628 ┆ 0.277729  ┆ 0.513598  ┆ -1.314569 ┆ -0.263245 ┆ -0.586286 ┆ 6     │\n",
       "│ 00:00:00.070 ┆           ┆           ┆           ┆           ┆           ┆           ┆       │\n",
       "│ …            ┆ …         ┆ …         ┆ …         ┆ …         ┆ …         ┆ …         ┆ …     │\n",
       "│ 2019-01-12   ┆ -0.75469  ┆ 0.538949  ┆ -0.425195 ┆ -1.462605 ┆ -2.305023 ┆ -1.132202 ┆ 3     │\n",
       "│ 00:59:55.340 ┆           ┆           ┆           ┆           ┆           ┆           ┆       │\n",
       "│ 2019-01-12   ┆ -0.383556 ┆ 0.968782  ┆ -0.41047  ┆ -1.005387 ┆ 1.599206  ┆ -1.222416 ┆ 3     │\n",
       "│ 00:59:55.360 ┆           ┆           ┆           ┆           ┆           ┆           ┆       │\n",
       "│ 2019-01-12   ┆ -0.118463 ┆ 0.496703  ┆ -0.279943 ┆ -0.498276 ┆ 1.42574   ┆ -0.844314 ┆ 3     │\n",
       "│ 00:59:55.380 ┆           ┆           ┆           ┆           ┆           ┆           ┆       │\n",
       "│ 2019-01-12   ┆ -0.361572 ┆ -0.211942 ┆ -0.245138 ┆ -0.67485  ┆ -1.987632 ┆ -0.729889 ┆ 3     │\n",
       "│ 00:59:55.420 ┆           ┆           ┆           ┆           ┆           ┆           ┆       │\n",
       "│ 2019-01-12   ┆ -0.422352 ┆ -0.068312 ┆ -0.27392  ┆ -0.641328 ┆ -1.47792  ┆ -0.417125 ┆ 3     │\n",
       "│ 00:59:55.440 ┆           ┆           ┆           ┆           ┆           ┆           ┆       │\n",
       "└──────────────┴───────────┴───────────┴───────────┴───────────┴───────────┴───────────┴───────┘"
      ]
     },
     "metadata": {},
     "output_type": "display_data"
    }
   ],
   "source": [
    "sns.set_theme(style=\"whitegrid\")\n",
    "plt.figure(figsize=(15, 10))\n",
    "for i, col in enumerate(quantitative_cols):\n",
    "    plt.subplot(2, 3, i + 1)\n",
    "    sns.boxplot(y=df[col])\n",
    "    plt.title(f\"Boxplot de {col}\")\n",
    "plt.tight_layout()\n",
    "plt.show()\n",
    "\n",
    "# Z-Score\n",
    "z_scores = stats.zscore(df[quantitative_cols])\n",
    "abs_z_scores = abs(z_scores)\n",
    "outliers_z = (abs_z_scores > 3).any(axis=1)  # noqa: PLR2004\n",
    "\n",
    "# Muestra las filas que son outliers\n",
    "outlier_rows_z = df.filter(outliers_z)\n",
    "display(\n",
    "    Markdown(\n",
    "        f\"Número de outliers detectados por Z-Score: ${outlier_rows_z.shape[0]}$\",\n",
    "    ),\n",
    "    outlier_rows_z,\n",
    ")\n",
    "\n",
    "# IQR (Rango Intercuartílico)\n",
    "Q1 = df[quantitative_cols].quantile(0.25)\n",
    "Q3 = df[quantitative_cols].quantile(0.75)\n",
    "IQR = Q3 - Q1\n",
    "\n",
    "# Define límites para detectar outliers\n",
    "lower_bound = Q1 - 1.5 * IQR\n",
    "upper_bound = Q3 + 1.5 * IQR\n",
    "\n",
    "# Detecta outliers\n",
    "outliers_iqr: list[bool] = (\n",
    "    (df[quantitative_cols].to_numpy() < lower_bound.to_numpy())\n",
    "    | (df[quantitative_cols].to_numpy() > upper_bound.to_numpy())\n",
    ").any(axis=1)\n",
    "\n",
    "\n",
    "# Muestra las filas que son outliers\n",
    "outlier_rows_iqr = df.filter(outliers_iqr)\n",
    "display(\n",
    "    Markdown(\n",
    "        f\"Número de outliers detectados por IQR: ${outlier_rows_iqr.shape[0]}$\"\n",
    "    ),\n",
    "    outlier_rows_iqr,\n",
    ")"
   ]
  },
  {
   "cell_type": "code",
   "execution_count": 9,
   "metadata": {
    "colab": {
     "base_uri": "https://localhost:8080/",
     "height": 816
    },
    "execution": {
     "iopub.execute_input": "2025-05-29T04:54:06.804351Z",
     "iopub.status.busy": "2025-05-29T04:54:06.804106Z",
     "iopub.status.idle": "2025-05-29T04:54:08.036744Z",
     "shell.execute_reply": "2025-05-29T04:54:08.036313Z"
    },
    "id": "Ot9Xep_J_YYB",
    "outputId": "46f6b623-ec9d-4e74-d3c3-a84a79520b01"
   },
   "outputs": [
    {
     "data": {
      "text/markdown": [
       "Primeras filas del DataFrame preprocesado:"
      ],
      "text/plain": [
       "<IPython.core.display.Markdown object>"
      ]
     },
     "metadata": {},
     "output_type": "display_data"
    },
    {
     "data": {
      "text/html": [
       "<div><style>\n",
       ".dataframe > thead > tr,\n",
       ".dataframe > tbody > tr {\n",
       "  text-align: right;\n",
       "  white-space: pre-wrap;\n",
       "}\n",
       "</style>\n",
       "<small>shape: (5, 8)</small><table border=\"1\" class=\"dataframe\"><thead><tr><th>timestamp</th><th>back_x</th><th>back_y</th><th>back_z</th><th>thigh_x</th><th>thigh_y</th><th>thigh_z</th><th>label</th></tr><tr><td>datetime[μs]</td><td>f64</td><td>f64</td><td>f64</td><td>f64</td><td>f64</td><td>f64</td><td>i64</td></tr></thead><tbody><tr><td>2019-01-12 00:00:00</td><td>0.330293</td><td>1.353248</td><td>1.749055</td><td>-7.181078</td><td>-0.822551</td><td>0.454455</td><td>6</td></tr><tr><td>2019-01-12 00:00:00.010</td><td>0.93969</td><td>1.276724</td><td>1.341687</td><td>2.387553</td><td>0.684944</td><td>-0.047014</td><td>6</td></tr><tr><td>2019-01-12 00:00:00.020</td><td>-0.757338</td><td>0.863492</td><td>0.006493</td><td>0.893189</td><td>-0.255631</td><td>-1.209252</td><td>6</td></tr><tr><td>2019-01-12 00:00:00.030</td><td>0.625506</td><td>0.129082</td><td>0.315552</td><td>-1.531676</td><td>-2.501871</td><td>-0.809751</td><td>6</td></tr><tr><td>2019-01-12 00:00:00.040</td><td>1.403332</td><td>-0.166845</td><td>0.153423</td><td>0.075705</td><td>0.308988</td><td>-1.397501</td><td>6</td></tr></tbody></table></div>"
      ],
      "text/plain": [
       "shape: (5, 8)\n",
       "┌──────────────┬───────────┬───────────┬──────────┬───────────┬───────────┬───────────┬───────┐\n",
       "│ timestamp    ┆ back_x    ┆ back_y    ┆ back_z   ┆ thigh_x   ┆ thigh_y   ┆ thigh_z   ┆ label │\n",
       "│ ---          ┆ ---       ┆ ---       ┆ ---      ┆ ---       ┆ ---       ┆ ---       ┆ ---   │\n",
       "│ datetime[μs] ┆ f64       ┆ f64       ┆ f64      ┆ f64       ┆ f64       ┆ f64       ┆ i64   │\n",
       "╞══════════════╪═══════════╪═══════════╪══════════╪═══════════╪═══════════╪═══════════╪═══════╡\n",
       "│ 2019-01-12   ┆ 0.330293  ┆ 1.353248  ┆ 1.749055 ┆ -7.181078 ┆ -0.822551 ┆ 0.454455  ┆ 6     │\n",
       "│ 00:00:00     ┆           ┆           ┆          ┆           ┆           ┆           ┆       │\n",
       "│ 2019-01-12   ┆ 0.93969   ┆ 1.276724  ┆ 1.341687 ┆ 2.387553  ┆ 0.684944  ┆ -0.047014 ┆ 6     │\n",
       "│ 00:00:00.010 ┆           ┆           ┆          ┆           ┆           ┆           ┆       │\n",
       "│ 2019-01-12   ┆ -0.757338 ┆ 0.863492  ┆ 0.006493 ┆ 0.893189  ┆ -0.255631 ┆ -1.209252 ┆ 6     │\n",
       "│ 00:00:00.020 ┆           ┆           ┆          ┆           ┆           ┆           ┆       │\n",
       "│ 2019-01-12   ┆ 0.625506  ┆ 0.129082  ┆ 0.315552 ┆ -1.531676 ┆ -2.501871 ┆ -0.809751 ┆ 6     │\n",
       "│ 00:00:00.030 ┆           ┆           ┆          ┆           ┆           ┆           ┆       │\n",
       "│ 2019-01-12   ┆ 1.403332  ┆ -0.166845 ┆ 0.153423 ┆ 0.075705  ┆ 0.308988  ┆ -1.397501 ┆ 6     │\n",
       "│ 00:00:00.040 ┆           ┆           ┆          ┆           ┆           ┆           ┆       │\n",
       "└──────────────┴───────────┴───────────┴──────────┴───────────┴───────────┴───────────┴───────┘"
      ]
     },
     "metadata": {},
     "output_type": "display_data"
    },
    {
     "data": {
      "text/markdown": [
       "Resumen estadístico del DataFrame preprocesado:"
      ],
      "text/plain": [
       "<IPython.core.display.Markdown object>"
      ]
     },
     "metadata": {},
     "output_type": "display_data"
    },
    {
     "data": {
      "text/html": [
       "<div><style>\n",
       ".dataframe > thead > tr,\n",
       ".dataframe > tbody > tr {\n",
       "  text-align: right;\n",
       "  white-space: pre-wrap;\n",
       "}\n",
       "</style>\n",
       "<small>shape: (9, 9)</small><table border=\"1\" class=\"dataframe\"><thead><tr><th>statistic</th><th>timestamp</th><th>back_x</th><th>back_y</th><th>back_z</th><th>thigh_x</th><th>thigh_y</th><th>thigh_z</th><th>label</th></tr><tr><td>str</td><td>str</td><td>f64</td><td>f64</td><td>f64</td><td>f64</td><td>f64</td><td>f64</td><td>f64</td></tr></thead><tbody><tr><td>&quot;count&quot;</td><td>&quot;6461328&quot;</td><td>6.461328e6</td><td>6.461328e6</td><td>6.461328e6</td><td>6.461328e6</td><td>6.461328e6</td><td>6.461328e6</td><td>6.461328e6</td></tr><tr><td>&quot;null_count&quot;</td><td>&quot;0&quot;</td><td>0.0</td><td>0.0</td><td>0.0</td><td>0.0</td><td>0.0</td><td>0.0</td><td>0.0</td></tr><tr><td>&quot;mean&quot;</td><td>&quot;2012-02-20 18:20:58.805005&quot;</td><td>-2.0081e-13</td><td>1.8051e-16</td><td>3.2458e-14</td><td>-2.7717e-15</td><td>1.1915e-14</td><td>-1.0838e-13</td><td>6.783833</td></tr><tr><td>&quot;std&quot;</td><td>null</td><td>1.0</td><td>1.0</td><td>1.0</td><td>1.0</td><td>1.0</td><td>1.0</td><td>11.432381</td></tr><tr><td>&quot;min&quot;</td><td>&quot;2000-01-01 00:00:00&quot;</td><td>-18.843224</td><td>-18.576544</td><td>-17.560763</td><td>-11.822707</td><td>-20.641445</td><td>-11.377443</td><td>1.0</td></tr><tr><td>&quot;25%&quot;</td><td>&quot;2000-01-01 01:23:47.680000&quot;</td><td>-0.311011</td><td>-0.302234</td><td>-0.555719</td><td>-0.605612</td><td>-0.311401</td><td>-0.720868</td><td>3.0</td></tr><tr><td>&quot;50%&quot;</td><td>&quot;2019-01-12 00:12:46.760000&quot;</td><td>-0.2382</td><td>0.068585</td><td>0.087534</td><td>0.276456</td><td>0.030255</td><td>0.442228</td><td>7.0</td></tr><tr><td>&quot;75%&quot;</td><td>&quot;2019-01-12 00:49:20.500000&quot;</td><td>0.192415</td><td>0.37103</td><td>0.591797</td><td>0.681751</td><td>0.345152</td><td>0.779459</td><td>7.0</td></tr><tr><td>&quot;max&quot;</td><td>&quot;2019-01-12 02:23:36.720000&quot;</td><td>8.412968</td><td>28.140243</td><td>13.924667</td><td>13.721867</td><td>20.540245</td><td>10.910662</td><td>140.0</td></tr></tbody></table></div>"
      ],
      "text/plain": [
       "shape: (9, 9)\n",
       "┌───────────┬───────────┬───────────┬───────────┬───┬───────────┬───────────┬───────────┬──────────┐\n",
       "│ statistic ┆ timestamp ┆ back_x    ┆ back_y    ┆ … ┆ thigh_x   ┆ thigh_y   ┆ thigh_z   ┆ label    │\n",
       "│ ---       ┆ ---       ┆ ---       ┆ ---       ┆   ┆ ---       ┆ ---       ┆ ---       ┆ ---      │\n",
       "│ str       ┆ str       ┆ f64       ┆ f64       ┆   ┆ f64       ┆ f64       ┆ f64       ┆ f64      │\n",
       "╞═══════════╪═══════════╪═══════════╪═══════════╪═══╪═══════════╪═══════════╪═══════════╪══════════╡\n",
       "│ count     ┆ 6461328   ┆ 6.461328e ┆ 6.461328e ┆ … ┆ 6.461328e ┆ 6.461328e ┆ 6.461328e ┆ 6.461328 │\n",
       "│           ┆           ┆ 6         ┆ 6         ┆   ┆ 6         ┆ 6         ┆ 6         ┆ e6       │\n",
       "│ null_coun ┆ 0         ┆ 0.0       ┆ 0.0       ┆ … ┆ 0.0       ┆ 0.0       ┆ 0.0       ┆ 0.0      │\n",
       "│ t         ┆           ┆           ┆           ┆   ┆           ┆           ┆           ┆          │\n",
       "│ mean      ┆ 2012-02-2 ┆ -2.0081e- ┆ 1.8051e-1 ┆ … ┆ -2.7717e- ┆ 1.1915e-1 ┆ -1.0838e- ┆ 6.783833 │\n",
       "│           ┆ 0 18:20:5 ┆ 13        ┆ 6         ┆   ┆ 15        ┆ 4         ┆ 13        ┆          │\n",
       "│           ┆ 8.805005  ┆           ┆           ┆   ┆           ┆           ┆           ┆          │\n",
       "│ std       ┆ null      ┆ 1.0       ┆ 1.0       ┆ … ┆ 1.0       ┆ 1.0       ┆ 1.0       ┆ 11.43238 │\n",
       "│           ┆           ┆           ┆           ┆   ┆           ┆           ┆           ┆ 1        │\n",
       "│ min       ┆ 2000-01-0 ┆ -18.84322 ┆ -18.57654 ┆ … ┆ -11.82270 ┆ -20.64144 ┆ -11.37744 ┆ 1.0      │\n",
       "│           ┆ 1         ┆ 4         ┆ 4         ┆   ┆ 7         ┆ 5         ┆ 3         ┆          │\n",
       "│           ┆ 00:00:00  ┆           ┆           ┆   ┆           ┆           ┆           ┆          │\n",
       "│ 25%       ┆ 2000-01-0 ┆ -0.311011 ┆ -0.302234 ┆ … ┆ -0.605612 ┆ -0.311401 ┆ -0.720868 ┆ 3.0      │\n",
       "│           ┆ 1 01:23:4 ┆           ┆           ┆   ┆           ┆           ┆           ┆          │\n",
       "│           ┆ 7.680000  ┆           ┆           ┆   ┆           ┆           ┆           ┆          │\n",
       "│ 50%       ┆ 2019-01-1 ┆ -0.2382   ┆ 0.068585  ┆ … ┆ 0.276456  ┆ 0.030255  ┆ 0.442228  ┆ 7.0      │\n",
       "│           ┆ 2 00:12:4 ┆           ┆           ┆   ┆           ┆           ┆           ┆          │\n",
       "│           ┆ 6.760000  ┆           ┆           ┆   ┆           ┆           ┆           ┆          │\n",
       "│ 75%       ┆ 2019-01-1 ┆ 0.192415  ┆ 0.37103   ┆ … ┆ 0.681751  ┆ 0.345152  ┆ 0.779459  ┆ 7.0      │\n",
       "│           ┆ 2 00:49:2 ┆           ┆           ┆   ┆           ┆           ┆           ┆          │\n",
       "│           ┆ 0.500000  ┆           ┆           ┆   ┆           ┆           ┆           ┆          │\n",
       "│ max       ┆ 2019-01-1 ┆ 8.412968  ┆ 28.140243 ┆ … ┆ 13.721867 ┆ 20.540245 ┆ 10.910662 ┆ 140.0    │\n",
       "│           ┆ 2 02:23:3 ┆           ┆           ┆   ┆           ┆           ┆           ┆          │\n",
       "│           ┆ 6.720000  ┆           ┆           ┆   ┆           ┆           ┆           ┆          │\n",
       "└───────────┴───────────┴───────────┴───────────┴───┴───────────┴───────────┴───────────┴──────────┘"
      ]
     },
     "metadata": {},
     "output_type": "display_data"
    },
    {
     "data": {
      "text/markdown": [
       "Información del DataFrame preprocesado:"
      ],
      "text/plain": [
       "<IPython.core.display.Markdown object>"
      ]
     },
     "metadata": {},
     "output_type": "display_data"
    },
    {
     "data": {
      "text/html": [
       "<div><style>\n",
       ".dataframe > thead > tr,\n",
       ".dataframe > tbody > tr {\n",
       "  text-align: right;\n",
       "  white-space: pre-wrap;\n",
       "}\n",
       "</style>\n",
       "<small>shape: (0, 8)</small><table border=\"1\" class=\"dataframe\"><thead><tr><th>timestamp</th><th>back_x</th><th>back_y</th><th>back_z</th><th>thigh_x</th><th>thigh_y</th><th>thigh_z</th><th>label</th></tr><tr><td>datetime[μs]</td><td>f64</td><td>f64</td><td>f64</td><td>f64</td><td>f64</td><td>f64</td><td>i64</td></tr></thead><tbody></tbody></table></div>"
      ],
      "text/plain": [
       "shape: (0, 8)\n",
       "┌──────────────┬────────┬────────┬────────┬─────────┬─────────┬─────────┬───────┐\n",
       "│ timestamp    ┆ back_x ┆ back_y ┆ back_z ┆ thigh_x ┆ thigh_y ┆ thigh_z ┆ label │\n",
       "│ ---          ┆ ---    ┆ ---    ┆ ---    ┆ ---     ┆ ---     ┆ ---     ┆ ---   │\n",
       "│ datetime[μs] ┆ f64    ┆ f64    ┆ f64    ┆ f64     ┆ f64     ┆ f64     ┆ i64   │\n",
       "╞══════════════╪════════╪════════╪════════╪═════════╪═════════╪═════════╪═══════╡\n",
       "└──────────────┴────────┴────────┴────────┴─────────┴─────────┴─────────┴───────┘"
      ]
     },
     "metadata": {},
     "output_type": "display_data"
    },
    {
     "data": {
      "text/markdown": [
       "394.3681640625 MB"
      ],
      "text/plain": [
       "<IPython.core.display.Markdown object>"
      ]
     },
     "metadata": {},
     "output_type": "display_data"
    }
   ],
   "source": [
    "display(\n",
    "    Markdown(\"Primeras filas del DataFrame preprocesado:\"),\n",
    "    df.head(),\n",
    "    Markdown(\"Resumen estadístico del DataFrame preprocesado:\"),\n",
    "    df.describe(),\n",
    "    Markdown(\"Información del DataFrame preprocesado:\"),\n",
    "    df.schema.to_frame(),\n",
    "    Markdown(f\"{df.estimated_size('mb')} MB\"),\n",
    ")"
   ]
  },
  {
   "cell_type": "code",
   "execution_count": 10,
   "metadata": {
    "colab": {
     "base_uri": "https://localhost:8080/"
    },
    "execution": {
     "iopub.execute_input": "2025-05-29T04:54:08.038189Z",
     "iopub.status.busy": "2025-05-29T04:54:08.038026Z",
     "iopub.status.idle": "2025-05-29T04:54:08.395080Z",
     "shell.execute_reply": "2025-05-29T04:54:08.394462Z"
    },
    "id": "QvpFuRJ2JiqB",
    "outputId": "e13b0edd-e5ce-40c3-bf6b-2156b5c62340"
   },
   "outputs": [
    {
     "data": {
      "text/plain": [
       "['timestamp',\n",
       " 'back_x',\n",
       " 'back_y',\n",
       " 'back_z',\n",
       " 'thigh_x',\n",
       " 'thigh_y',\n",
       " 'thigh_z',\n",
       " 'label',\n",
       " 'PC1',\n",
       " 'PC2']"
      ]
     },
     "execution_count": 10,
     "metadata": {},
     "output_type": "execute_result"
    }
   ],
   "source": [
    "# Aplicar PCA para reducir a 2 dimensiones\n",
    "pca = PCA(n_components=2)\n",
    "principal_components = pca.fit_transform(df[quantitative_cols].to_arrow())\n",
    "df = df.with_columns(\n",
    "    [\n",
    "        pl.Series(\"PC1\", principal_components[:, 0]),\n",
    "        pl.Series(\"PC2\", principal_components[:, 1]),\n",
    "    ]\n",
    ")\n",
    "\n",
    "df.columns"
   ]
  },
  {
   "cell_type": "markdown",
   "metadata": {
    "id": "elnj9Hqqx0JY"
   },
   "source": [
    "## **4. Descripción del conjunto de datos**\n"
   ]
  },
  {
   "cell_type": "markdown",
   "metadata": {
    "id": "cf9hjpFZT1Mj"
   },
   "source": [
    "El conjunto de datos contiene registros de acelerómetros con mediciones en\n",
    "diferentes ejes para la espalda (back_x, back_y, back_z) y el muslo (thigh_x,\n",
    "thigh_y, thigh_z), junto con una etiqueta (label) que clasifica la actividad.\n",
    "\n",
    "- Se identificaron 6,461,328 registros en total.\n",
    "\n",
    "- Se realizó un análisis exploratorio, mostrando la media cercana a 0 tras\n",
    "  normalización, lo que sugiere datos estandarizados.\n",
    "\n",
    "- Se detectaron 507,343 valores atípicos usando Z-Score, indicando posibles\n",
    "  variaciones extremas en la actividad.\n",
    "\n",
    "- Se aplicó **PCA**(Análisis de Componentes Principales ) para reducir la\n",
    "  dimensionalidad a 2 componentes principales, facilitando la visualización de\n",
    "  patrones en los datos.\n"
   ]
  },
  {
   "cell_type": "markdown",
   "metadata": {
    "id": "BQuOgGVBbrOL"
   },
   "source": [
    "## **5. Análisis Exploratorio de Datos (EDA)**\n"
   ]
  },
  {
   "cell_type": "markdown",
   "metadata": {
    "id": "z8PexLIRc3G5"
   },
   "source": [
    "Se realizará un análisis exploratorio de los datos obtenidos por acelerómetros\n",
    "para identificar patrones, anomalías y relaciones entre variables mediante\n",
    "histogramas y matrices de correlación. Este proceso optimizará la selección de\n",
    "características y la normalización de los datos para aplicar clustering con\n",
    "K-Means de manera efectiva.\n"
   ]
  },
  {
   "cell_type": "markdown",
   "metadata": {
    "id": "hhcZdhYhdPrO"
   },
   "source": [
    "### **5.1 Histogramas por Componente Espacial del Sensor**\n"
   ]
  },
  {
   "cell_type": "code",
   "execution_count": 11,
   "metadata": {
    "colab": {
     "base_uri": "https://localhost:8080/",
     "height": 1000
    },
    "execution": {
     "iopub.execute_input": "2025-05-29T04:54:08.401741Z",
     "iopub.status.busy": "2025-05-29T04:54:08.401494Z",
     "iopub.status.idle": "2025-05-29T04:54:09.550155Z",
     "shell.execute_reply": "2025-05-29T04:54:09.549750Z"
    },
    "id": "J5AodM4ubum1",
    "outputId": "c61fd9e2-c2f6-497d-bba6-6e00b2f0847f"
   },
   "outputs": [
    {
     "data": {
      "image/png": "[encoded data removed]",
      "text/plain": [
       "<Figure size 1500x1000 with 6 Axes>"
      ]
     },
     "metadata": {},
     "output_type": "display_data"
    }
   ],
   "source": [
    "plt.figure(figsize=(15, 10))\n",
    "for i, col in enumerate(quantitative_cols):\n",
    "    plt.subplot(2, 3, i + 1)\n",
    "    plt.hist(df[col], bins=20)\n",
    "    plt.title(f\"Histograma de {col}\")\n",
    "    plt.xlabel(col)\n",
    "    plt.ylabel(\"Frecuencia\")\n",
    "plt.tight_layout()\n",
    "plt.show()"
   ]
  },
  {
   "cell_type": "markdown",
   "metadata": {
    "id": "3zHFiddZd1fq"
   },
   "source": [
    "### **5.2 Gráficas de Densidad KDE por Eje de Movimiento y Actividad**\n"
   ]
  },
  {
   "cell_type": "code",
   "execution_count": null,
   "metadata": {
    "colab": {
     "base_uri": "https://localhost:8080/",
     "height": 1000
    },
    "execution": {
     "iopub.execute_input": "2025-05-29T04:54:09.551661Z",
     "iopub.status.busy": "2025-05-29T04:54:09.551510Z",
     "iopub.status.idle": "2025-05-29T04:55:40.297051Z",
     "shell.execute_reply": "2025-05-29T04:55:40.296574Z"
    },
    "id": "IvQunKxtia-K",
    "outputId": "d3822b46-6e9c-4bcd-87d4-14be8a4e8a40"
   },
   "outputs": [],
   "source": [
    "cols = 3\n",
    "rows = math.ceil(len(quantitative_cols) / cols)\n",
    "fig, axs = plt.subplots(rows, cols, figsize=(15, 5 * rows))\n",
    "\n",
    "axs = axs.flatten()\n",
    "\n",
    "i = 0\n",
    "for i, column in enumerate(quantitative_cols):\n",
    "    sns.kdeplot(\n",
    "        data=df,\n",
    "        x=column,\n",
    "        hue=\"label\",\n",
    "        fill=True,\n",
    "        common_norm=False,\n",
    "        alpha=0.5,\n",
    "        ax=axs[i],\n",
    "    )\n",
    "    axs[i].set_title(f\"Densidad de {column} según la actividad\")\n",
    "\n",
    "# Ocultar los gráficos vacíos\n",
    "for j in range(i + 1, len(axs)):\n",
    "    fig.delaxes(axs[j])\n",
    "\n",
    "plt.tight_layout()\n",
    "plt.show()"
   ]
  },
  {
   "cell_type": "markdown",
   "metadata": {
    "id": "-iO8tYGueQQV"
   },
   "source": [
    "### **5.3 Histograma de Frecuencia por Tipo de Actividad**\n"
   ]
  },
  {
   "cell_type": "code",
   "execution_count": null,
   "metadata": {
    "colab": {
     "base_uri": "https://localhost:8080/",
     "height": 573
    },
    "execution": {
     "iopub.execute_input": "2025-05-29T04:55:40.298658Z",
     "iopub.status.busy": "2025-05-29T04:55:40.298391Z",
     "iopub.status.idle": "2025-05-29T04:55:45.148504Z",
     "shell.execute_reply": "2025-05-29T04:55:45.148022Z"
    },
    "id": "RRZ2MZnYbxBk",
    "outputId": "2eee3634-a9be-4157-d3df-03b684ee606c"
   },
   "outputs": [],
   "source": [
    "plt.figure(figsize=(8, 6))\n",
    "sns.countplot(x=\"label\", data=df)\n",
    "plt.title(\"Distribución de Actividades\")\n",
    "plt.xlabel(\"Código de Actividad\")\n",
    "plt.ylabel(\"Cantidad de Muestras\")\n",
    "plt.show()"
   ]
  },
  {
   "cell_type": "markdown",
   "metadata": {
    "id": "2MIQM2Y8eV37"
   },
   "source": [
    "### **5.4 Matriz de Correlación**\n"
   ]
  },
  {
   "cell_type": "code",
   "execution_count": null,
   "metadata": {
    "colab": {
     "base_uri": "https://localhost:8080/",
     "height": 703
    },
    "execution": {
     "iopub.execute_input": "2025-05-29T04:55:45.150166Z",
     "iopub.status.busy": "2025-05-29T04:55:45.149987Z",
     "iopub.status.idle": "2025-05-29T04:55:45.849600Z",
     "shell.execute_reply": "2025-05-29T04:55:45.849053Z"
    },
    "id": "7yhoPf-qbyRD",
    "outputId": "e17d1c75-f09f-43c8-fff9-5c4bcbc6c819"
   },
   "outputs": [],
   "source": [
    "corr_matrix = df[quantitative_cols].corr()\n",
    "\n",
    "plt.figure(figsize=(10, 8))\n",
    "sns.heatmap(corr_matrix, annot=True, cmap=\"coolwarm\", vmin=-1, vmax=1)\n",
    "plt.title(\"Matriz de Correlación de Datos del Acelerómetro\")\n",
    "plt.show()"
   ]
  },
  {
   "cell_type": "markdown",
   "metadata": {
    "id": "KeAJHo4SenLq"
   },
   "source": [
    "### **5.5 Gráfico de Dispersión de Análisis de Componentes Principales (PCA)**\n"
   ]
  },
  {
   "cell_type": "code",
   "execution_count": null,
   "metadata": {
    "colab": {
     "base_uri": "https://localhost:8080/",
     "height": 573
    },
    "execution": {
     "iopub.execute_input": "2025-05-29T04:55:45.851069Z",
     "iopub.status.busy": "2025-05-29T04:55:45.850887Z",
     "iopub.status.idle": "2025-05-29T04:57:32.726420Z",
     "shell.execute_reply": "2025-05-29T04:57:32.725942Z"
    },
    "id": "NUuXhuEybzTg",
    "outputId": "c712f73d-3c51-4530-c887-aecd954a7eb3"
   },
   "outputs": [],
   "source": [
    "plt.figure(figsize=(8, 6))\n",
    "sns.scatterplot(x=\"PC1\", y=\"PC2\", hue=\"label\", data=df, palette=\"deep\")\n",
    "plt.title(\"PCA de Datos del Acelerómetro\")\n",
    "plt.xlabel(\"Componente Principal 1\")\n",
    "plt.ylabel(\"Componente Principal 2\")\n",
    "plt.legend(loc=\"upper right\")\n",
    "plt.show()"
   ]
  },
  {
   "cell_type": "markdown",
   "metadata": {
    "id": "F73S2X0HyNfI"
   },
   "source": [
    "## **6. Aplicación de K-Means para Clustering**\n"
   ]
  },
  {
   "cell_type": "markdown",
   "metadata": {
    "id": "YrCFmShiG8CO"
   },
   "source": [
    "El clustering es una técnica de aprendizaje no supervisado que se utiliza para\n",
    "agrupar datos en función de sus características. En este caso, aplicaremos el\n",
    "algoritmo K-Means para identificar patrones en los datos del acelerómetro. El\n",
    "objetivo es agrupar las muestras en diferentes clústeres basados en las\n",
    "características cuantitativas, lo que puede ayudarnos a entender mejor las\n",
    "diferentes actividades representadas en el conjunto de datos.\n"
   ]
  },
  {
   "cell_type": "markdown",
   "metadata": {
    "id": "JfwoPtabfAlz"
   },
   "source": [
    "### **6.1 Mapeo de etiquetas de actividad, filtrado y muestreo del dataset para análisis posterior**\n"
   ]
  },
  {
   "cell_type": "code",
   "execution_count": null,
   "metadata": {
    "execution": {
     "iopub.execute_input": "2025-05-29T04:59:52.621657Z",
     "iopub.status.busy": "2025-05-29T04:59:52.621318Z",
     "iopub.status.idle": "2025-05-29T04:59:52.628541Z",
     "shell.execute_reply": "2025-05-29T04:59:52.628156Z"
    },
    "id": "C6U3ukI4bZlW"
   },
   "outputs": [],
   "source": [
    "# Mapear etiquetas a nombres usando Polars\n",
    "label_mapping = {\n",
    "    1: \"walking\",\n",
    "    2: \"running\",\n",
    "    3: \"shuffling\",\n",
    "    4: \"stairs_up\",\n",
    "    5: \"stairs_down\",\n",
    "    6: \"standing\",\n",
    "    7: \"sitting\",\n",
    "    8: \"lying\",\n",
    "    13: \"cycling_sit\",\n",
    "    14: \"cycling_stand\",\n",
    "    130: \"cycling_sit_inactive\",\n",
    "    140: \"cycling_stand_inactive\",\n",
    "}\n",
    "\n",
    "# Agregar columna de actividad usando Polars, asegurando que sea str\n",
    "df = df.with_columns(\n",
    "    pl.col(\"label\")\n",
    "    .map_elements(\n",
    "        lambda x: label_mapping.get(x, \"unknown\"), return_dtype=pl.Utf8\n",
    "    )\n",
    "    .alias(\"activity\")\n",
    ")\n",
    "\n",
    "# Reducimos la cantidad de filas a solo una centésima parte\n",
    "size = df.shape[0] // 100\n",
    "df = df.drop_nulls(subset=[\"activity\"]).sample(n=size, seed=42)\n",
    "\n",
    "# Seleccionar variables para el modelo\n",
    "features = [\"back_x\", \"back_y\", \"back_z\", \"thigh_x\", \"thigh_y\", \"thigh_z\"]\n",
    "\n",
    "\n",
    "x = df[features].to_numpy()\n",
    "y = df[\"activity\"].to_numpy()"
   ]
  },
  {
   "cell_type": "markdown",
   "metadata": {
    "id": "YKscUOzSihed"
   },
   "source": [
    "### **6.2 Normalización de características y determinación del número óptimo de clústeres con el Método del Codo**\n"
   ]
  },
  {
   "cell_type": "code",
   "execution_count": null,
   "metadata": {
    "id": "vPb9NJSLlUAn"
   },
   "outputs": [],
   "source": [
    "# Normalización\n",
    "scaler = StandardScaler()\n",
    "x_scaled = scaler.fit_transform(x)"
   ]
  },
  {
   "cell_type": "code",
   "execution_count": null,
   "metadata": {
    "colab": {
     "base_uri": "https://localhost:8080/",
     "height": 496
    },
    "id": "ykpw8iqCcI0z",
    "outputId": "ff361836-eafd-4b2e-ea59-246310b39b0d"
   },
   "outputs": [],
   "source": [
    "# MÉTODO DEL CODO\n",
    "inertia = []\n",
    "k_range = range(1, 6)  # ✅ menor rango, más rápido\n",
    "\n",
    "for k in k_range:\n",
    "    kmeans = MiniBatchKMeans(n_clusters=k, random_state=42, batch_size=1024)\n",
    "    kmeans.fit(x_scaled)\n",
    "    inertia.append(kmeans.inertia_)\n",
    "\n",
    "# Gráfica del Codo\n",
    "plt.figure(figsize=(8, 5))\n",
    "plt.plot(k_range, inertia, \"bo-\")\n",
    "plt.xlabel(\"Número de Clústeres (K)\")\n",
    "plt.ylabel(\"Inercia\")\n",
    "plt.title(\"Método del Codo\")\n",
    "plt.grid(visible=True)\n",
    "plt.show()"
   ]
  },
  {
   "cell_type": "markdown",
   "metadata": {
    "id": "M8jDVpguj18s"
   },
   "source": [
    "El número óptimo de clústeres es K = 3 porque es donde la curva del gráfico\n",
    "forma un “codo”. Esto significa que con tres clústeres se logra una buena\n",
    "separación de los datos, y añadir más ya no mejora mucho el resultado.\n"
   ]
  },
  {
   "cell_type": "markdown",
   "metadata": {
    "id": "2Osd55UGlEUv"
   },
   "source": [
    "### **6.3 método del coeficiente de silueta**\n"
   ]
  },
  {
   "cell_type": "code",
   "execution_count": null,
   "metadata": {
    "colab": {
     "base_uri": "https://localhost:8080/",
     "height": 496
    },
    "id": "rk0vA1p0lDUV",
    "outputId": "fb845e47-91b8-4a19-fb12-56add569d3b0"
   },
   "outputs": [],
   "source": [
    "# Rango de K\n",
    "k_range = range(2, 6)\n",
    "\n",
    "# Lista para almacenar los scores\n",
    "silhouette_scores = []\n",
    "\n",
    "# Calcular score de silueta para cada K\n",
    "for k in k_range:\n",
    "    kmeans = MiniBatchKMeans(n_clusters=k, random_state=42, batch_size=1024)\n",
    "    labels = kmeans.fit_predict(x_scaled)\n",
    "    score = silhouette_score(x_scaled, labels)\n",
    "    silhouette_scores.append(score)\n",
    "\n",
    "# Graficar resultados\n",
    "plt.figure(figsize=(8, 5))\n",
    "plt.plot(k_range, silhouette_scores, \"go-\")\n",
    "plt.xlabel(\"Número de Clústeres (K)\")\n",
    "plt.ylabel(\"Coeficiente de Silueta\")\n",
    "plt.title(\"Método del Coeficiente de Silueta\")\n",
    "plt.grid(visible=True)\n",
    "plt.show()"
   ]
  },
  {
   "cell_type": "markdown",
   "metadata": {
    "id": "Sy_6sRIhnEGm"
   },
   "source": [
    "La gráfica del coeficiente de silueta muestra que K = 2 tiene la mejor\n",
    "separación entre clústeres, ya que alcanza el valor más alto. Aunque el método\n",
    "del codo sugiere K = 3 como un buen punto, la silueta indica que agrupar en dos\n",
    "clústeres da resultados más claros.\n"
   ]
  },
  {
   "cell_type": "markdown",
   "metadata": {
    "id": "rePhkc0un-tj"
   },
   "source": [
    "### **6.4 Clustering final con K óptimo y asignación de clusters al dataframe**\n"
   ]
  },
  {
   "cell_type": "code",
   "execution_count": null,
   "metadata": {
    "id": "lt-urpyAcI00"
   },
   "outputs": [],
   "source": [
    "# Clustering final con K óptimo\n",
    "optimal_k = 3\n",
    "kmeans_final = MiniBatchKMeans(\n",
    "    n_clusters=optimal_k, random_state=42, batch_size=1024\n",
    ")\n",
    "clusters = kmeans_final.fit_predict(x_scaled)\n",
    "\n",
    "# Asignar cluster a la muestra, no al dataframe completo\n",
    "df = df.with_columns([pl.Series(\"cluster\", clusters)])"
   ]
  },
  {
   "cell_type": "code",
   "execution_count": null,
   "metadata": {
    "colab": {
     "base_uri": "https://localhost:8080/",
     "height": 498
    },
    "id": "fimrTs9EnqEj",
    "outputId": "18b1e7e6-1d27-43e6-adfd-4798936edd50"
   },
   "outputs": [],
   "source": [
    "# Visualización PCA de los clusters\n",
    "pca = PCA(n_components=2)\n",
    "x_pca = pca.fit_transform(x_scaled)\n",
    "\n",
    "plt.figure(figsize=(8, 5))\n",
    "plt.scatter(x_pca[:, 0], x_pca[:, 1], c=clusters, cmap=\"viridis\", alpha=0.6)\n",
    "plt.title(f\"Clusters KMeans con PCA ($K={optimal_k}$)\")\n",
    "plt.xlabel(\"Componente Principal 1\")\n",
    "plt.ylabel(\"Componente Principal 2\")\n",
    "plt.colorbar(label=\"Cluster\")\n",
    "plt.grid(visible=True)\n",
    "plt.show()"
   ]
  },
  {
   "cell_type": "markdown",
   "metadata": {
    "id": "B3_o73Z5orpA"
   },
   "source": [
    "## **7. Clasificación con MLP (Perceptrón Multicapa)**\n"
   ]
  },
  {
   "cell_type": "code",
   "execution_count": null,
   "metadata": {
    "id": "BTISuH3Io3w7"
   },
   "outputs": [],
   "source": [
    "# Asegurarse de que y viene del mismo conjunto que X_scaled\n",
    "y = df[\"activity\"].to_numpy()"
   ]
  },
  {
   "cell_type": "markdown",
   "metadata": {
    "id": "jmGx8PUWrwld"
   },
   "source": [
    "### **7.1 Análisis de Outliers y Distribución de Características**\n"
   ]
  },
  {
   "cell_type": "code",
   "execution_count": null,
   "metadata": {
    "colab": {
     "base_uri": "https://localhost:8080/",
     "height": 552
    },
    "id": "tWiGeakOcI00",
    "outputId": "71edff9e-ffcb-44df-b1aa-e4fa734658ff"
   },
   "outputs": [],
   "source": [
    "# Revisar visualmente los outliers en las características\n",
    "plt.figure(figsize=(12, 6))\n",
    "sns.boxplot(data=df[features])\n",
    "plt.title(\"Boxplot de características para detectar valores atípicos\")\n",
    "plt.xticks(rotation=45)\n",
    "plt.grid(visible=True)\n",
    "plt.show()"
   ]
  },
  {
   "cell_type": "code",
   "execution_count": null,
   "metadata": {
    "id": "ohmt7hAIcI01"
   },
   "outputs": [],
   "source": [
    "# Clasificación con datos actuales (con outliers)\n",
    "X_train_o, X_test_o, y_train_o, y_test_o = train_test_split(\n",
    "    x_scaled, y, test_size=0.2, random_state=42\n",
    ")"
   ]
  },
  {
   "cell_type": "markdown",
   "metadata": {
    "id": "9AF7y04gpWMm"
   },
   "source": [
    "#### Configuración y entrenamiento del modelo MLP\n",
    "\n",
    "Creamos un perceptrón multicapa con:\n",
    "\n",
    "- Dos capas ocultas (64 y 32 neuronas respectivamente).\n",
    "- Función de activación ReLU.\n",
    "- Optimizador Adam.\n",
    "- Máximo 200 iteraciones.\n"
   ]
  },
  {
   "cell_type": "code",
   "execution_count": null,
   "metadata": {
    "id": "7EOmX8D1cI00"
   },
   "outputs": [],
   "source": [
    "mlp = MLPClassifier(\n",
    "    hidden_layer_sizes=(64, 32),  # Arquitectura de la red\n",
    "    activation=\"relu\",  # Función de activación\n",
    "    solver=\"adam\",  # Algoritmo de optimización\n",
    "    max_iter=200,  # Máximo de iteraciones\n",
    "    random_state=42,  # Semilla para reproducibilidad\n",
    ")"
   ]
  },
  {
   "cell_type": "markdown",
   "metadata": {
    "id": "45cF4WLfp4yT"
   },
   "source": [
    "### **7.2 Predicción y evaluación**\n"
   ]
  },
  {
   "cell_type": "code",
   "execution_count": null,
   "metadata": {
    "colab": {
     "base_uri": "https://localhost:8080/"
    },
    "id": "UWs8_QZ1puai",
    "outputId": "5ac4a02d-3454-42b7-95b3-786532c30c58"
   },
   "outputs": [],
   "source": [
    "# Entrenamiento y evaluación con outliers\n",
    "mlp.fit(X_train_o, y_train_o)\n",
    "y_pred_o = mlp.predict(X_test_o)\n",
    "acc_original = accuracy_score(y_test_o, y_pred_o)"
   ]
  },
  {
   "cell_type": "code",
   "execution_count": null,
   "metadata": {
    "colab": {
     "base_uri": "https://localhost:8080/"
    },
    "id": "bGlonsoLuhUu",
    "outputId": "a7dacf4d-4d4d-42c1-d27e-8e21e16c0d05"
   },
   "outputs": [],
   "source": [
    "# Quitar outliers usando Z-score (versión corregida para Polars)\n",
    "z_scores = np.abs(zscore(df[features]))\n",
    "filtered_entries = (z_scores < 3).all(axis=1)\n",
    "\n",
    "# Usar el método filter() de Polars en lugar de indexación booleana\n",
    "data_no_outliers = df.filter(filtered_entries)  # Corrección clave aquí\n",
    "\n",
    "# Re-calcular datos\n",
    "X_clean = scaler.fit_transform(data_no_outliers[features].to_numpy())\n",
    "y_clean = data_no_outliers[\"activity\"]\n",
    "\n",
    "# Calculate accuracy for the model without outliers\n",
    "X_train_clean, X_test_clean, y_train_clean, y_test_clean = train_test_split(\n",
    "    X_clean, y_clean, test_size=0.2, random_state=42\n",
    ")\n",
    "mlp_clean = MLPClassifier(\n",
    "    hidden_layer_sizes=(64, 32),  # Arquitectura de la red\n",
    "    activation=\"relu\",  # Función de activación\n",
    "    solver=\"adam\",  # Algoritmo de optimización\n",
    "    max_iter=200,  # Máximo de iteraciones\n",
    "    random_state=42,  # Semilla para reproducibilidad\n",
    ")\n",
    "mlp_clean.fit(X_train_clean, y_train_clean)\n",
    "y_pred_clean = mlp_clean.predict(X_test_clean)\n",
    "acc_clean = accuracy_score(y_test_clean, y_pred_clean)"
   ]
  },
  {
   "cell_type": "code",
   "execution_count": null,
   "metadata": {
    "colab": {
     "base_uri": "https://localhost:8080/",
     "height": 100
    },
    "id": "dqb8vyC4vLNN",
    "outputId": "6c490dd0-9ca7-4482-87f2-8bdabe9fc2f3"
   },
   "outputs": [],
   "source": [
    "# Resultados comparativos\n",
    "display(\n",
    "    Markdown(f\"\"\"\n",
    "### Resultados Comparativos:\n",
    "- **Accuracy con outliers:** {acc_original:.4f}\n",
    "- **Accuracy sin outliers:** {acc_clean:.4f}\n",
    "\"\"\")\n",
    ")"
   ]
  },
  {
   "cell_type": "code",
   "execution_count": null,
   "metadata": {
    "colab": {
     "base_uri": "https://localhost:8080/",
     "height": 52
    },
    "id": "TJSggxR6vRLR",
    "outputId": "856d3cc4-3f53-402c-cd61-1b5922a5cd8e"
   },
   "outputs": [],
   "source": [
    "# Recomendación basada en los resultados\n",
    "if acc_clean > acc_original:\n",
    "    display(\n",
    "        Markdown(\"\"\"\n",
    "    **Conclusión:** Los valores atípicos afectan negativamente al modelo.\n",
    "    Se recomienda usar los datos limpios para el modelado final.\"\"\")\n",
    "    )\n",
    "    x_scaled, y = X_clean, y_clean  # Usamos datos limpios\n",
    "else:\n",
    "    display(\n",
    "        Markdown(\"\"\"\n",
    "    **Conclusión:** Los valores atípicos no tienen impacto negativo.\n",
    "    Se mantienen los datos originales.\"\"\")\n",
    "    )\n",
    "    # x_scaled e y ya están definidos"
   ]
  },
  {
   "cell_type": "markdown",
   "metadata": {
    "id": "dRMfHqwsvhKz"
   },
   "source": [
    "### **7.3 Modelado Final (Con la mejor opción)**\n"
   ]
  },
  {
   "cell_type": "code",
   "execution_count": null,
   "metadata": {
    "colab": {
     "base_uri": "https://localhost:8080/",
     "height": 814
    },
    "id": "9C1kMm-QwPYH",
    "outputId": "2503816a-6c4f-4021-8071-1c33e7b37922"
   },
   "outputs": [],
   "source": [
    "display(Markdown(\"\\n## Entrenamiento del Modelo Final\"))\n",
    "\n",
    "# Redefinimos los datos de entrenamiento/prueba con la mejor opción\n",
    "x_train, x_test, y_train, y_test = train_test_split(\n",
    "    x_scaled, y, test_size=0.2, random_state=42\n",
    ")\n",
    "\n",
    "# Reinstanciamos el modelo para evitar contaminación\n",
    "mlp_final = MLPClassifier(\n",
    "    hidden_layer_sizes=(64, 32),\n",
    "    activation=\"relu\",\n",
    "    solver=\"adam\",\n",
    "    max_iter=200,\n",
    "    random_state=42,\n",
    ")\n",
    "\n",
    "# Entrenamiento y evaluación final\n",
    "mlp_final.fit(x_train, y_train)\n",
    "y_pred = mlp_final.predict(x_test)\n",
    "\n",
    "# Métricas finales\n",
    "display(Markdown(\"### Resultados de Evaluación Final\"))\n",
    "\n",
    "display(\n",
    "    Markdown(\"\"\"\n",
    "A continuación, se muestran resultados de evaluación:\n",
    "1. Reporte de clasificación (métricas de evaluación)\n",
    "2. Métricas adicionales resumidas\n",
    "\"\"\")\n",
    ")\n",
    "\n",
    "# Reporte de clasificación completo\n",
    "display(Markdown(\"#### Informe de Clasificación Detallado:\"))\n",
    "print(classification_report(y_test, y_pred, digits=4))\n",
    "\n",
    "# Métricas resumidas en tabla\n",
    "display(Markdown(\"#### Métricas Principales:\"))\n",
    "metrics_df = pd.DataFrame(\n",
    "    {\n",
    "        \"Métrica\": [\n",
    "            \"Accuracy\",\n",
    "            \"Precision (promedio)\",\n",
    "            \"Recall (promedio)\",\n",
    "            \"F1-score (promedio)\",\n",
    "        ],\n",
    "        \"Valor\": [\n",
    "            accuracy_score(y_test, y_pred),\n",
    "            precision_score(y_test, y_pred, average=\"weighted\"),\n",
    "            recall_score(y_test, y_pred, average=\"weighted\"),\n",
    "            f1_score(y_test, y_pred, average=\"weighted\"),\n",
    "        ],\n",
    "    }\n",
    ")\n",
    "display(metrics_df.round(4))"
   ]
  },
  {
   "cell_type": "markdown",
   "metadata": {
    "id": "R2GqwdyKcI02"
   },
   "source": [
    "#### **7.3.1 Matriz de confusión: ¿Qué patrones acierta o falla el modelo?**\n"
   ]
  },
  {
   "cell_type": "code",
   "execution_count": null,
   "metadata": {
    "colab": {
     "base_uri": "https://localhost:8080/",
     "height": 599
    },
    "id": "A_w1EIfZcI02",
    "outputId": "6a253d12-1b8d-49d8-90ed-0492f9325d60"
   },
   "outputs": [],
   "source": [
    "cm = confusion_matrix(y_test, y_pred)\n",
    "disp = ConfusionMatrixDisplay(confusion_matrix=cm, display_labels=mlp.classes_)\n",
    "disp.plot(cmap=\"viridis\", xticks_rotation=45)\n",
    "plt.title(\"Matriz de Confusión - MLP\")\n",
    "plt.grid(visible=False)\n",
    "plt.show()"
   ]
  },
  {
   "cell_type": "markdown",
   "metadata": {
    "id": "-5fiNMH_cI02"
   },
   "source": [
    "#### **7.3.2 Análisis de importancia de características (permutación)**\n",
    "\n",
    "Esto te dice qué variables son más relevantes para predecir una actividad:\n"
   ]
  },
  {
   "cell_type": "code",
   "execution_count": null,
   "metadata": {
    "colab": {
     "base_uri": "https://localhost:8080/",
     "height": 501
    },
    "id": "0W3djFpgcI07",
    "outputId": "77ccb214-4642-4c2f-efe5-8b90e6543e76"
   },
   "outputs": [],
   "source": [
    "result = permutation_importance(\n",
    "    mlp, x_test, y_test, n_repeats=10, random_state=42\n",
    ")\n",
    "importances = result.importances_mean\n",
    "feature_names = features  # Usa tu lista de nombres de columnas\n",
    "\n",
    "# Graficar importancia de cada característica\n",
    "plt.figure(figsize=(10, 5))\n",
    "plt.barh(feature_names, importances)\n",
    "plt.xlabel(\"Importancia Media\")\n",
    "plt.title(\"Importancia de características para predicción de actividad\")\n",
    "plt.grid(visible=True)\n",
    "plt.tight_layout()\n",
    "plt.show()"
   ]
  },
  {
   "cell_type": "code",
   "execution_count": null,
   "metadata": {},
   "outputs": [],
   "source": [
    "build_path = Path(\"..\", \"build\")\n",
    "\n",
    "if build_path.exists():\n",
    "    remove_file_or_directory(build_path)\n",
    "\n",
    "build_path.mkdir(parents=True, exist_ok=True)\n",
    "\n",
    "joblib.dump(mlp, build_path / \"mlp_model.pkl\")\n",
    "None"
   ]
  },
  {
   "cell_type": "markdown",
   "metadata": {
    "id": "ALVJKjsqyYvZ"
   },
   "source": [
    "## **Interpretación de resultados**\n"
   ]
  },
  {
   "cell_type": "markdown",
   "metadata": {
    "id": "Y3PKNn4UJBQd"
   },
   "source": [
    "**Rendimiento General del Modelo**\n",
    "\n",
    "El modelo **MLP (Perceptrón Multicapa)** muestra un rendimiento general sólido\n",
    "con una precisión del **87%**. Esto indica que de cada 100 predicciones,\n",
    "aproximadamente 87 son correctas, lo cual es un resultado satisfactorio para la\n",
    "clasificación de actividades humanas.\n",
    "\n",
    "**Análisis por Actividades**\n",
    "\n",
    "- Actividades con Excelente Rendimiento:\n",
    "\n",
    "  - Lying (acostado): 99.5% de precisión - El modelo identifica casi\n",
    "    perfectamente cuando una persona está acostada.\n",
    "\n",
    "  - Sitting (sentado): 99.3% de precisión - Igualmente exitoso para detectar la\n",
    "    posición sentada. Estas actividades probablemente tienen patrones de\n",
    "    movimiento muy distintivos que facilitan su clasificación.\n",
    "\n",
    "- Actividades con Buen Rendimiento:\n",
    "\n",
    "  - Running (corriendo): 89.7% de precisión - Buena identificación de la\n",
    "    actividad de correr.\n",
    "\n",
    "  - Cycling_sit (ciclismo sentado): 74.5% de precisión - Rendimiento aceptable.\n",
    "\n",
    "- Walking (caminando): 75.8% de precisión - Clasificación razonable de la\n",
    "  caminata.\n",
    "- Standing (de pie): 71.1% de precisión - Detección moderada de la posición de\n",
    "  pie.\n",
    "\n",
    "- Actividades con Dificultades:\n",
    "\n",
    "- Stairs_down (bajar escaleras): Solo 25% de precisión - El modelo tiene serias\n",
    "  dificultades.\n",
    "\n",
    "- Stairs_up (subir escaleras): 28.6% de precisión - Igualmente problemático\n",
    "  Shuffling (arrastrando pies): 41% de precisión - Clasificación deficiente.\n",
    "- Cycling_stand_inactive: 45.5% de precisión - Problemas con estados inactivos.\n",
    "\n",
    "- Importancia de las Características:\n",
    "\n",
    "  Según el gráfico de importancia de características :\n",
    "\n",
    "- thigh_z y thigh_x: Son las características más importantes, sugiriendo que los\n",
    "  movimientos del muslo en los ejes Z y X son cruciales para distinguir\n",
    "  actividades.\n",
    "\n",
    "- back_x: También muy relevante, indicando que los movimientos del torso son\n",
    "  informativos.\n",
    "\n",
    "- back_z: Moderadamente importante.\n",
    "\n",
    "- thigh_y y back_y: Menos influyentes en la clasificación.\n",
    "\n",
    "- Desafíos Identificados:\n",
    "\n",
    "  - Confusión entre Actividades Similares:\n",
    "\n",
    "    - El modelo confunde actividades con patrones de movimiento parecidos como\n",
    "      subir y bajar escaleras que, son particularmente difíciles de distinguir.\n",
    "\n",
    "    - Las actividades \"inactivas\" presentan desafíos especiales.\n",
    "\n",
    "- Desequilibrio de Datos:\n",
    "\n",
    "- Algunas actividades como \"stairs_down\" (129 muestras) y\n",
    "  \"cycling_stand_inactive\" (20 muestras) tienen muy pocas observaciones. Esto\n",
    "  explica parcialmente el bajo rendimiento en estas categorías.\n"
   ]
  }
 ],
 "metadata": {
  "colab": {
   "provenance": []
  },
  "kernelspec": {
   "display_name": ".venv",
   "language": "python",
   "name": "python3"
  },
  "language_info": {
   "codemirror_mode": {
    "name": "ipython",
    "version": 3
   },
   "file_extension": ".py",
   "mimetype": "text/x-python",
   "name": "python",
   "nbconvert_exporter": "python",
   "pygments_lexer": "ipython3",
   "version": "3.13.1"
  }
 },
 "nbformat": 4,
 "nbformat_minor": 0
}
