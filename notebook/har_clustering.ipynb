{
 "cells": [
  {
   "cell_type": "markdown",
   "metadata": {
    "id": "3T2tZmWqHguL"
   },
   "source": [
    "# **Hard Clustering: Análisis de Patrones de Movimiento con K-Means 📊**\n",
    "\n",
    "<span style=\"font-size: 1.5rem;\">\n",
    "\n",
    "🎓 **Universidad:** Fundación Universitaria Konrad Lorenz\n",
    "\n",
    "</span>\n",
    "\n",
    "<span style=\"font-size: 1.25rem;\">\n",
    "\n",
    "🏫 **Facultad:** Facultad de Matemáticas e Ingenierías\n",
    "\n",
    "📖 **Curso:** Introducción a Big Data\n",
    "\n",
    "</span>\n",
    "\n",
    "<span style=\"font-size: 1.5rem;\">\n",
    "\n",
    "**🧑‍💻 Integrantes:**\n",
    "\n",
    "</span>\n",
    "\n",
    "- Ángel Stiven Pinzón Sánchez - 506221100\n",
    "- Andrea Valentina Cubillos Pinto - 506231711\n",
    "- Martín Alexander Ramos Yampufe - 506251051\n"
   ]
  },
  {
   "cell_type": "markdown",
   "metadata": {
    "id": "XeTFtrjIxmwX"
   },
   "source": [
    "## **Introducción**\n"
   ]
  },
  {
   "cell_type": "markdown",
   "metadata": {
    "id": "TKrCJTr6Pwpv"
   },
   "source": [
    "**El Reconocimiento de Actividad Humana (HAR)** es una técnica ampliamente\n",
    "utilizada en el monitoreo de la salud, el análisis del rendimiento deportivo y\n",
    "el seguimiento de la actividad física mediante dispositivos portátiles. Estos\n",
    "sistemas suelen basarse en datos obtenidos de acelerómetros y giroscopios, los\n",
    "cuales permiten detectar patrones de movimiento y clasificar actividades.\n",
    "\n",
    "Uno de los principales desafíos en HAR es la detección de inactividad prolongada\n",
    "en condiciones de vida libre, un aspecto clave para la prevención de\n",
    "enfermedades asociadas al sedentarismo. Sin embargo, la mayoría de los estudios\n",
    "actuales dependen de modelos supervisados, los cuales requieren datos\n",
    "etiquetados, lo que puede ser un proceso costoso y propenso a errores.\n",
    "\n",
    "Para abordar esta limitación, en este proyecto aplicaremos K-Means, un algoritmo\n",
    "de aprendizaje no supervisado, para analizar datos de acelerómetros y detectar\n",
    "segmentos de tiempo con baja actividad física. Este enfoque nos permitirá\n",
    "identificar patrones de inactividad sin necesidad de etiquetas previas,\n",
    "facilitando su aplicación en el monitoreo de la salud y la detección temprana de\n",
    "conductas sedentarias.\n"
   ]
  },
  {
   "cell_type": "markdown",
   "metadata": {
    "id": "aEbIOAew04AK"
   },
   "source": [
    "## **Objetivos**\n"
   ]
  },
  {
   "cell_type": "markdown",
   "metadata": {
    "id": "f2Nv3dEOqIQR"
   },
   "source": [
    "El objetivo de este análisis es identificar patrones de movimiento a partir de\n",
    "datos de acelerómetros, explorando relaciones entre variables y reduciendo la\n",
    "dimensionalidad de los datos para facilitar su agrupamiento mediante\n",
    "**K-Means**. Esto permitirá detectar segmentos de baja actividad física y\n",
    "evaluar su utilidad en el Reconocimiento de Actividad Humana (HAR) para prevenir\n",
    "enfermedades relacionadas con el sedentarismo.\n"
   ]
  },
  {
   "cell_type": "markdown",
   "metadata": {
    "id": "UnLYaJdyyJko"
   },
   "source": [
    "## **Preprocesamiento de datos**\n"
   ]
  },
  {
   "cell_type": "code",
   "execution_count": null,
   "metadata": {
    "execution": {
     "iopub.execute_input": "2025-05-29T04:53:15.039224Z",
     "iopub.status.busy": "2025-05-29T04:53:15.038893Z",
     "iopub.status.idle": "2025-05-29T04:53:16.835869Z",
     "shell.execute_reply": "2025-05-29T04:53:16.835405Z"
    },
    "id": "AZxkKnWg9dxY"
   },
   "outputs": [],
   "source": [
    "import io\n",
    "import math\n",
    "import zipfile\n",
    "from pathlib import Path\n",
    "from typing import Final\n",
    "\n",
    "import joblib\n",
    "import matplotlib.pyplot as plt\n",
    "import polars as pl\n",
    "import requests\n",
    "import seaborn as sns\n",
    "from IPython.display import Markdown\n",
    "from scipy import stats\n",
    "from sklearn.cluster import KMeans\n",
    "from sklearn.decomposition import PCA\n",
    "from sklearn.discriminant_analysis import StandardScaler\n",
    "from sklearn.metrics import classification_report, confusion_matrix\n",
    "from sklearn.model_selection import train_test_split\n",
    "from sklearn.neural_network import MLPClassifier"
   ]
  },
  {
   "cell_type": "code",
   "execution_count": 2,
   "metadata": {
    "execution": {
     "iopub.execute_input": "2025-05-29T04:53:16.837650Z",
     "iopub.status.busy": "2025-05-29T04:53:16.837423Z",
     "iopub.status.idle": "2025-05-29T04:53:16.839874Z",
     "shell.execute_reply": "2025-05-29T04:53:16.839460Z"
    },
    "id": "ABG58dtQbdO-"
   },
   "outputs": [],
   "source": [
    "dataset_url: Final[str] = (\n",
    "    \"https://drive.usercontent.google.com/download?id=1pawtHobYPmvHLKKJfbg12fqkMdG5rlkL&export=download&authuser=0&confirm=t&uuid=c5110138-278c-4dc3-9be0-a11aeaefd54d&at=ALoNOgn9aAhEQRUpJf90DRNzLwiP%3A1748493341099\"\n",
    ")"
   ]
  },
  {
   "cell_type": "code",
   "execution_count": 3,
   "metadata": {
    "execution": {
     "iopub.execute_input": "2025-05-29T04:53:16.841328Z",
     "iopub.status.busy": "2025-05-29T04:53:16.841157Z",
     "iopub.status.idle": "2025-05-29T04:53:24.839668Z",
     "shell.execute_reply": "2025-05-29T04:53:24.839080Z"
    },
    "id": "HB2Nbxkw-UIS"
   },
   "outputs": [],
   "source": [
    "response = requests.get(\n",
    "    dataset_url,\n",
    "    timeout=10,\n",
    ")\n",
    "\n",
    "# Delete the data directory if it already exists\n",
    "data_dir = Path(\"./data\")\n",
    "\n",
    "\n",
    "def remove_file_or_directory(file_or_directory: Path) -> None:\n",
    "    \"\"\"Elimina un archivo o carpeta de forma recursiva.\"\"\"\n",
    "    if file_or_directory.is_dir():\n",
    "        for file in file_or_directory.iterdir():\n",
    "            remove_file_or_directory(file)\n",
    "        file_or_directory.rmdir()\n",
    "    else:\n",
    "        file_or_directory.unlink()\n",
    "\n",
    "\n",
    "if data_dir.exists():\n",
    "    remove_file_or_directory(data_dir)\n",
    "\n",
    "\n",
    "with zipfile.ZipFile(io.BytesIO(response.content)) as zip_file:\n",
    "    zip_file.extractall(\"./data\")"
   ]
  },
  {
   "cell_type": "code",
   "execution_count": 4,
   "metadata": {
    "colab": {
     "base_uri": "https://localhost:8080/"
    },
    "execution": {
     "iopub.execute_input": "2025-05-29T04:53:24.841391Z",
     "iopub.status.busy": "2025-05-29T04:53:24.841235Z",
     "iopub.status.idle": "2025-05-29T04:53:33.092944Z",
     "shell.execute_reply": "2025-05-29T04:53:33.092514Z"
    },
    "id": "lOpjEKCWbhKH",
    "outputId": "ed4e0628-4bed-4879-9a60-76b5244ed401"
   },
   "outputs": [
    {
     "name": "stdout",
     "output_type": "stream",
     "text": [
      "Archivo: data\\harth\\S006.csv, Tamaño: (408709, 8)\n",
      "Archivo: data\\harth\\S008.csv, Tamaño: (418989, 8)\n",
      "Archivo: data\\harth\\S009.csv, Tamaño: (154464, 8)\n",
      "Archivo: data\\harth\\S010.csv, Tamaño: (351649, 8)\n",
      "Archivo: data\\harth\\S012.csv, Tamaño: (382414, 8)\n",
      "Archivo: data\\harth\\S013.csv, Tamaño: (369077, 8)\n",
      "Archivo: data\\harth\\S014.csv, Tamaño: (366487, 8)\n",
      "Archivo: data\\harth\\S015.csv, Tamaño: (418392, 8)\n",
      "Archivo: data\\harth\\S016.csv, Tamaño: (355418, 8)\n",
      "Archivo: data\\harth\\S017.csv, Tamaño: (366609, 8)\n",
      "Archivo: data\\harth\\S018.csv, Tamaño: (322271, 8)\n",
      "Archivo: data\\harth\\S019.csv, Tamaño: (297945, 8)\n",
      "Archivo: data\\harth\\S020.csv, Tamaño: (371496, 8)\n",
      "Archivo: data\\harth\\S021.csv, Tamaño: (302247, 8)\n",
      "Archivo: data\\harth\\S022.csv, Tamaño: (337602, 8)\n",
      "Archivo: data\\harth\\S023.csv, Tamaño: (137646, 8)\n",
      "Archivo: data\\harth\\S024.csv, Tamaño: (170534, 8)\n",
      "Archivo: data\\harth\\S025.csv, Tamaño: (231729, 8)\n",
      "Archivo: data\\harth\\S026.csv, Tamaño: (195172, 8)\n",
      "Archivo: data\\harth\\S027.csv, Tamaño: (158584, 8)\n",
      "Archivo: data\\harth\\S028.csv, Tamaño: (165178, 8)\n",
      "Archivo: data\\harth\\S029.csv, Tamaño: (178716, 8)\n",
      "Número total de filas en todos los archivos: 6461328\n"
     ]
    },
    {
     "name": "stderr",
     "output_type": "stream",
     "text": [
      "C:\\Users\\alexr\\AppData\\Local\\Temp\\ipykernel_3096\\3033621603.py:30: ChronoFormatWarning: Detected the pattern `.%f` in the chrono format string. This pattern should not be used to parse values after a decimal point. Use `%.f` instead. See the full specification: https://docs.rs/chrono/latest/chrono/format/strftime\n",
      "  pl.col(\"timestamp\").str.strptime(\n"
     ]
    },
    {
     "name": "stdout",
     "output_type": "stream",
     "text": [
      "Contenido del DataFrame después de cargar los archivos:\n"
     ]
    },
    {
     "data": {
      "text/html": [
       "<div><style>\n",
       ".dataframe > thead > tr,\n",
       ".dataframe > tbody > tr {\n",
       "  text-align: right;\n",
       "  white-space: pre-wrap;\n",
       "}\n",
       "</style>\n",
       "<small>shape: (5, 8)</small><table border=\"1\" class=\"dataframe\"><thead><tr><th>timestamp</th><th>back_x</th><th>back_y</th><th>back_z</th><th>thigh_x</th><th>thigh_y</th><th>thigh_z</th><th>label</th></tr><tr><td>datetime[μs]</td><td>f64</td><td>f64</td><td>f64</td><td>f64</td><td>f64</td><td>f64</td><td>i64</td></tr></thead><tbody><tr><td>2019-01-12 00:00:00</td><td>-0.760242</td><td>0.29957</td><td>0.46857</td><td>-5.092732</td><td>-0.298644</td><td>0.709439</td><td>6</td></tr><tr><td>2019-01-12 00:00:00</td><td>-0.530138</td><td>0.28188</td><td>0.319987</td><td>0.900547</td><td>0.286944</td><td>0.340309</td><td>6</td></tr><tr><td>2019-01-12 00:00:00</td><td>-1.170922</td><td>0.186353</td><td>-0.16701</td><td>-0.035442</td><td>-0.078423</td><td>-0.515212</td><td>6</td></tr><tr><td>2019-01-12 00:00:00</td><td>-0.648772</td><td>0.016579</td><td>-0.054284</td><td>-1.554248</td><td>-0.950978</td><td>-0.22114</td><td>6</td></tr><tr><td>2019-01-12 00:00:00</td><td>-0.355071</td><td>-0.051831</td><td>-0.113419</td><td>-0.547471</td><td>0.140903</td><td>-0.653782</td><td>6</td></tr></tbody></table></div>"
      ],
      "text/plain": [
       "shape: (5, 8)\n",
       "┌──────────────┬───────────┬───────────┬───────────┬───────────┬───────────┬───────────┬───────┐\n",
       "│ timestamp    ┆ back_x    ┆ back_y    ┆ back_z    ┆ thigh_x   ┆ thigh_y   ┆ thigh_z   ┆ label │\n",
       "│ ---          ┆ ---       ┆ ---       ┆ ---       ┆ ---       ┆ ---       ┆ ---       ┆ ---   │\n",
       "│ datetime[μs] ┆ f64       ┆ f64       ┆ f64       ┆ f64       ┆ f64       ┆ f64       ┆ i64   │\n",
       "╞══════════════╪═══════════╪═══════════╪═══════════╪═══════════╪═══════════╪═══════════╪═══════╡\n",
       "│ 2019-01-12   ┆ -0.760242 ┆ 0.29957   ┆ 0.46857   ┆ -5.092732 ┆ -0.298644 ┆ 0.709439  ┆ 6     │\n",
       "│ 00:00:00     ┆           ┆           ┆           ┆           ┆           ┆           ┆       │\n",
       "│ 2019-01-12   ┆ -0.530138 ┆ 0.28188   ┆ 0.319987  ┆ 0.900547  ┆ 0.286944  ┆ 0.340309  ┆ 6     │\n",
       "│ 00:00:00     ┆           ┆           ┆           ┆           ┆           ┆           ┆       │\n",
       "│ 2019-01-12   ┆ -1.170922 ┆ 0.186353  ┆ -0.16701  ┆ -0.035442 ┆ -0.078423 ┆ -0.515212 ┆ 6     │\n",
       "│ 00:00:00     ┆           ┆           ┆           ┆           ┆           ┆           ┆       │\n",
       "│ 2019-01-12   ┆ -0.648772 ┆ 0.016579  ┆ -0.054284 ┆ -1.554248 ┆ -0.950978 ┆ -0.22114  ┆ 6     │\n",
       "│ 00:00:00     ┆           ┆           ┆           ┆           ┆           ┆           ┆       │\n",
       "│ 2019-01-12   ┆ -0.355071 ┆ -0.051831 ┆ -0.113419 ┆ -0.547471 ┆ 0.140903  ┆ -0.653782 ┆ 6     │\n",
       "│ 00:00:00     ┆           ┆           ┆           ┆           ┆           ┆           ┆       │\n",
       "└──────────────┴───────────┴───────────┴───────────┴───────────┴───────────┴───────────┴───────┘"
      ]
     },
     "metadata": {},
     "output_type": "display_data"
    },
    {
     "data": {
      "text/html": [
       "<div><style>\n",
       ".dataframe > thead > tr,\n",
       ".dataframe > tbody > tr {\n",
       "  text-align: right;\n",
       "  white-space: pre-wrap;\n",
       "}\n",
       "</style>\n",
       "<small>shape: (9, 9)</small><table border=\"1\" class=\"dataframe\"><thead><tr><th>statistic</th><th>timestamp</th><th>back_x</th><th>back_y</th><th>back_z</th><th>thigh_x</th><th>thigh_y</th><th>thigh_z</th><th>label</th></tr><tr><td>str</td><td>str</td><td>f64</td><td>f64</td><td>f64</td><td>f64</td><td>f64</td><td>f64</td><td>f64</td></tr></thead><tbody><tr><td>&quot;count&quot;</td><td>&quot;6461328&quot;</td><td>6.461328e6</td><td>6.461328e6</td><td>6.461328e6</td><td>6.461328e6</td><td>6.461328e6</td><td>6.461328e6</td><td>6.461328e6</td></tr><tr><td>&quot;null_count&quot;</td><td>&quot;0&quot;</td><td>0.0</td><td>0.0</td><td>0.0</td><td>0.0</td><td>0.0</td><td>0.0</td><td>0.0</td></tr><tr><td>&quot;mean&quot;</td><td>&quot;2012-02-20 18:20:58.342890&quot;</td><td>-0.884957</td><td>-0.013261</td><td>-0.169378</td><td>-0.594888</td><td>0.020877</td><td>0.374916</td><td>6.783833</td></tr><tr><td>&quot;std&quot;</td><td>null</td><td>0.377592</td><td>0.231171</td><td>0.364738</td><td>0.626347</td><td>0.388451</td><td>0.736098</td><td>11.432381</td></tr><tr><td>&quot;min&quot;</td><td>&quot;2000-01-01 00:00:00&quot;</td><td>-8.0</td><td>-4.307617</td><td>-6.574463</td><td>-8.0</td><td>-7.997314</td><td>-8.0</td><td>1.0</td></tr><tr><td>&quot;25%&quot;</td><td>&quot;2000-01-01 01:23:47&quot;</td><td>-1.002393</td><td>-0.083129</td><td>-0.37207</td><td>-0.974211</td><td>-0.100087</td><td>-0.155714</td><td>3.0</td></tr><tr><td>&quot;50%&quot;</td><td>&quot;2019-01-12 00:12:46&quot;</td><td>-0.9749</td><td>0.002594</td><td>-0.137451</td><td>-0.421731</td><td>0.032629</td><td>0.700439</td><td>7.0</td></tr><tr><td>&quot;75%&quot;</td><td>&quot;2019-01-12 00:49:20&quot;</td><td>-0.812303</td><td>0.07251</td><td>0.046473</td><td>-0.167876</td><td>0.154951</td><td>0.948675</td><td>7.0</td></tr><tr><td>&quot;max&quot;</td><td>&quot;2019-01-12 02:23:36&quot;</td><td>2.291708</td><td>6.491943</td><td>4.909483</td><td>7.999756</td><td>7.999756</td><td>8.406235</td><td>140.0</td></tr></tbody></table></div>"
      ],
      "text/plain": [
       "shape: (9, 9)\n",
       "┌───────────┬───────────┬───────────┬───────────┬───┬───────────┬───────────┬───────────┬──────────┐\n",
       "│ statistic ┆ timestamp ┆ back_x    ┆ back_y    ┆ … ┆ thigh_x   ┆ thigh_y   ┆ thigh_z   ┆ label    │\n",
       "│ ---       ┆ ---       ┆ ---       ┆ ---       ┆   ┆ ---       ┆ ---       ┆ ---       ┆ ---      │\n",
       "│ str       ┆ str       ┆ f64       ┆ f64       ┆   ┆ f64       ┆ f64       ┆ f64       ┆ f64      │\n",
       "╞═══════════╪═══════════╪═══════════╪═══════════╪═══╪═══════════╪═══════════╪═══════════╪══════════╡\n",
       "│ count     ┆ 6461328   ┆ 6.461328e ┆ 6.461328e ┆ … ┆ 6.461328e ┆ 6.461328e ┆ 6.461328e ┆ 6.461328 │\n",
       "│           ┆           ┆ 6         ┆ 6         ┆   ┆ 6         ┆ 6         ┆ 6         ┆ e6       │\n",
       "│ null_coun ┆ 0         ┆ 0.0       ┆ 0.0       ┆ … ┆ 0.0       ┆ 0.0       ┆ 0.0       ┆ 0.0      │\n",
       "│ t         ┆           ┆           ┆           ┆   ┆           ┆           ┆           ┆          │\n",
       "│ mean      ┆ 2012-02-2 ┆ -0.884957 ┆ -0.013261 ┆ … ┆ -0.594888 ┆ 0.020877  ┆ 0.374916  ┆ 6.783833 │\n",
       "│           ┆ 0 18:20:5 ┆           ┆           ┆   ┆           ┆           ┆           ┆          │\n",
       "│           ┆ 8.342890  ┆           ┆           ┆   ┆           ┆           ┆           ┆          │\n",
       "│ std       ┆ null      ┆ 0.377592  ┆ 0.231171  ┆ … ┆ 0.626347  ┆ 0.388451  ┆ 0.736098  ┆ 11.43238 │\n",
       "│           ┆           ┆           ┆           ┆   ┆           ┆           ┆           ┆ 1        │\n",
       "│ min       ┆ 2000-01-0 ┆ -8.0      ┆ -4.307617 ┆ … ┆ -8.0      ┆ -7.997314 ┆ -8.0      ┆ 1.0      │\n",
       "│           ┆ 1         ┆           ┆           ┆   ┆           ┆           ┆           ┆          │\n",
       "│           ┆ 00:00:00  ┆           ┆           ┆   ┆           ┆           ┆           ┆          │\n",
       "│ 25%       ┆ 2000-01-0 ┆ -1.002393 ┆ -0.083129 ┆ … ┆ -0.974211 ┆ -0.100087 ┆ -0.155714 ┆ 3.0      │\n",
       "│           ┆ 1         ┆           ┆           ┆   ┆           ┆           ┆           ┆          │\n",
       "│           ┆ 01:23:47  ┆           ┆           ┆   ┆           ┆           ┆           ┆          │\n",
       "│ 50%       ┆ 2019-01-1 ┆ -0.9749   ┆ 0.002594  ┆ … ┆ -0.421731 ┆ 0.032629  ┆ 0.700439  ┆ 7.0      │\n",
       "│           ┆ 2         ┆           ┆           ┆   ┆           ┆           ┆           ┆          │\n",
       "│           ┆ 00:12:46  ┆           ┆           ┆   ┆           ┆           ┆           ┆          │\n",
       "│ 75%       ┆ 2019-01-1 ┆ -0.812303 ┆ 0.07251   ┆ … ┆ -0.167876 ┆ 0.154951  ┆ 0.948675  ┆ 7.0      │\n",
       "│           ┆ 2         ┆           ┆           ┆   ┆           ┆           ┆           ┆          │\n",
       "│           ┆ 00:49:20  ┆           ┆           ┆   ┆           ┆           ┆           ┆          │\n",
       "│ max       ┆ 2019-01-1 ┆ 2.291708  ┆ 6.491943  ┆ … ┆ 7.999756  ┆ 7.999756  ┆ 8.406235  ┆ 140.0    │\n",
       "│           ┆ 2         ┆           ┆           ┆   ┆           ┆           ┆           ┆          │\n",
       "│           ┆ 02:23:36  ┆           ┆           ┆   ┆           ┆           ┆           ┆          │\n",
       "└───────────┴───────────┴───────────┴───────────┴───┴───────────┴───────────┴───────────┴──────────┘"
      ]
     },
     "metadata": {},
     "output_type": "display_data"
    }
   ],
   "source": [
    "path = Path(\"./data/harth\")\n",
    "all_files = path.glob(\"S0*.csv\")\n",
    "\n",
    "df_list = []\n",
    "for file in all_files:\n",
    "    temp_df = pl.read_csv(file)\n",
    "\n",
    "    # Eliminamos la columna 'Unnamed: 0' si existe y index\n",
    "    if \"index\" in temp_df.columns:\n",
    "        temp_df = temp_df.drop(\"index\")\n",
    "    if \"\" in temp_df.columns:\n",
    "        temp_df = temp_df.drop(\"\")\n",
    "\n",
    "    print(\n",
    "        f\"Archivo: {file}, Tamaño: {temp_df.shape}\"\n",
    "    )  # Imprime el tamaño de cada archivo\n",
    "    df_list.append(temp_df)\n",
    "\n",
    "print(\n",
    "    f\"Número total de filas en todos los archivos: {sum(df.shape[0] for df in df_list)}\"\n",
    ")\n",
    "\n",
    "# Combina los DataFrames\n",
    "df: pl.DataFrame = pl.concat(\n",
    "    df_list,\n",
    ")\n",
    "\n",
    "# Convierte la columna timestamp a tipo datetime\n",
    "df = df.with_columns(\n",
    "    pl.col(\"timestamp\").str.strptime(\n",
    "        pl.Datetime, \"%Y-%m-%d %H:%M:%S.%f\", strict=False\n",
    "    )\n",
    ")\n",
    "\n",
    "# Verifica el contenido del DataFrame después de cargar los archivos\n",
    "print(\"Contenido del DataFrame después de cargar los archivos:\")\n",
    "display(df.head(), df.describe())"
   ]
  },
  {
   "cell_type": "code",
   "execution_count": 5,
   "metadata": {
    "colab": {
     "base_uri": "https://localhost:8080/"
    },
    "execution": {
     "iopub.execute_input": "2025-05-29T04:53:33.094496Z",
     "iopub.status.busy": "2025-05-29T04:53:33.094336Z",
     "iopub.status.idle": "2025-05-29T04:53:33.162686Z",
     "shell.execute_reply": "2025-05-29T04:53:33.162193Z"
    },
    "id": "Sk-DvG4z-o_R",
    "outputId": "7f6edd1e-19ff-49ff-d1fb-a1c0de5c6537"
   },
   "outputs": [
    {
     "name": "stdout",
     "output_type": "stream",
     "text": [
      "Número de valores nulos en cada columna:\n",
      "shape: (1, 8)\n",
      "┌───────────┬────────┬────────┬────────┬─────────┬─────────┬─────────┬───────┐\n",
      "│ timestamp ┆ back_x ┆ back_y ┆ back_z ┆ thigh_x ┆ thigh_y ┆ thigh_z ┆ label │\n",
      "│ ---       ┆ ---    ┆ ---    ┆ ---    ┆ ---     ┆ ---     ┆ ---     ┆ ---   │\n",
      "│ u32       ┆ u32    ┆ u32    ┆ u32    ┆ u32     ┆ u32     ┆ u32     ┆ u32   │\n",
      "╞═══════════╪════════╪════════╪════════╪═════════╪═════════╪═════════╪═══════╡\n",
      "│ 0         ┆ 0      ┆ 0      ┆ 0      ┆ 0       ┆ 0       ┆ 0       ┆ 0     │\n",
      "└───────────┴────────┴────────┴────────┴─────────┴─────────┴─────────┴───────┘\n"
     ]
    }
   ],
   "source": [
    "print(\"Número de valores nulos en cada columna:\")\n",
    "print(df.null_count())"
   ]
  },
  {
   "cell_type": "code",
   "execution_count": 6,
   "metadata": {
    "colab": {
     "base_uri": "https://localhost:8080/"
    },
    "execution": {
     "iopub.execute_input": "2025-05-29T04:53:33.257115Z",
     "iopub.status.busy": "2025-05-29T04:53:33.256468Z",
     "iopub.status.idle": "2025-05-29T04:53:33.388519Z",
     "shell.execute_reply": "2025-05-29T04:53:33.387022Z"
    },
    "id": "nKqcDz2Y_Elw",
    "outputId": "277f8264-5747-4b80-cc94-8201f86cc3a3"
   },
   "outputs": [
    {
     "name": "stdout",
     "output_type": "stream",
     "text": [
      "Tamaño antes de eliminar nulos: (6461328, 8)\n",
      "Tamaño después de eliminar nulos: (6461328, 8)\n"
     ]
    }
   ],
   "source": [
    "print(f\"Tamaño antes de eliminar nulos: {df.shape}\")\n",
    "df = df.drop_nulls()  # Eliminar filas con valores nulos\n",
    "print(f\"Tamaño después de eliminar nulos: {df.shape}\")"
   ]
  },
  {
   "cell_type": "code",
   "execution_count": 7,
   "metadata": {
    "colab": {
     "base_uri": "https://localhost:8080/"
    },
    "execution": {
     "iopub.execute_input": "2025-05-29T04:53:33.392672Z",
     "iopub.status.busy": "2025-05-29T04:53:33.392073Z",
     "iopub.status.idle": "2025-05-29T04:53:34.060019Z",
     "shell.execute_reply": "2025-05-29T04:53:34.058766Z"
    },
    "id": "_gZ_RpA0BSh_",
    "outputId": "b66f2fc9-0276-4b33-def4-395fdeaa8edd"
   },
   "outputs": [
    {
     "name": "stdout",
     "output_type": "stream",
     "text": [
      "Tamaño del DataFrame antes de la normalización: (6461328, 8)\n",
      "Contenido del DataFrame antes de la normalización:\n",
      "shape: (5, 8)\n",
      "┌──────────────┬───────────┬───────────┬───────────┬───────────┬───────────┬───────────┬───────┐\n",
      "│ timestamp    ┆ back_x    ┆ back_y    ┆ back_z    ┆ thigh_x   ┆ thigh_y   ┆ thigh_z   ┆ label │\n",
      "│ ---          ┆ ---       ┆ ---       ┆ ---       ┆ ---       ┆ ---       ┆ ---       ┆ ---   │\n",
      "│ datetime[μs] ┆ f64       ┆ f64       ┆ f64       ┆ f64       ┆ f64       ┆ f64       ┆ i64   │\n",
      "╞══════════════╪═══════════╪═══════════╪═══════════╪═══════════╪═══════════╪═══════════╪═══════╡\n",
      "│ 2019-01-12   ┆ -0.760242 ┆ 0.29957   ┆ 0.46857   ┆ -5.092732 ┆ -0.298644 ┆ 0.709439  ┆ 6     │\n",
      "│ 00:00:00     ┆           ┆           ┆           ┆           ┆           ┆           ┆       │\n",
      "│ 2019-01-12   ┆ -0.530138 ┆ 0.28188   ┆ 0.319987  ┆ 0.900547  ┆ 0.286944  ┆ 0.340309  ┆ 6     │\n",
      "│ 00:00:00     ┆           ┆           ┆           ┆           ┆           ┆           ┆       │\n",
      "│ 2019-01-12   ┆ -1.170922 ┆ 0.186353  ┆ -0.16701  ┆ -0.035442 ┆ -0.078423 ┆ -0.515212 ┆ 6     │\n",
      "│ 00:00:00     ┆           ┆           ┆           ┆           ┆           ┆           ┆       │\n",
      "│ 2019-01-12   ┆ -0.648772 ┆ 0.016579  ┆ -0.054284 ┆ -1.554248 ┆ -0.950978 ┆ -0.22114  ┆ 6     │\n",
      "│ 00:00:00     ┆           ┆           ┆           ┆           ┆           ┆           ┆       │\n",
      "│ 2019-01-12   ┆ -0.355071 ┆ -0.051831 ┆ -0.113419 ┆ -0.547471 ┆ 0.140903  ┆ -0.653782 ┆ 6     │\n",
      "│ 00:00:00     ┆           ┆           ┆           ┆           ┆           ┆           ┆       │\n",
      "└──────────────┴───────────┴───────────┴───────────┴───────────┴───────────┴───────────┴───────┘\n",
      "Contenido de las columnas a normalizar:\n",
      "shape: (5, 6)\n",
      "┌───────────┬───────────┬───────────┬───────────┬───────────┬───────────┐\n",
      "│ back_x    ┆ back_y    ┆ back_z    ┆ thigh_x   ┆ thigh_y   ┆ thigh_z   │\n",
      "│ ---       ┆ ---       ┆ ---       ┆ ---       ┆ ---       ┆ ---       │\n",
      "│ f64       ┆ f64       ┆ f64       ┆ f64       ┆ f64       ┆ f64       │\n",
      "╞═══════════╪═══════════╪═══════════╪═══════════╪═══════════╪═══════════╡\n",
      "│ -0.760242 ┆ 0.29957   ┆ 0.46857   ┆ -5.092732 ┆ -0.298644 ┆ 0.709439  │\n",
      "│ -0.530138 ┆ 0.28188   ┆ 0.319987  ┆ 0.900547  ┆ 0.286944  ┆ 0.340309  │\n",
      "│ -1.170922 ┆ 0.186353  ┆ -0.16701  ┆ -0.035442 ┆ -0.078423 ┆ -0.515212 │\n",
      "│ -0.648772 ┆ 0.016579  ┆ -0.054284 ┆ -1.554248 ┆ -0.950978 ┆ -0.22114  │\n",
      "│ -0.355071 ┆ -0.051831 ┆ -0.113419 ┆ -0.547471 ┆ 0.140903  ┆ -0.653782 │\n",
      "└───────────┴───────────┴───────────┴───────────┴───────────┴───────────┘\n"
     ]
    }
   ],
   "source": [
    "quantitative_cols = [\n",
    "    \"back_x\",\n",
    "    \"back_y\",\n",
    "    \"back_z\",\n",
    "    \"thigh_x\",\n",
    "    \"thigh_y\",\n",
    "    \"thigh_z\",\n",
    "]\n",
    "\n",
    "print(f\"Tamaño del DataFrame antes de la normalización: {df.shape}\")\n",
    "print(\"Contenido del DataFrame antes de la normalización:\")\n",
    "print(df.head())\n",
    "\n",
    "# Verifica el contenido de las columnas específicas\n",
    "print(\"Contenido de las columnas a normalizar:\")\n",
    "print(df[quantitative_cols].head())\n",
    "\n",
    "# Normalización\n",
    "if all(col in df.columns for col in quantitative_cols):\n",
    "    if df[quantitative_cols].shape[0] > 0:\n",
    "        scaler = StandardScaler()\n",
    "        df[quantitative_cols] = scaler.fit_transform(\n",
    "            df[quantitative_cols].to_arrow()\n",
    "        )\n",
    "    else:\n",
    "        print(\"Las columnas seleccionadas están vacías.\")\n",
    "else:\n",
    "    print(\"Una o más columnas no existen en el DataFrame.\")"
   ]
  },
  {
   "cell_type": "code",
   "execution_count": 8,
   "metadata": {
    "colab": {
     "base_uri": "https://localhost:8080/",
     "height": 1000
    },
    "execution": {
     "iopub.execute_input": "2025-05-29T04:53:34.064217Z",
     "iopub.status.busy": "2025-05-29T04:53:34.063775Z",
     "iopub.status.idle": "2025-05-29T04:54:06.802697Z",
     "shell.execute_reply": "2025-05-29T04:54:06.802210Z"
    },
    "id": "sGZprRnY_GSp",
    "outputId": "e64c96cd-5d70-46d7-f68e-ac77752e874f"
   },
   "outputs": [
    {
     "name": "stderr",
     "output_type": "stream",
     "text": [
      "C:\\Users\\alexr\\AppData\\Local\\Temp\\ipykernel_3096\\1992690039.py:8: UserWarning: FigureCanvasAgg is non-interactive, and thus cannot be shown\n",
      "  plt.show()\n"
     ]
    },
    {
     "name": "stdout",
     "output_type": "stream",
     "text": [
      "Número de outliers detectados por Z-Score: 507343\n",
      "shape: (507_343, 8)\n",
      "┌──────────────┬───────────┬───────────┬───────────┬───────────┬───────────┬───────────┬───────┐\n",
      "│ timestamp    ┆ back_x    ┆ back_y    ┆ back_z    ┆ thigh_x   ┆ thigh_y   ┆ thigh_z   ┆ label │\n",
      "│ ---          ┆ ---       ┆ ---       ┆ ---       ┆ ---       ┆ ---       ┆ ---       ┆ ---   │\n",
      "│ datetime[μs] ┆ f64       ┆ f64       ┆ f64       ┆ f64       ┆ f64       ┆ f64       ┆ i64   │\n",
      "╞══════════════╪═══════════╪═══════════╪═══════════╪═══════════╪═══════════╪═══════════╪═══════╡\n",
      "│ 2019-01-12   ┆ 0.330293  ┆ 1.353248  ┆ 1.749055  ┆ -7.181078 ┆ -0.822551 ┆ 0.454455  ┆ 6     │\n",
      "│ 00:00:00     ┆           ┆           ┆           ┆           ┆           ┆           ┆       │\n",
      "│ 2019-01-12   ┆ -1.210939 ┆ 3.050026  ┆ 0.711515  ┆ -0.653571 ┆ 0.513943  ┆ -0.950917 ┆ 1     │\n",
      "│ 00:02:43     ┆           ┆           ┆           ┆           ┆           ┆           ┆       │\n",
      "│ 2019-01-12   ┆ -0.919255 ┆ 3.363959  ┆ 0.687889  ┆ -0.64915  ┆ 0.358385  ┆ -0.296835 ┆ 1     │\n",
      "│ 00:03:13     ┆           ┆           ┆           ┆           ┆           ┆           ┆       │\n",
      "│ 2019-01-12   ┆ -1.474371 ┆ 4.412604  ┆ 1.671156  ┆ -1.148571 ┆ 0.652607  ┆ -0.362975 ┆ 1     │\n",
      "│ 00:03:35     ┆           ┆           ┆           ┆           ┆           ┆           ┆       │\n",
      "│ 2019-01-12   ┆ -0.886602 ┆ 0.163189  ┆ 1.250953  ┆ -3.329005 ┆ 3.13183   ┆ -2.136228 ┆ 1     │\n",
      "│ 00:04:03     ┆           ┆           ┆           ┆           ┆           ┆           ┆       │\n",
      "│ …            ┆ …         ┆ …         ┆ …         ┆ …         ┆ …         ┆ …         ┆ …     │\n",
      "│ 2019-01-12   ┆ -1.652779 ┆ 0.6604    ┆ -0.663487 ┆ -3.570954 ┆ -2.380443 ┆ 0.808722  ┆ 1     │\n",
      "│ 00:59:30     ┆           ┆           ┆           ┆           ┆           ┆           ┆       │\n",
      "│ 2019-01-12   ┆ -0.780554 ┆ 1.381719  ┆ -1.068448 ┆ -3.534314 ┆ 1.696624  ┆ -1.552426 ┆ 1     │\n",
      "│ 00:59:30     ┆           ┆           ┆           ┆           ┆           ┆           ┆       │\n",
      "│ 2019-01-12   ┆ -0.461791 ┆ -0.048244 ┆ -0.160798 ┆ -4.045322 ┆ -2.165495 ┆ -4.413067 ┆ 1     │\n",
      "│ 00:59:31     ┆           ┆           ┆           ┆           ┆           ┆           ┆       │\n",
      "│ 2019-01-12   ┆ -0.430755 ┆ 0.126012  ┆ -0.18958  ┆ -3.476626 ┆ -3.895751 ┆ -4.952361 ┆ 1     │\n",
      "│ 00:59:31     ┆           ┆           ┆           ┆           ┆           ┆           ┆       │\n",
      "│ 2019-01-12   ┆ -0.787019 ┆ -0.103161 ┆ -0.511542 ┆ -1.197163 ┆ -4.169148 ┆ -0.234375 ┆ 3     │\n",
      "│ 00:59:55     ┆           ┆           ┆           ┆           ┆           ┆           ┆       │\n",
      "└──────────────┴───────────┴───────────┴───────────┴───────────┴───────────┴───────────┴───────┘\n",
      "Número de outliers detectados por IQR: 1399305\n"
     ]
    },
    {
     "data": {
      "text/html": [
       "<div><style>\n",
       ".dataframe > thead > tr,\n",
       ".dataframe > tbody > tr {\n",
       "  text-align: right;\n",
       "  white-space: pre-wrap;\n",
       "}\n",
       "</style>\n",
       "<small>shape: (1_399_305, 8)</small><table border=\"1\" class=\"dataframe\"><thead><tr><th>timestamp</th><th>back_x</th><th>back_y</th><th>back_z</th><th>thigh_x</th><th>thigh_y</th><th>thigh_z</th><th>label</th></tr><tr><td>datetime[μs]</td><td>f64</td><td>f64</td><td>f64</td><td>f64</td><td>f64</td><td>f64</td><td>i64</td></tr></thead><tbody><tr><td>2019-01-12 00:00:00</td><td>0.330293</td><td>1.353248</td><td>1.749055</td><td>-7.181078</td><td>-0.822551</td><td>0.454455</td><td>6</td></tr><tr><td>2019-01-12 00:00:00</td><td>0.625506</td><td>0.129082</td><td>0.315552</td><td>-1.531676</td><td>-2.501871</td><td>-0.809751</td><td>6</td></tr><tr><td>2019-01-12 00:00:00</td><td>1.403332</td><td>-0.166845</td><td>0.153423</td><td>0.075705</td><td>0.308988</td><td>-1.397501</td><td>6</td></tr><tr><td>2019-01-12 00:00:00</td><td>1.337504</td><td>-0.359878</td><td>0.398052</td><td>-0.569856</td><td>0.542315</td><td>-1.102051</td><td>6</td></tr><tr><td>2019-01-12 00:00:00</td><td>-2.238628</td><td>0.277729</td><td>0.513598</td><td>-1.314569</td><td>-0.263245</td><td>-0.586286</td><td>6</td></tr><tr><td>&hellip;</td><td>&hellip;</td><td>&hellip;</td><td>&hellip;</td><td>&hellip;</td><td>&hellip;</td><td>&hellip;</td><td>&hellip;</td></tr><tr><td>2019-01-12 00:59:55</td><td>-0.75469</td><td>0.538949</td><td>-0.425195</td><td>-1.462605</td><td>-2.305023</td><td>-1.132202</td><td>3</td></tr><tr><td>2019-01-12 00:59:55</td><td>-0.383556</td><td>0.968782</td><td>-0.41047</td><td>-1.005387</td><td>1.599206</td><td>-1.222416</td><td>3</td></tr><tr><td>2019-01-12 00:59:55</td><td>-0.118463</td><td>0.496703</td><td>-0.279943</td><td>-0.498276</td><td>1.42574</td><td>-0.844314</td><td>3</td></tr><tr><td>2019-01-12 00:59:55</td><td>-0.361572</td><td>-0.211942</td><td>-0.245138</td><td>-0.67485</td><td>-1.987632</td><td>-0.729889</td><td>3</td></tr><tr><td>2019-01-12 00:59:55</td><td>-0.422352</td><td>-0.068312</td><td>-0.27392</td><td>-0.641328</td><td>-1.47792</td><td>-0.417125</td><td>3</td></tr></tbody></table></div>"
      ],
      "text/plain": [
       "shape: (1_399_305, 8)\n",
       "┌──────────────┬───────────┬───────────┬───────────┬───────────┬───────────┬───────────┬───────┐\n",
       "│ timestamp    ┆ back_x    ┆ back_y    ┆ back_z    ┆ thigh_x   ┆ thigh_y   ┆ thigh_z   ┆ label │\n",
       "│ ---          ┆ ---       ┆ ---       ┆ ---       ┆ ---       ┆ ---       ┆ ---       ┆ ---   │\n",
       "│ datetime[μs] ┆ f64       ┆ f64       ┆ f64       ┆ f64       ┆ f64       ┆ f64       ┆ i64   │\n",
       "╞══════════════╪═══════════╪═══════════╪═══════════╪═══════════╪═══════════╪═══════════╪═══════╡\n",
       "│ 2019-01-12   ┆ 0.330293  ┆ 1.353248  ┆ 1.749055  ┆ -7.181078 ┆ -0.822551 ┆ 0.454455  ┆ 6     │\n",
       "│ 00:00:00     ┆           ┆           ┆           ┆           ┆           ┆           ┆       │\n",
       "│ 2019-01-12   ┆ 0.625506  ┆ 0.129082  ┆ 0.315552  ┆ -1.531676 ┆ -2.501871 ┆ -0.809751 ┆ 6     │\n",
       "│ 00:00:00     ┆           ┆           ┆           ┆           ┆           ┆           ┆       │\n",
       "│ 2019-01-12   ┆ 1.403332  ┆ -0.166845 ┆ 0.153423  ┆ 0.075705  ┆ 0.308988  ┆ -1.397501 ┆ 6     │\n",
       "│ 00:00:00     ┆           ┆           ┆           ┆           ┆           ┆           ┆       │\n",
       "│ 2019-01-12   ┆ 1.337504  ┆ -0.359878 ┆ 0.398052  ┆ -0.569856 ┆ 0.542315  ┆ -1.102051 ┆ 6     │\n",
       "│ 00:00:00     ┆           ┆           ┆           ┆           ┆           ┆           ┆       │\n",
       "│ 2019-01-12   ┆ -2.238628 ┆ 0.277729  ┆ 0.513598  ┆ -1.314569 ┆ -0.263245 ┆ -0.586286 ┆ 6     │\n",
       "│ 00:00:00     ┆           ┆           ┆           ┆           ┆           ┆           ┆       │\n",
       "│ …            ┆ …         ┆ …         ┆ …         ┆ …         ┆ …         ┆ …         ┆ …     │\n",
       "│ 2019-01-12   ┆ -0.75469  ┆ 0.538949  ┆ -0.425195 ┆ -1.462605 ┆ -2.305023 ┆ -1.132202 ┆ 3     │\n",
       "│ 00:59:55     ┆           ┆           ┆           ┆           ┆           ┆           ┆       │\n",
       "│ 2019-01-12   ┆ -0.383556 ┆ 0.968782  ┆ -0.41047  ┆ -1.005387 ┆ 1.599206  ┆ -1.222416 ┆ 3     │\n",
       "│ 00:59:55     ┆           ┆           ┆           ┆           ┆           ┆           ┆       │\n",
       "│ 2019-01-12   ┆ -0.118463 ┆ 0.496703  ┆ -0.279943 ┆ -0.498276 ┆ 1.42574   ┆ -0.844314 ┆ 3     │\n",
       "│ 00:59:55     ┆           ┆           ┆           ┆           ┆           ┆           ┆       │\n",
       "│ 2019-01-12   ┆ -0.361572 ┆ -0.211942 ┆ -0.245138 ┆ -0.67485  ┆ -1.987632 ┆ -0.729889 ┆ 3     │\n",
       "│ 00:59:55     ┆           ┆           ┆           ┆           ┆           ┆           ┆       │\n",
       "│ 2019-01-12   ┆ -0.422352 ┆ -0.068312 ┆ -0.27392  ┆ -0.641328 ┆ -1.47792  ┆ -0.417125 ┆ 3     │\n",
       "│ 00:59:55     ┆           ┆           ┆           ┆           ┆           ┆           ┆       │\n",
       "└──────────────┴───────────┴───────────┴───────────┴───────────┴───────────┴───────────┴───────┘"
      ]
     },
     "execution_count": 8,
     "metadata": {},
     "output_type": "execute_result"
    }
   ],
   "source": [
    "sns.set_theme(style=\"whitegrid\")\n",
    "plt.figure(figsize=(15, 10))\n",
    "for i, col in enumerate(quantitative_cols):\n",
    "    plt.subplot(2, 3, i + 1)\n",
    "    sns.boxplot(y=df[col])\n",
    "    plt.title(f\"Boxplot de {col}\")\n",
    "plt.tight_layout()\n",
    "plt.show()\n",
    "\n",
    "# Z-Score\n",
    "z_scores = stats.zscore(df[quantitative_cols])\n",
    "abs_z_scores = abs(z_scores)\n",
    "outliers_z = (abs_z_scores > 3).any(axis=1)  # noqa: PLR2004\n",
    "\n",
    "# Muestra las filas que son outliers\n",
    "outlier_rows_z = df.filter(outliers_z)\n",
    "print(\"Número de outliers detectados por Z-Score:\", outlier_rows_z.shape[0])\n",
    "print(outlier_rows_z)\n",
    "\n",
    "# IQR (Rango Intercuartílico)\n",
    "Q1 = df[quantitative_cols].quantile(0.25)\n",
    "Q3 = df[quantitative_cols].quantile(0.75)\n",
    "IQR = Q3 - Q1\n",
    "\n",
    "# Define límites para detectar outliers\n",
    "lower_bound = Q1 - 1.5 * IQR\n",
    "upper_bound = Q3 + 1.5 * IQR\n",
    "\n",
    "# Detecta outliers\n",
    "outliers_iqr: list[bool] = (\n",
    "    (df[quantitative_cols].to_numpy() < lower_bound.to_numpy())\n",
    "    | (df[quantitative_cols].to_numpy() > upper_bound.to_numpy())\n",
    ").any(axis=1)  # type: ignore  # noqa: PGH003\n",
    "\n",
    "\n",
    "# Muestra las filas que son outliers\n",
    "outlier_rows_iqr = df.filter(outliers_iqr)\n",
    "print(\"Número de outliers detectados por IQR:\", outlier_rows_iqr.shape[0])\n",
    "outlier_rows_iqr"
   ]
  },
  {
   "cell_type": "code",
   "execution_count": 9,
   "metadata": {
    "colab": {
     "base_uri": "https://localhost:8080/",
     "height": 838
    },
    "execution": {
     "iopub.execute_input": "2025-05-29T04:54:06.804351Z",
     "iopub.status.busy": "2025-05-29T04:54:06.804106Z",
     "iopub.status.idle": "2025-05-29T04:54:08.036744Z",
     "shell.execute_reply": "2025-05-29T04:54:08.036313Z"
    },
    "id": "Ot9Xep_J_YYB",
    "outputId": "ba0fb8c2-c061-49ba-a166-9a268250a16c"
   },
   "outputs": [
    {
     "data": {
      "text/markdown": [
       "Primeras filas del DataFrame preprocesado:"
      ],
      "text/plain": [
       "<IPython.core.display.Markdown object>"
      ]
     },
     "metadata": {},
     "output_type": "display_data"
    },
    {
     "data": {
      "text/html": [
       "<div><style>\n",
       ".dataframe > thead > tr,\n",
       ".dataframe > tbody > tr {\n",
       "  text-align: right;\n",
       "  white-space: pre-wrap;\n",
       "}\n",
       "</style>\n",
       "<small>shape: (5, 8)</small><table border=\"1\" class=\"dataframe\"><thead><tr><th>timestamp</th><th>back_x</th><th>back_y</th><th>back_z</th><th>thigh_x</th><th>thigh_y</th><th>thigh_z</th><th>label</th></tr><tr><td>datetime[μs]</td><td>f64</td><td>f64</td><td>f64</td><td>f64</td><td>f64</td><td>f64</td><td>i64</td></tr></thead><tbody><tr><td>2019-01-12 00:00:00</td><td>0.330293</td><td>1.353248</td><td>1.749055</td><td>-7.181078</td><td>-0.822551</td><td>0.454455</td><td>6</td></tr><tr><td>2019-01-12 00:00:00</td><td>0.93969</td><td>1.276724</td><td>1.341687</td><td>2.387553</td><td>0.684944</td><td>-0.047014</td><td>6</td></tr><tr><td>2019-01-12 00:00:00</td><td>-0.757338</td><td>0.863492</td><td>0.006493</td><td>0.893189</td><td>-0.255631</td><td>-1.209252</td><td>6</td></tr><tr><td>2019-01-12 00:00:00</td><td>0.625506</td><td>0.129082</td><td>0.315552</td><td>-1.531676</td><td>-2.501871</td><td>-0.809751</td><td>6</td></tr><tr><td>2019-01-12 00:00:00</td><td>1.403332</td><td>-0.166845</td><td>0.153423</td><td>0.075705</td><td>0.308988</td><td>-1.397501</td><td>6</td></tr></tbody></table></div>"
      ],
      "text/plain": [
       "shape: (5, 8)\n",
       "┌──────────────┬───────────┬───────────┬──────────┬───────────┬───────────┬───────────┬───────┐\n",
       "│ timestamp    ┆ back_x    ┆ back_y    ┆ back_z   ┆ thigh_x   ┆ thigh_y   ┆ thigh_z   ┆ label │\n",
       "│ ---          ┆ ---       ┆ ---       ┆ ---      ┆ ---       ┆ ---       ┆ ---       ┆ ---   │\n",
       "│ datetime[μs] ┆ f64       ┆ f64       ┆ f64      ┆ f64       ┆ f64       ┆ f64       ┆ i64   │\n",
       "╞══════════════╪═══════════╪═══════════╪══════════╪═══════════╪═══════════╪═══════════╪═══════╡\n",
       "│ 2019-01-12   ┆ 0.330293  ┆ 1.353248  ┆ 1.749055 ┆ -7.181078 ┆ -0.822551 ┆ 0.454455  ┆ 6     │\n",
       "│ 00:00:00     ┆           ┆           ┆          ┆           ┆           ┆           ┆       │\n",
       "│ 2019-01-12   ┆ 0.93969   ┆ 1.276724  ┆ 1.341687 ┆ 2.387553  ┆ 0.684944  ┆ -0.047014 ┆ 6     │\n",
       "│ 00:00:00     ┆           ┆           ┆          ┆           ┆           ┆           ┆       │\n",
       "│ 2019-01-12   ┆ -0.757338 ┆ 0.863492  ┆ 0.006493 ┆ 0.893189  ┆ -0.255631 ┆ -1.209252 ┆ 6     │\n",
       "│ 00:00:00     ┆           ┆           ┆          ┆           ┆           ┆           ┆       │\n",
       "│ 2019-01-12   ┆ 0.625506  ┆ 0.129082  ┆ 0.315552 ┆ -1.531676 ┆ -2.501871 ┆ -0.809751 ┆ 6     │\n",
       "│ 00:00:00     ┆           ┆           ┆          ┆           ┆           ┆           ┆       │\n",
       "│ 2019-01-12   ┆ 1.403332  ┆ -0.166845 ┆ 0.153423 ┆ 0.075705  ┆ 0.308988  ┆ -1.397501 ┆ 6     │\n",
       "│ 00:00:00     ┆           ┆           ┆          ┆           ┆           ┆           ┆       │\n",
       "└──────────────┴───────────┴───────────┴──────────┴───────────┴───────────┴───────────┴───────┘"
      ]
     },
     "metadata": {},
     "output_type": "display_data"
    },
    {
     "data": {
      "text/markdown": [
       "Resumen estadístico del DataFrame preprocesado:"
      ],
      "text/plain": [
       "<IPython.core.display.Markdown object>"
      ]
     },
     "metadata": {},
     "output_type": "display_data"
    },
    {
     "data": {
      "text/html": [
       "<div><style>\n",
       ".dataframe > thead > tr,\n",
       ".dataframe > tbody > tr {\n",
       "  text-align: right;\n",
       "  white-space: pre-wrap;\n",
       "}\n",
       "</style>\n",
       "<small>shape: (9, 9)</small><table border=\"1\" class=\"dataframe\"><thead><tr><th>statistic</th><th>timestamp</th><th>back_x</th><th>back_y</th><th>back_z</th><th>thigh_x</th><th>thigh_y</th><th>thigh_z</th><th>label</th></tr><tr><td>str</td><td>str</td><td>f64</td><td>f64</td><td>f64</td><td>f64</td><td>f64</td><td>f64</td><td>f64</td></tr></thead><tbody><tr><td>&quot;count&quot;</td><td>&quot;6461328&quot;</td><td>6.461328e6</td><td>6.461328e6</td><td>6.461328e6</td><td>6.461328e6</td><td>6.461328e6</td><td>6.461328e6</td><td>6.461328e6</td></tr><tr><td>&quot;null_count&quot;</td><td>&quot;0&quot;</td><td>0.0</td><td>0.0</td><td>0.0</td><td>0.0</td><td>0.0</td><td>0.0</td><td>0.0</td></tr><tr><td>&quot;mean&quot;</td><td>&quot;2012-02-20 18:20:58.342890&quot;</td><td>-2.0081e-13</td><td>1.8051e-16</td><td>3.2458e-14</td><td>-2.7717e-15</td><td>1.1915e-14</td><td>-1.0838e-13</td><td>6.783833</td></tr><tr><td>&quot;std&quot;</td><td>null</td><td>1.0</td><td>1.0</td><td>1.0</td><td>1.0</td><td>1.0</td><td>1.0</td><td>11.432381</td></tr><tr><td>&quot;min&quot;</td><td>&quot;2000-01-01 00:00:00&quot;</td><td>-18.843224</td><td>-18.576544</td><td>-17.560763</td><td>-11.822707</td><td>-20.641445</td><td>-11.377443</td><td>1.0</td></tr><tr><td>&quot;25%&quot;</td><td>&quot;2000-01-01 01:23:47&quot;</td><td>-0.311011</td><td>-0.302234</td><td>-0.555719</td><td>-0.605612</td><td>-0.311401</td><td>-0.720868</td><td>3.0</td></tr><tr><td>&quot;50%&quot;</td><td>&quot;2019-01-12 00:12:46&quot;</td><td>-0.2382</td><td>0.068585</td><td>0.087534</td><td>0.276456</td><td>0.030255</td><td>0.442228</td><td>7.0</td></tr><tr><td>&quot;75%&quot;</td><td>&quot;2019-01-12 00:49:20&quot;</td><td>0.192415</td><td>0.37103</td><td>0.591797</td><td>0.681751</td><td>0.345152</td><td>0.779459</td><td>7.0</td></tr><tr><td>&quot;max&quot;</td><td>&quot;2019-01-12 02:23:36&quot;</td><td>8.412968</td><td>28.140243</td><td>13.924667</td><td>13.721867</td><td>20.540245</td><td>10.910662</td><td>140.0</td></tr></tbody></table></div>"
      ],
      "text/plain": [
       "shape: (9, 9)\n",
       "┌───────────┬───────────┬───────────┬───────────┬───┬───────────┬───────────┬───────────┬──────────┐\n",
       "│ statistic ┆ timestamp ┆ back_x    ┆ back_y    ┆ … ┆ thigh_x   ┆ thigh_y   ┆ thigh_z   ┆ label    │\n",
       "│ ---       ┆ ---       ┆ ---       ┆ ---       ┆   ┆ ---       ┆ ---       ┆ ---       ┆ ---      │\n",
       "│ str       ┆ str       ┆ f64       ┆ f64       ┆   ┆ f64       ┆ f64       ┆ f64       ┆ f64      │\n",
       "╞═══════════╪═══════════╪═══════════╪═══════════╪═══╪═══════════╪═══════════╪═══════════╪══════════╡\n",
       "│ count     ┆ 6461328   ┆ 6.461328e ┆ 6.461328e ┆ … ┆ 6.461328e ┆ 6.461328e ┆ 6.461328e ┆ 6.461328 │\n",
       "│           ┆           ┆ 6         ┆ 6         ┆   ┆ 6         ┆ 6         ┆ 6         ┆ e6       │\n",
       "│ null_coun ┆ 0         ┆ 0.0       ┆ 0.0       ┆ … ┆ 0.0       ┆ 0.0       ┆ 0.0       ┆ 0.0      │\n",
       "│ t         ┆           ┆           ┆           ┆   ┆           ┆           ┆           ┆          │\n",
       "│ mean      ┆ 2012-02-2 ┆ -2.0081e- ┆ 1.8051e-1 ┆ … ┆ -2.7717e- ┆ 1.1915e-1 ┆ -1.0838e- ┆ 6.783833 │\n",
       "│           ┆ 0 18:20:5 ┆ 13        ┆ 6         ┆   ┆ 15        ┆ 4         ┆ 13        ┆          │\n",
       "│           ┆ 8.342890  ┆           ┆           ┆   ┆           ┆           ┆           ┆          │\n",
       "│ std       ┆ null      ┆ 1.0       ┆ 1.0       ┆ … ┆ 1.0       ┆ 1.0       ┆ 1.0       ┆ 11.43238 │\n",
       "│           ┆           ┆           ┆           ┆   ┆           ┆           ┆           ┆ 1        │\n",
       "│ min       ┆ 2000-01-0 ┆ -18.84322 ┆ -18.57654 ┆ … ┆ -11.82270 ┆ -20.64144 ┆ -11.37744 ┆ 1.0      │\n",
       "│           ┆ 1         ┆ 4         ┆ 4         ┆   ┆ 7         ┆ 5         ┆ 3         ┆          │\n",
       "│           ┆ 00:00:00  ┆           ┆           ┆   ┆           ┆           ┆           ┆          │\n",
       "│ 25%       ┆ 2000-01-0 ┆ -0.311011 ┆ -0.302234 ┆ … ┆ -0.605612 ┆ -0.311401 ┆ -0.720868 ┆ 3.0      │\n",
       "│           ┆ 1         ┆           ┆           ┆   ┆           ┆           ┆           ┆          │\n",
       "│           ┆ 01:23:47  ┆           ┆           ┆   ┆           ┆           ┆           ┆          │\n",
       "│ 50%       ┆ 2019-01-1 ┆ -0.2382   ┆ 0.068585  ┆ … ┆ 0.276456  ┆ 0.030255  ┆ 0.442228  ┆ 7.0      │\n",
       "│           ┆ 2         ┆           ┆           ┆   ┆           ┆           ┆           ┆          │\n",
       "│           ┆ 00:12:46  ┆           ┆           ┆   ┆           ┆           ┆           ┆          │\n",
       "│ 75%       ┆ 2019-01-1 ┆ 0.192415  ┆ 0.37103   ┆ … ┆ 0.681751  ┆ 0.345152  ┆ 0.779459  ┆ 7.0      │\n",
       "│           ┆ 2         ┆           ┆           ┆   ┆           ┆           ┆           ┆          │\n",
       "│           ┆ 00:49:20  ┆           ┆           ┆   ┆           ┆           ┆           ┆          │\n",
       "│ max       ┆ 2019-01-1 ┆ 8.412968  ┆ 28.140243 ┆ … ┆ 13.721867 ┆ 20.540245 ┆ 10.910662 ┆ 140.0    │\n",
       "│           ┆ 2         ┆           ┆           ┆   ┆           ┆           ┆           ┆          │\n",
       "│           ┆ 02:23:36  ┆           ┆           ┆   ┆           ┆           ┆           ┆          │\n",
       "└───────────┴───────────┴───────────┴───────────┴───┴───────────┴───────────┴───────────┴──────────┘"
      ]
     },
     "metadata": {},
     "output_type": "display_data"
    },
    {
     "data": {
      "text/markdown": [
       "Información del DataFrame preprocesado:"
      ],
      "text/plain": [
       "<IPython.core.display.Markdown object>"
      ]
     },
     "metadata": {},
     "output_type": "display_data"
    },
    {
     "name": "stdout",
     "output_type": "stream",
     "text": [
      "DataFrame Schema:\n",
      "Schema({'timestamp': Datetime(time_unit='us', time_zone=None), 'back_x': Float64, 'back_y': Float64, 'back_z': Float64, 'thigh_x': Float64, 'thigh_y': Float64, 'thigh_z': Float64, 'label': Int64})\n",
      "\n",
      "DataFrame Memory Usage:\n",
      "394.3681640625 MB\n"
     ]
    }
   ],
   "source": [
    "display(\n",
    "    Markdown(\"Primeras filas del DataFrame preprocesado:\"),\n",
    "    df.head(),\n",
    "    Markdown(\"Resumen estadístico del DataFrame preprocesado:\"),\n",
    "    df.describe(),\n",
    "    Markdown(\"Información del DataFrame preprocesado:\"),\n",
    ")\n",
    "print(\"DataFrame Schema:\")\n",
    "print(df.schema)\n",
    "print(\"\\nDataFrame Memory Usage:\")\n",
    "print(df.estimated_size(\"mb\"), \"MB\")"
   ]
  },
  {
   "cell_type": "code",
   "execution_count": null,
   "metadata": {
    "execution": {
     "iopub.execute_input": "2025-05-29T04:54:08.038189Z",
     "iopub.status.busy": "2025-05-29T04:54:08.038026Z",
     "iopub.status.idle": "2025-05-29T04:54:08.395080Z",
     "shell.execute_reply": "2025-05-29T04:54:08.394462Z"
    },
    "id": "QvpFuRJ2JiqB"
   },
   "outputs": [],
   "source": [
    "# Aplicar PCA para reducir a 2 dimensiones\n",
    "pca = PCA(n_components=2)\n",
    "principal_components = pca.fit_transform(df[quantitative_cols].to_arrow())\n",
    "df = df.with_columns(\n",
    "    [\n",
    "        pl.Series(\"PC1\", principal_components[:, 0]),\n",
    "        pl.Series(\"PC2\", principal_components[:, 1]),\n",
    "    ]\n",
    ")"
   ]
  },
  {
   "cell_type": "code",
   "execution_count": 11,
   "metadata": {
    "colab": {
     "base_uri": "https://localhost:8080/"
    },
    "execution": {
     "iopub.execute_input": "2025-05-29T04:54:08.397075Z",
     "iopub.status.busy": "2025-05-29T04:54:08.396865Z",
     "iopub.status.idle": "2025-05-29T04:54:08.399990Z",
     "shell.execute_reply": "2025-05-29T04:54:08.399557Z"
    },
    "id": "_rQfjRBjJouo",
    "outputId": "945212a8-d9a8-46ee-8f97-3a9846764d49"
   },
   "outputs": [
    {
     "name": "stdout",
     "output_type": "stream",
     "text": [
      "['timestamp', 'back_x', 'back_y', 'back_z', 'thigh_x', 'thigh_y', 'thigh_z', 'label', 'PC1', 'PC2']\n"
     ]
    }
   ],
   "source": [
    "print(df.columns)"
   ]
  },
  {
   "cell_type": "markdown",
   "metadata": {
    "id": "elnj9Hqqx0JY"
   },
   "source": [
    "## **Descripción del conjunto de datos**\n"
   ]
  },
  {
   "cell_type": "markdown",
   "metadata": {
    "id": "cf9hjpFZT1Mj"
   },
   "source": [
    "El conjunto de datos contiene registros de acelerómetros con mediciones en\n",
    "diferentes ejes para la espalda (back_x, back_y, back_z) y el muslo (thigh_x,\n",
    "thigh_y, thigh_z), junto con una etiqueta (label) que clasifica la actividad.\n",
    "\n",
    "- Se identificaron 6,461,328 registros en total.\n",
    "\n",
    "- Se realizó un análisis exploratorio, mostrando la media cercana a 0 tras\n",
    "  normalización, lo que sugiere datos estandarizados.\n",
    "\n",
    "- Se detectaron 507,343 valores atípicos usando Z-Score, indicando posibles\n",
    "  variaciones extremas en la actividad.\n",
    "\n",
    "- Se aplicó **PCA**(Análisis de Componentes Principales ) para reducir la\n",
    "  dimensionalidad a 2 componentes principales, facilitando la visualización de\n",
    "  patrones en los datos.\n"
   ]
  },
  {
   "cell_type": "markdown",
   "metadata": {
    "id": "BQuOgGVBbrOL"
   },
   "source": [
    "## **Análisis Exploratorio de Datos (EDA)**\n"
   ]
  },
  {
   "cell_type": "markdown",
   "metadata": {
    "id": "z8PexLIRc3G5"
   },
   "source": [
    "Se realizará un análisis exploratorio de los datos obtenidos por acelerómetros\n",
    "para identificar patrones, anomalías y relaciones entre variables mediante\n",
    "histogramas y matrices de correlación. Este proceso optimizará la selección de\n",
    "características y la normalización de los datos para aplicar clustering con\n",
    "K-Means de manera efectiva.\n"
   ]
  },
  {
   "cell_type": "code",
   "execution_count": 12,
   "metadata": {
    "colab": {
     "base_uri": "https://localhost:8080/",
     "height": 1000
    },
    "execution": {
     "iopub.execute_input": "2025-05-29T04:54:08.401741Z",
     "iopub.status.busy": "2025-05-29T04:54:08.401494Z",
     "iopub.status.idle": "2025-05-29T04:54:09.550155Z",
     "shell.execute_reply": "2025-05-29T04:54:09.549750Z"
    },
    "id": "J5AodM4ubum1",
    "outputId": "61a0c07e-1dd6-4e9f-d16e-b1f4ae34b555"
   },
   "outputs": [
    {
     "name": "stderr",
     "output_type": "stream",
     "text": [
      "C:\\Users\\alexr\\AppData\\Local\\Temp\\ipykernel_3096\\3128101329.py:9: UserWarning: FigureCanvasAgg is non-interactive, and thus cannot be shown\n",
      "  plt.show()\n"
     ]
    }
   ],
   "source": [
    "plt.figure(figsize=(15, 10))\n",
    "for i, col in enumerate(quantitative_cols):\n",
    "    plt.subplot(2, 3, i + 1)\n",
    "    plt.hist(df[col], bins=20)\n",
    "    plt.title(f\"Histograma de {col}\")\n",
    "    plt.xlabel(col)\n",
    "    plt.ylabel(\"Frecuencia\")\n",
    "plt.tight_layout()\n",
    "plt.show()"
   ]
  },
  {
   "cell_type": "code",
   "execution_count": 13,
   "metadata": {
    "colab": {
     "base_uri": "https://localhost:8080/",
     "height": 1000
    },
    "execution": {
     "iopub.execute_input": "2025-05-29T04:54:09.551661Z",
     "iopub.status.busy": "2025-05-29T04:54:09.551510Z",
     "iopub.status.idle": "2025-05-29T04:55:40.297051Z",
     "shell.execute_reply": "2025-05-29T04:55:40.296574Z"
    },
    "id": "IvQunKxtia-K",
    "outputId": "791f98c0-35ec-4f5e-f01e-fb2c41da86ca"
   },
   "outputs": [
    {
     "name": "stderr",
     "output_type": "stream",
     "text": [
      "C:\\Users\\alexr\\AppData\\Local\\Temp\\ipykernel_3096\\1456290629.py:25: UserWarning: FigureCanvasAgg is non-interactive, and thus cannot be shown\n",
      "  plt.show()\n"
     ]
    }
   ],
   "source": [
    "cols = 3\n",
    "rows = math.ceil(len(quantitative_cols) / cols)\n",
    "fig, axs = plt.subplots(rows, cols, figsize=(15, 5 * rows))\n",
    "\n",
    "axs = axs.flatten()\n",
    "\n",
    "i = 0\n",
    "for i, column in enumerate(quantitative_cols):\n",
    "    sns.kdeplot(\n",
    "        data=df,\n",
    "        x=column,\n",
    "        hue=\"label\",\n",
    "        fill=True,\n",
    "        common_norm=False,\n",
    "        alpha=0.5,\n",
    "        ax=axs[i],\n",
    "    )\n",
    "    axs[i].set_title(f\"Densidad de {column} según la actividad\")\n",
    "\n",
    "# Ocultar los gráficos vacíos\n",
    "for j in range(i + 1, len(axs)):\n",
    "    fig.delaxes(axs[j])\n",
    "\n",
    "plt.tight_layout()\n",
    "plt.show()"
   ]
  },
  {
   "cell_type": "code",
   "execution_count": 14,
   "metadata": {
    "colab": {
     "base_uri": "https://localhost:8080/",
     "height": 573
    },
    "execution": {
     "iopub.execute_input": "2025-05-29T04:55:40.298658Z",
     "iopub.status.busy": "2025-05-29T04:55:40.298391Z",
     "iopub.status.idle": "2025-05-29T04:55:45.148504Z",
     "shell.execute_reply": "2025-05-29T04:55:45.148022Z"
    },
    "id": "RRZ2MZnYbxBk",
    "outputId": "3c584b31-0b5a-4b9d-c3ca-20432eb10287"
   },
   "outputs": [
    {
     "name": "stderr",
     "output_type": "stream",
     "text": [
      "C:\\Users\\alexr\\AppData\\Local\\Temp\\ipykernel_3096\\2305242372.py:6: UserWarning: FigureCanvasAgg is non-interactive, and thus cannot be shown\n",
      "  plt.show()\n"
     ]
    }
   ],
   "source": [
    "plt.figure(figsize=(8, 6))\n",
    "sns.countplot(x=\"label\", data=df)\n",
    "plt.title(\"Distribución de Actividades\")\n",
    "plt.xlabel(\"Código de Actividad\")\n",
    "plt.ylabel(\"Cantidad de Muestras\")\n",
    "plt.show()"
   ]
  },
  {
   "cell_type": "code",
   "execution_count": 15,
   "metadata": {
    "colab": {
     "base_uri": "https://localhost:8080/",
     "height": 704
    },
    "execution": {
     "iopub.execute_input": "2025-05-29T04:55:45.150166Z",
     "iopub.status.busy": "2025-05-29T04:55:45.149987Z",
     "iopub.status.idle": "2025-05-29T04:55:45.849600Z",
     "shell.execute_reply": "2025-05-29T04:55:45.849053Z"
    },
    "id": "7yhoPf-qbyRD",
    "outputId": "bd187d04-54c2-49a1-9d07-7475ffe2b705"
   },
   "outputs": [
    {
     "name": "stderr",
     "output_type": "stream",
     "text": [
      "C:\\Users\\alexr\\AppData\\Local\\Temp\\ipykernel_3096\\324619519.py:6: UserWarning: FigureCanvasAgg is non-interactive, and thus cannot be shown\n",
      "  plt.show()\n"
     ]
    }
   ],
   "source": [
    "corr_matrix = df[quantitative_cols].corr()\n",
    "\n",
    "plt.figure(figsize=(10, 8))\n",
    "sns.heatmap(corr_matrix, annot=True, cmap=\"coolwarm\", vmin=-1, vmax=1)\n",
    "plt.title(\"Matriz de Correlación de Datos del Acelerómetro\")\n",
    "plt.show()"
   ]
  },
  {
   "cell_type": "code",
   "execution_count": 16,
   "metadata": {
    "colab": {
     "base_uri": "https://localhost:8080/",
     "height": 608
    },
    "execution": {
     "iopub.execute_input": "2025-05-29T04:55:45.851069Z",
     "iopub.status.busy": "2025-05-29T04:55:45.850887Z",
     "iopub.status.idle": "2025-05-29T04:57:32.726420Z",
     "shell.execute_reply": "2025-05-29T04:57:32.725942Z"
    },
    "id": "NUuXhuEybzTg",
    "outputId": "727e18fa-7883-4304-df95-9001c912ce01"
   },
   "outputs": [
    {
     "name": "stderr",
     "output_type": "stream",
     "text": [
      "C:\\Users\\alexr\\AppData\\Local\\Temp\\ipykernel_3096\\3025297530.py:7: UserWarning: FigureCanvasAgg is non-interactive, and thus cannot be shown\n",
      "  plt.show()\n"
     ]
    }
   ],
   "source": [
    "plt.figure(figsize=(8, 6))\n",
    "sns.scatterplot(x=\"PC1\", y=\"PC2\", hue=\"label\", data=df, palette=\"deep\")\n",
    "plt.title(\"PCA de Datos del Acelerómetro\")\n",
    "plt.xlabel(\"Componente Principal 1\")\n",
    "plt.ylabel(\"Componente Principal 2\")\n",
    "plt.legend(loc=\"upper right\")\n",
    "plt.show()"
   ]
  },
  {
   "cell_type": "markdown",
   "metadata": {
    "id": "F73S2X0HyNfI"
   },
   "source": [
    "## **Aplicación de K-Means para Clustering**\n"
   ]
  },
  {
   "cell_type": "markdown",
   "metadata": {
    "id": "YrCFmShiG8CO"
   },
   "source": [
    "El clustering es una técnica de aprendizaje no supervisado que se utiliza para\n",
    "agrupar datos en función de sus características. En este caso, aplicaremos el\n",
    "algoritmo K-Means para identificar patrones en los datos del acelerómetro. El\n",
    "objetivo es agrupar las muestras en diferentes clústeres basados en las\n",
    "características cuantitativas, lo que puede ayudarnos a entender mejor las\n",
    "diferentes actividades representadas en el conjunto de datos.\n"
   ]
  },
  {
   "cell_type": "code",
   "execution_count": 17,
   "metadata": {
    "execution": {
     "iopub.execute_input": "2025-05-29T04:57:32.728069Z",
     "iopub.status.busy": "2025-05-29T04:57:32.727901Z",
     "iopub.status.idle": "2025-05-29T04:57:32.730150Z",
     "shell.execute_reply": "2025-05-29T04:57:32.729750Z"
    },
    "id": "kiorEJ9mG6dJ"
   },
   "outputs": [],
   "source": [
    "# Definir el número de clústeres\n",
    "n_clusters = 4"
   ]
  },
  {
   "cell_type": "code",
   "execution_count": 18,
   "metadata": {
    "execution": {
     "iopub.execute_input": "2025-05-29T04:57:32.731756Z",
     "iopub.status.busy": "2025-05-29T04:57:32.731511Z",
     "iopub.status.idle": "2025-05-29T04:57:34.907043Z",
     "shell.execute_reply": "2025-05-29T04:57:34.906520Z"
    },
    "id": "Ki1JIohLIzJJ"
   },
   "outputs": [],
   "source": [
    "# Aplicar K-Means\n",
    "kmeans = KMeans(n_clusters=n_clusters, random_state=42)\n",
    "df = df.with_columns(\n",
    "    pl.Series(\"cluster\", kmeans.fit_predict(df[quantitative_cols].to_arrow()))\n",
    ")"
   ]
  },
  {
   "cell_type": "code",
   "execution_count": 19,
   "metadata": {
    "colab": {
     "base_uri": "https://localhost:8080/",
     "height": 660
    },
    "execution": {
     "iopub.execute_input": "2025-05-29T04:57:34.908834Z",
     "iopub.status.busy": "2025-05-29T04:57:34.908592Z",
     "iopub.status.idle": "2025-05-29T04:59:52.534332Z",
     "shell.execute_reply": "2025-05-29T04:59:52.533840Z"
    },
    "id": "aTkys63AJEQN",
    "outputId": "769432b4-9448-472c-efa4-cea9a354cfde"
   },
   "outputs": [
    {
     "name": "stderr",
     "output_type": "stream",
     "text": [
      "C:\\Users\\alexr\\AppData\\Local\\Temp\\ipykernel_3096\\2943160364.py:3: UserWarning: \n",
      "The markers list has fewer values (3) than needed (12) and will cycle, which may produce an uninterpretable plot.\n",
      "  sns.scatterplot(\n",
      "C:\\Users\\alexr\\AppData\\Local\\Temp\\ipykernel_3096\\2943160364.py:16: UserWarning: FigureCanvasAgg is non-interactive, and thus cannot be shown\n",
      "  plt.show()\n"
     ]
    }
   ],
   "source": [
    "# Visualizar los resultados del clustering\n",
    "plt.figure(figsize=(8, 6))\n",
    "sns.scatterplot(\n",
    "    x=\"PC1\",\n",
    "    y=\"PC2\",\n",
    "    hue=\"cluster\",\n",
    "    data=df,\n",
    "    palette=\"deep\",\n",
    "    style=\"label\",\n",
    "    markers=[\"o\", \"s\", \"D\"],\n",
    ")\n",
    "plt.title(\"Clustering K-Means de Datos del Acelerómetro\")\n",
    "plt.xlabel(\"Componente Principal 1\")\n",
    "plt.ylabel(\"Componente Principal 2\")\n",
    "plt.legend(title=\"Cluster\", loc=\"upper right\")\n",
    "plt.show()"
   ]
  },
  {
   "cell_type": "code",
   "execution_count": 20,
   "metadata": {
    "colab": {
     "base_uri": "https://localhost:8080/"
    },
    "execution": {
     "iopub.execute_input": "2025-05-29T04:59:52.535972Z",
     "iopub.status.busy": "2025-05-29T04:59:52.535796Z",
     "iopub.status.idle": "2025-05-29T04:59:52.560966Z",
     "shell.execute_reply": "2025-05-29T04:59:52.560456Z"
    },
    "id": "9jCwRnFBLEad",
    "outputId": "9e20df33-d42f-48da-d7b4-1e97152052ac"
   },
   "outputs": [
    {
     "name": "stdout",
     "output_type": "stream",
     "text": [
      "Número de muestras en cada clúster:\n",
      "shape: (4, 2)\n",
      "┌─────────┬─────────┐\n",
      "│ cluster ┆ count   │\n",
      "│ ---     ┆ ---     │\n",
      "│ i32     ┆ u32     │\n",
      "╞═════════╪═════════╡\n",
      "│ 3       ┆ 134164  │\n",
      "│ 0       ┆ 994941  │\n",
      "│ 2       ┆ 2536244 │\n",
      "│ 1       ┆ 2795979 │\n",
      "└─────────┴─────────┘\n"
     ]
    }
   ],
   "source": [
    "# Mostrar el número de muestras en cada clúster\n",
    "print(\"Número de muestras en cada clúster:\")\n",
    "print(df[\"cluster\"].value_counts())"
   ]
  },
  {
   "cell_type": "code",
   "execution_count": 21,
   "metadata": {
    "execution": {
     "iopub.execute_input": "2025-05-29T04:59:52.621657Z",
     "iopub.status.busy": "2025-05-29T04:59:52.621318Z",
     "iopub.status.idle": "2025-05-29T04:59:52.628541Z",
     "shell.execute_reply": "2025-05-29T04:59:52.628156Z"
    },
    "id": "C6U3ukI4bZlW"
   },
   "outputs": [],
   "source": [
    "# Mapear etiquetas a nombres usando Polars\n",
    "label_mapping = {\n",
    "    1: \"walking\",\n",
    "    2: \"running\",\n",
    "    3: \"shuffling\",\n",
    "    4: \"stairs_up\",\n",
    "    5: \"stairs_down\",\n",
    "    6: \"standing\",\n",
    "    7: \"sitting\",\n",
    "    8: \"lying\",\n",
    "    13: \"cycling_sit\",\n",
    "    14: \"cycling_stand\",\n",
    "    130: \"cycling_sit_inactive\",\n",
    "    140: \"cycling_stand_inactive\",\n",
    "}\n",
    "\n",
    "# Agregar columna de actividad usando Polars, asegurando que sea str\n",
    "df = df.with_columns(\n",
    "    pl.col(\"label\")\n",
    "    .map_elements(\n",
    "        lambda x: label_mapping.get(x, \"unknown\"), return_dtype=pl.Utf8\n",
    "    )\n",
    "    .alias(\"activity\")\n",
    ")\n",
    "\n",
    "# Reducimos la cantidad de filas a solo una decima parte\n",
    "size = df.shape[0] // 10\n",
    "df = df.drop_nulls(subset=[\"activity\"])[:size, :]\n",
    "\n",
    "# Seleccionar variables para el modelo\n",
    "features = [\"back_x\", \"back_y\", \"back_z\", \"thigh_x\", \"thigh_y\", \"thigh_z\"]\n",
    "\n",
    "\n",
    "X = df[features].to_numpy()\n",
    "y = df[\"activity\"].to_numpy()"
   ]
  },
  {
   "cell_type": "code",
   "execution_count": 22,
   "metadata": {
    "execution": {
     "iopub.execute_input": "2025-05-29T04:59:52.630135Z",
     "iopub.status.busy": "2025-05-29T04:59:52.629785Z",
     "iopub.status.idle": "2025-05-29T04:59:52.636898Z",
     "shell.execute_reply": "2025-05-29T04:59:52.636517Z"
    },
    "id": "vtjVHk7EbabP"
   },
   "outputs": [],
   "source": [
    "# Normalización\n",
    "scaler = StandardScaler()\n",
    "X_scaled = scaler.fit_transform(X)\n",
    "\n",
    "# Dividir datos\n",
    "X_train, X_test, y_train, y_test = train_test_split(\n",
    "    X_scaled, y, test_size=0.2, random_state=42\n",
    ")\n",
    "\n",
    "# Definir el modelo MLP\n",
    "mlp = MLPClassifier(\n",
    "    hidden_layer_sizes=(64, 32),\n",
    "    activation=\"relu\",\n",
    "    solver=\"adam\",\n",
    "    max_iter=200,\n",
    "    random_state=42,\n",
    ")"
   ]
  },
  {
   "cell_type": "code",
   "execution_count": 23,
   "metadata": {
    "colab": {
     "base_uri": "https://localhost:8080/",
     "height": 115
    },
    "execution": {
     "iopub.execute_input": "2025-05-29T04:59:52.638255Z",
     "iopub.status.busy": "2025-05-29T04:59:52.638113Z",
     "iopub.status.idle": "2025-05-29T05:00:02.147682Z",
     "shell.execute_reply": "2025-05-29T05:00:02.147245Z"
    },
    "id": "_FsFtEFxbglm",
    "outputId": "ae482eef-7a05-4ab6-a643-d039a8f37515"
   },
   "outputs": [
    {
     "name": "stderr",
     "output_type": "stream",
     "text": [
      "c:\\Users\\alexr\\.dev\\har\\api\\.venv\\Lib\\site-packages\\sklearn\\neural_network\\_multilayer_perceptron.py:691: ConvergenceWarning: Stochastic Optimizer: Maximum iterations (200) reached and the optimization hasn't converged yet.\n",
      "  warnings.warn(\n"
     ]
    },
    {
     "data": {
      "text/html": [
       "<style>#sk-container-id-1 {\n",
       "  /* Definition of color scheme common for light and dark mode */\n",
       "  --sklearn-color-text: #000;\n",
       "  --sklearn-color-text-muted: #666;\n",
       "  --sklearn-color-line: gray;\n",
       "  /* Definition of color scheme for unfitted estimators */\n",
       "  --sklearn-color-unfitted-level-0: #fff5e6;\n",
       "  --sklearn-color-unfitted-level-1: #f6e4d2;\n",
       "  --sklearn-color-unfitted-level-2: #ffe0b3;\n",
       "  --sklearn-color-unfitted-level-3: chocolate;\n",
       "  /* Definition of color scheme for fitted estimators */\n",
       "  --sklearn-color-fitted-level-0: #f0f8ff;\n",
       "  --sklearn-color-fitted-level-1: #d4ebff;\n",
       "  --sklearn-color-fitted-level-2: #b3dbfd;\n",
       "  --sklearn-color-fitted-level-3: cornflowerblue;\n",
       "\n",
       "  /* Specific color for light theme */\n",
       "  --sklearn-color-text-on-default-background: var(--sg-text-color, var(--theme-code-foreground, var(--jp-content-font-color1, black)));\n",
       "  --sklearn-color-background: var(--sg-background-color, var(--theme-background, var(--jp-layout-color0, white)));\n",
       "  --sklearn-color-border-box: var(--sg-text-color, var(--theme-code-foreground, var(--jp-content-font-color1, black)));\n",
       "  --sklearn-color-icon: #696969;\n",
       "\n",
       "  @media (prefers-color-scheme: dark) {\n",
       "    /* Redefinition of color scheme for dark theme */\n",
       "    --sklearn-color-text-on-default-background: var(--sg-text-color, var(--theme-code-foreground, var(--jp-content-font-color1, white)));\n",
       "    --sklearn-color-background: var(--sg-background-color, var(--theme-background, var(--jp-layout-color0, #111)));\n",
       "    --sklearn-color-border-box: var(--sg-text-color, var(--theme-code-foreground, var(--jp-content-font-color1, white)));\n",
       "    --sklearn-color-icon: #878787;\n",
       "  }\n",
       "}\n",
       "\n",
       "#sk-container-id-1 {\n",
       "  color: var(--sklearn-color-text);\n",
       "}\n",
       "\n",
       "#sk-container-id-1 pre {\n",
       "  padding: 0;\n",
       "}\n",
       "\n",
       "#sk-container-id-1 input.sk-hidden--visually {\n",
       "  border: 0;\n",
       "  clip: rect(1px 1px 1px 1px);\n",
       "  clip: rect(1px, 1px, 1px, 1px);\n",
       "  height: 1px;\n",
       "  margin: -1px;\n",
       "  overflow: hidden;\n",
       "  padding: 0;\n",
       "  position: absolute;\n",
       "  width: 1px;\n",
       "}\n",
       "\n",
       "#sk-container-id-1 div.sk-dashed-wrapped {\n",
       "  border: 1px dashed var(--sklearn-color-line);\n",
       "  margin: 0 0.4em 0.5em 0.4em;\n",
       "  box-sizing: border-box;\n",
       "  padding-bottom: 0.4em;\n",
       "  background-color: var(--sklearn-color-background);\n",
       "}\n",
       "\n",
       "#sk-container-id-1 div.sk-container {\n",
       "  /* jupyter's `normalize.less` sets `[hidden] { display: none; }`\n",
       "     but bootstrap.min.css set `[hidden] { display: none !important; }`\n",
       "     so we also need the `!important` here to be able to override the\n",
       "     default hidden behavior on the sphinx rendered scikit-learn.org.\n",
       "     See: https://github.com/scikit-learn/scikit-learn/issues/21755 */\n",
       "  display: inline-block !important;\n",
       "  position: relative;\n",
       "}\n",
       "\n",
       "#sk-container-id-1 div.sk-text-repr-fallback {\n",
       "  display: none;\n",
       "}\n",
       "\n",
       "div.sk-parallel-item,\n",
       "div.sk-serial,\n",
       "div.sk-item {\n",
       "  /* draw centered vertical line to link estimators */\n",
       "  background-image: linear-gradient(var(--sklearn-color-text-on-default-background), var(--sklearn-color-text-on-default-background));\n",
       "  background-size: 2px 100%;\n",
       "  background-repeat: no-repeat;\n",
       "  background-position: center center;\n",
       "}\n",
       "\n",
       "/* Parallel-specific style estimator block */\n",
       "\n",
       "#sk-container-id-1 div.sk-parallel-item::after {\n",
       "  content: \"\";\n",
       "  width: 100%;\n",
       "  border-bottom: 2px solid var(--sklearn-color-text-on-default-background);\n",
       "  flex-grow: 1;\n",
       "}\n",
       "\n",
       "#sk-container-id-1 div.sk-parallel {\n",
       "  display: flex;\n",
       "  align-items: stretch;\n",
       "  justify-content: center;\n",
       "  background-color: var(--sklearn-color-background);\n",
       "  position: relative;\n",
       "}\n",
       "\n",
       "#sk-container-id-1 div.sk-parallel-item {\n",
       "  display: flex;\n",
       "  flex-direction: column;\n",
       "}\n",
       "\n",
       "#sk-container-id-1 div.sk-parallel-item:first-child::after {\n",
       "  align-self: flex-end;\n",
       "  width: 50%;\n",
       "}\n",
       "\n",
       "#sk-container-id-1 div.sk-parallel-item:last-child::after {\n",
       "  align-self: flex-start;\n",
       "  width: 50%;\n",
       "}\n",
       "\n",
       "#sk-container-id-1 div.sk-parallel-item:only-child::after {\n",
       "  width: 0;\n",
       "}\n",
       "\n",
       "/* Serial-specific style estimator block */\n",
       "\n",
       "#sk-container-id-1 div.sk-serial {\n",
       "  display: flex;\n",
       "  flex-direction: column;\n",
       "  align-items: center;\n",
       "  background-color: var(--sklearn-color-background);\n",
       "  padding-right: 1em;\n",
       "  padding-left: 1em;\n",
       "}\n",
       "\n",
       "\n",
       "/* Toggleable style: style used for estimator/Pipeline/ColumnTransformer box that is\n",
       "clickable and can be expanded/collapsed.\n",
       "- Pipeline and ColumnTransformer use this feature and define the default style\n",
       "- Estimators will overwrite some part of the style using the `sk-estimator` class\n",
       "*/\n",
       "\n",
       "/* Pipeline and ColumnTransformer style (default) */\n",
       "\n",
       "#sk-container-id-1 div.sk-toggleable {\n",
       "  /* Default theme specific background. It is overwritten whether we have a\n",
       "  specific estimator or a Pipeline/ColumnTransformer */\n",
       "  background-color: var(--sklearn-color-background);\n",
       "}\n",
       "\n",
       "/* Toggleable label */\n",
       "#sk-container-id-1 label.sk-toggleable__label {\n",
       "  cursor: pointer;\n",
       "  display: flex;\n",
       "  width: 100%;\n",
       "  margin-bottom: 0;\n",
       "  padding: 0.5em;\n",
       "  box-sizing: border-box;\n",
       "  text-align: center;\n",
       "  align-items: start;\n",
       "  justify-content: space-between;\n",
       "  gap: 0.5em;\n",
       "}\n",
       "\n",
       "#sk-container-id-1 label.sk-toggleable__label .caption {\n",
       "  font-size: 0.6rem;\n",
       "  font-weight: lighter;\n",
       "  color: var(--sklearn-color-text-muted);\n",
       "}\n",
       "\n",
       "#sk-container-id-1 label.sk-toggleable__label-arrow:before {\n",
       "  /* Arrow on the left of the label */\n",
       "  content: \"▸\";\n",
       "  float: left;\n",
       "  margin-right: 0.25em;\n",
       "  color: var(--sklearn-color-icon);\n",
       "}\n",
       "\n",
       "#sk-container-id-1 label.sk-toggleable__label-arrow:hover:before {\n",
       "  color: var(--sklearn-color-text);\n",
       "}\n",
       "\n",
       "/* Toggleable content - dropdown */\n",
       "\n",
       "#sk-container-id-1 div.sk-toggleable__content {\n",
       "  max-height: 0;\n",
       "  max-width: 0;\n",
       "  overflow: hidden;\n",
       "  text-align: left;\n",
       "  /* unfitted */\n",
       "  background-color: var(--sklearn-color-unfitted-level-0);\n",
       "}\n",
       "\n",
       "#sk-container-id-1 div.sk-toggleable__content.fitted {\n",
       "  /* fitted */\n",
       "  background-color: var(--sklearn-color-fitted-level-0);\n",
       "}\n",
       "\n",
       "#sk-container-id-1 div.sk-toggleable__content pre {\n",
       "  margin: 0.2em;\n",
       "  border-radius: 0.25em;\n",
       "  color: var(--sklearn-color-text);\n",
       "  /* unfitted */\n",
       "  background-color: var(--sklearn-color-unfitted-level-0);\n",
       "}\n",
       "\n",
       "#sk-container-id-1 div.sk-toggleable__content.fitted pre {\n",
       "  /* unfitted */\n",
       "  background-color: var(--sklearn-color-fitted-level-0);\n",
       "}\n",
       "\n",
       "#sk-container-id-1 input.sk-toggleable__control:checked~div.sk-toggleable__content {\n",
       "  /* Expand drop-down */\n",
       "  max-height: 200px;\n",
       "  max-width: 100%;\n",
       "  overflow: auto;\n",
       "}\n",
       "\n",
       "#sk-container-id-1 input.sk-toggleable__control:checked~label.sk-toggleable__label-arrow:before {\n",
       "  content: \"▾\";\n",
       "}\n",
       "\n",
       "/* Pipeline/ColumnTransformer-specific style */\n",
       "\n",
       "#sk-container-id-1 div.sk-label input.sk-toggleable__control:checked~label.sk-toggleable__label {\n",
       "  color: var(--sklearn-color-text);\n",
       "  background-color: var(--sklearn-color-unfitted-level-2);\n",
       "}\n",
       "\n",
       "#sk-container-id-1 div.sk-label.fitted input.sk-toggleable__control:checked~label.sk-toggleable__label {\n",
       "  background-color: var(--sklearn-color-fitted-level-2);\n",
       "}\n",
       "\n",
       "/* Estimator-specific style */\n",
       "\n",
       "/* Colorize estimator box */\n",
       "#sk-container-id-1 div.sk-estimator input.sk-toggleable__control:checked~label.sk-toggleable__label {\n",
       "  /* unfitted */\n",
       "  background-color: var(--sklearn-color-unfitted-level-2);\n",
       "}\n",
       "\n",
       "#sk-container-id-1 div.sk-estimator.fitted input.sk-toggleable__control:checked~label.sk-toggleable__label {\n",
       "  /* fitted */\n",
       "  background-color: var(--sklearn-color-fitted-level-2);\n",
       "}\n",
       "\n",
       "#sk-container-id-1 div.sk-label label.sk-toggleable__label,\n",
       "#sk-container-id-1 div.sk-label label {\n",
       "  /* The background is the default theme color */\n",
       "  color: var(--sklearn-color-text-on-default-background);\n",
       "}\n",
       "\n",
       "/* On hover, darken the color of the background */\n",
       "#sk-container-id-1 div.sk-label:hover label.sk-toggleable__label {\n",
       "  color: var(--sklearn-color-text);\n",
       "  background-color: var(--sklearn-color-unfitted-level-2);\n",
       "}\n",
       "\n",
       "/* Label box, darken color on hover, fitted */\n",
       "#sk-container-id-1 div.sk-label.fitted:hover label.sk-toggleable__label.fitted {\n",
       "  color: var(--sklearn-color-text);\n",
       "  background-color: var(--sklearn-color-fitted-level-2);\n",
       "}\n",
       "\n",
       "/* Estimator label */\n",
       "\n",
       "#sk-container-id-1 div.sk-label label {\n",
       "  font-family: monospace;\n",
       "  font-weight: bold;\n",
       "  display: inline-block;\n",
       "  line-height: 1.2em;\n",
       "}\n",
       "\n",
       "#sk-container-id-1 div.sk-label-container {\n",
       "  text-align: center;\n",
       "}\n",
       "\n",
       "/* Estimator-specific */\n",
       "#sk-container-id-1 div.sk-estimator {\n",
       "  font-family: monospace;\n",
       "  border: 1px dotted var(--sklearn-color-border-box);\n",
       "  border-radius: 0.25em;\n",
       "  box-sizing: border-box;\n",
       "  margin-bottom: 0.5em;\n",
       "  /* unfitted */\n",
       "  background-color: var(--sklearn-color-unfitted-level-0);\n",
       "}\n",
       "\n",
       "#sk-container-id-1 div.sk-estimator.fitted {\n",
       "  /* fitted */\n",
       "  background-color: var(--sklearn-color-fitted-level-0);\n",
       "}\n",
       "\n",
       "/* on hover */\n",
       "#sk-container-id-1 div.sk-estimator:hover {\n",
       "  /* unfitted */\n",
       "  background-color: var(--sklearn-color-unfitted-level-2);\n",
       "}\n",
       "\n",
       "#sk-container-id-1 div.sk-estimator.fitted:hover {\n",
       "  /* fitted */\n",
       "  background-color: var(--sklearn-color-fitted-level-2);\n",
       "}\n",
       "\n",
       "/* Specification for estimator info (e.g. \"i\" and \"?\") */\n",
       "\n",
       "/* Common style for \"i\" and \"?\" */\n",
       "\n",
       ".sk-estimator-doc-link,\n",
       "a:link.sk-estimator-doc-link,\n",
       "a:visited.sk-estimator-doc-link {\n",
       "  float: right;\n",
       "  font-size: smaller;\n",
       "  line-height: 1em;\n",
       "  font-family: monospace;\n",
       "  background-color: var(--sklearn-color-background);\n",
       "  border-radius: 1em;\n",
       "  height: 1em;\n",
       "  width: 1em;\n",
       "  text-decoration: none !important;\n",
       "  margin-left: 0.5em;\n",
       "  text-align: center;\n",
       "  /* unfitted */\n",
       "  border: var(--sklearn-color-unfitted-level-1) 1pt solid;\n",
       "  color: var(--sklearn-color-unfitted-level-1);\n",
       "}\n",
       "\n",
       ".sk-estimator-doc-link.fitted,\n",
       "a:link.sk-estimator-doc-link.fitted,\n",
       "a:visited.sk-estimator-doc-link.fitted {\n",
       "  /* fitted */\n",
       "  border: var(--sklearn-color-fitted-level-1) 1pt solid;\n",
       "  color: var(--sklearn-color-fitted-level-1);\n",
       "}\n",
       "\n",
       "/* On hover */\n",
       "div.sk-estimator:hover .sk-estimator-doc-link:hover,\n",
       ".sk-estimator-doc-link:hover,\n",
       "div.sk-label-container:hover .sk-estimator-doc-link:hover,\n",
       ".sk-estimator-doc-link:hover {\n",
       "  /* unfitted */\n",
       "  background-color: var(--sklearn-color-unfitted-level-3);\n",
       "  color: var(--sklearn-color-background);\n",
       "  text-decoration: none;\n",
       "}\n",
       "\n",
       "div.sk-estimator.fitted:hover .sk-estimator-doc-link.fitted:hover,\n",
       ".sk-estimator-doc-link.fitted:hover,\n",
       "div.sk-label-container:hover .sk-estimator-doc-link.fitted:hover,\n",
       ".sk-estimator-doc-link.fitted:hover {\n",
       "  /* fitted */\n",
       "  background-color: var(--sklearn-color-fitted-level-3);\n",
       "  color: var(--sklearn-color-background);\n",
       "  text-decoration: none;\n",
       "}\n",
       "\n",
       "/* Span, style for the box shown on hovering the info icon */\n",
       ".sk-estimator-doc-link span {\n",
       "  display: none;\n",
       "  z-index: 9999;\n",
       "  position: relative;\n",
       "  font-weight: normal;\n",
       "  right: .2ex;\n",
       "  padding: .5ex;\n",
       "  margin: .5ex;\n",
       "  width: min-content;\n",
       "  min-width: 20ex;\n",
       "  max-width: 50ex;\n",
       "  color: var(--sklearn-color-text);\n",
       "  box-shadow: 2pt 2pt 4pt #999;\n",
       "  /* unfitted */\n",
       "  background: var(--sklearn-color-unfitted-level-0);\n",
       "  border: .5pt solid var(--sklearn-color-unfitted-level-3);\n",
       "}\n",
       "\n",
       ".sk-estimator-doc-link.fitted span {\n",
       "  /* fitted */\n",
       "  background: var(--sklearn-color-fitted-level-0);\n",
       "  border: var(--sklearn-color-fitted-level-3);\n",
       "}\n",
       "\n",
       ".sk-estimator-doc-link:hover span {\n",
       "  display: block;\n",
       "}\n",
       "\n",
       "/* \"?\"-specific style due to the `<a>` HTML tag */\n",
       "\n",
       "#sk-container-id-1 a.estimator_doc_link {\n",
       "  float: right;\n",
       "  font-size: 1rem;\n",
       "  line-height: 1em;\n",
       "  font-family: monospace;\n",
       "  background-color: var(--sklearn-color-background);\n",
       "  border-radius: 1rem;\n",
       "  height: 1rem;\n",
       "  width: 1rem;\n",
       "  text-decoration: none;\n",
       "  /* unfitted */\n",
       "  color: var(--sklearn-color-unfitted-level-1);\n",
       "  border: var(--sklearn-color-unfitted-level-1) 1pt solid;\n",
       "}\n",
       "\n",
       "#sk-container-id-1 a.estimator_doc_link.fitted {\n",
       "  /* fitted */\n",
       "  border: var(--sklearn-color-fitted-level-1) 1pt solid;\n",
       "  color: var(--sklearn-color-fitted-level-1);\n",
       "}\n",
       "\n",
       "/* On hover */\n",
       "#sk-container-id-1 a.estimator_doc_link:hover {\n",
       "  /* unfitted */\n",
       "  background-color: var(--sklearn-color-unfitted-level-3);\n",
       "  color: var(--sklearn-color-background);\n",
       "  text-decoration: none;\n",
       "}\n",
       "\n",
       "#sk-container-id-1 a.estimator_doc_link.fitted:hover {\n",
       "  /* fitted */\n",
       "  background-color: var(--sklearn-color-fitted-level-3);\n",
       "}\n",
       "</style><div id=\"sk-container-id-1\" class=\"sk-top-container\"><div class=\"sk-text-repr-fallback\"><pre>MLPClassifier(hidden_layer_sizes=(64, 32), random_state=42)</pre><b>In a Jupyter environment, please rerun this cell to show the HTML representation or trust the notebook. <br />On GitHub, the HTML representation is unable to render, please try loading this page with nbviewer.org.</b></div><div class=\"sk-container\" hidden><div class=\"sk-item\"><div class=\"sk-estimator fitted sk-toggleable\"><input class=\"sk-toggleable__control sk-hidden--visually\" id=\"sk-estimator-id-1\" type=\"checkbox\" checked><label for=\"sk-estimator-id-1\" class=\"sk-toggleable__label fitted sk-toggleable__label-arrow\"><div><div>MLPClassifier</div></div><div><a class=\"sk-estimator-doc-link fitted\" rel=\"noreferrer\" target=\"_blank\" href=\"https://scikit-learn.org/1.6/modules/generated/sklearn.neural_network.MLPClassifier.html\">?<span>Documentation for MLPClassifier</span></a><span class=\"sk-estimator-doc-link fitted\">i<span>Fitted</span></span></div></label><div class=\"sk-toggleable__content fitted\"><pre>MLPClassifier(hidden_layer_sizes=(64, 32), random_state=42)</pre></div> </div></div></div></div>"
      ],
      "text/plain": [
       "MLPClassifier(hidden_layer_sizes=(64, 32), random_state=42)"
      ]
     },
     "execution_count": 23,
     "metadata": {},
     "output_type": "execute_result"
    }
   ],
   "source": [
    "# Entrenar el modelo\n",
    "mlp.fit(X_train, y_train)"
   ]
  },
  {
   "cell_type": "code",
   "execution_count": 24,
   "metadata": {
    "colab": {
     "base_uri": "https://localhost:8080/"
    },
    "execution": {
     "iopub.execute_input": "2025-05-29T05:00:02.149263Z",
     "iopub.status.busy": "2025-05-29T05:00:02.149102Z",
     "iopub.status.idle": "2025-05-29T05:00:02.189095Z",
     "shell.execute_reply": "2025-05-29T05:00:02.188650Z"
    },
    "id": "xVQXYitRozEn",
    "outputId": "fe7ac09f-76d1-4dee-8689-c7e0ad20dde9"
   },
   "outputs": [
    {
     "name": "stdout",
     "output_type": "stream",
     "text": [
      "Matriz de Confusión:\n",
      "[[ 5396   548    76    30     0    79    33     6     5   117   187]\n",
      " [  861  1248    17     2     0    14     7     5     4    31    65]\n",
      " [  473    82   180    11     0    14     0     0     2    35    29]\n",
      " [   10     2     0   131     0     6     1     0     0     0     0]\n",
      " [    2     0     0     0  2508     3     4     0     0     0     2]\n",
      " [  106    23     5     1     0  3172    10     5     4  2718  1389]\n",
      " [  118    31     0     1     9    25 75901     1     1    40    12]\n",
      " [   10     1     1     0     0    21     1   154     0     1   275]\n",
      " [   54     4     1     0     0    44     0     5    66    81   171]\n",
      " [   50    29     3     1     0  1071    66     2     8 22129   418]\n",
      " [  340    22    12     2     2  1525    15   127    35   805  5877]]\n",
      "\n",
      "Informe de Clasificación:\n",
      "                        precision    recall  f1-score   support\n",
      "\n",
      "           cycling_sit       0.73      0.83      0.78      6477\n",
      "  cycling_sit_inactive       0.63      0.55      0.59      2254\n",
      "         cycling_stand       0.61      0.22      0.32       826\n",
      "cycling_stand_inactive       0.73      0.87      0.80       150\n",
      "                 lying       1.00      1.00      1.00      2519\n",
      "             shuffling       0.53      0.43      0.47      7433\n",
      "               sitting       1.00      1.00      1.00     76139\n",
      "           stairs_down       0.50      0.33      0.40       464\n",
      "             stairs_up       0.53      0.15      0.24       426\n",
      "              standing       0.85      0.93      0.89     23777\n",
      "               walking       0.70      0.67      0.68      8762\n",
      "\n",
      "              accuracy                           0.90    129227\n",
      "             macro avg       0.71      0.64      0.65    129227\n",
      "          weighted avg       0.90      0.90      0.90    129227\n",
      "\n"
     ]
    }
   ],
   "source": [
    "# Evaluar\n",
    "y_pred = mlp.predict(X_test)\n",
    "print(\"Matriz de Confusión:\")\n",
    "print(confusion_matrix(y_test, y_pred))\n",
    "print(\"\\nInforme de Clasificación:\")\n",
    "print(classification_report(y_test, y_pred))"
   ]
  },
  {
   "cell_type": "markdown",
   "metadata": {},
   "source": [
    "Finalmente, compilamos el modelo para su uso dentro de la aplicación rest.\n"
   ]
  },
  {
   "cell_type": "code",
   "execution_count": 25,
   "metadata": {
    "execution": {
     "iopub.execute_input": "2025-05-29T05:00:02.190622Z",
     "iopub.status.busy": "2025-05-29T05:00:02.190453Z",
     "iopub.status.idle": "2025-05-29T05:00:02.198645Z",
     "shell.execute_reply": "2025-05-29T05:00:02.198229Z"
    }
   },
   "outputs": [],
   "source": [
    "build_path = Path(\"..\", \"build\")\n",
    "\n",
    "if build_path.exists():\n",
    "    remove_file_or_directory(build_path)\n",
    "\n",
    "build_path.mkdir(parents=True, exist_ok=True)\n",
    "\n",
    "joblib.dump(mlp, build_path / \"mlp_model.pkl\")\n",
    "None"
   ]
  },
  {
   "cell_type": "markdown",
   "metadata": {
    "id": "ALVJKjsqyYvZ"
   },
   "source": [
    "## **Interpretación de resultados**\n"
   ]
  },
  {
   "cell_type": "markdown",
   "metadata": {
    "id": "zk5Wy3GVjVlK"
   },
   "source": [
    "### **Interpretación de los Resultados del Clustering**\n",
    "\n",
    "Se ha aplicado el algoritmo **K-Means** con **4 clústeres** sobre los datos para\n",
    "identificar patrones dentro del conjunto de datos. A continuación, se\n",
    "interpretan los resultados obtenidos:\n",
    "\n",
    "#### **1. Aplicación del Clustering**\n",
    "\n",
    "El modelo K-Means fue entrenado con los datos numéricos, asignando cada muestra\n",
    "a uno de los cuatro clústeres definidos. Esto permitió segmentar el conjunto de\n",
    "datos en grupos con características similares.\n",
    "\n",
    "#### **2. Visualización de los Clústeres**\n",
    "\n",
    "El gráfico generado representa los datos en función de dos componentes\n",
    "principales (PC1 y PC2), facilitando su visualización en un espacio\n",
    "bidimensional. Cada color representa un clúster diferente, lo que permite\n",
    "observar cómo el algoritmo ha distribuido los datos.\n",
    "\n",
    "#### **3. Distribución de las Muestras por Clúster**\n",
    "\n",
    "Se observó que los tamaños de los clústeres varían significativamente:\n",
    "\n",
    "- **Clúster 0:** 3,345,319 muestras.\n",
    "- **Clúster 1:** 2,702,296 muestras.\n",
    "- **Clúster 2:** 278,541 muestras.\n",
    "- **Clúster 3:** 135,172 muestras.\n",
    "\n",
    "La diferencia en el número de muestras por clúster sugiere que los datos no\n",
    "están distribuidos uniformemente, lo que puede ser indicativo de estructuras o\n",
    "patrones particulares en los datos.\n",
    "\n",
    "#### **4. Utilidad del Clustering**\n",
    "\n",
    "El clustering es una técnica útil para analizar datos sin etiquetas previas. En\n",
    "este caso, su aplicación podría ayudar a:\n",
    "\n",
    "- **Identificar patrones de movimiento** en los datos del acelerómetro.\n",
    "- **Reducir la complejidad** del análisis al segmentar el conjunto de datos en\n",
    "  grupos representativos.\n",
    "- **Detectar anomalías**, ya que los clústeres más pequeños pueden representar\n",
    "  eventos inusuales.\n",
    "- **Facilitar la exploración de datos** sin necesidad de etiquetas predefinidas.\n",
    "\n",
    "El uso de K-Means permitió obtener una segmentación efectiva de los datos,\n",
    "proporcionando información valiosa para análisis posteriores.\n"
   ]
  },
  {
   "cell_type": "markdown",
   "metadata": {
    "id": "dJpahEF-yfCw"
   },
   "source": [
    "## **Conclusiones y siguientes pasos**\n"
   ]
  },
  {
   "cell_type": "markdown",
   "metadata": {
    "id": "ntFxWwxNsDqc"
   },
   "source": [
    "### Conclusiones\n",
    "\n",
    "- Se confirman correlaciones en las mediciones y se demuestra la utilidad de\n",
    "  K-Means para segmentar datos. Se sugiere evaluar si 4 clústeres es óptimo,\n",
    "  mejorar el preprocesamiento, probar modelos avanzados como Autoencoders o\n",
    "  CNNs, y optimizar el procesamiento de grandes volúmenes de datos. Eficacia de\n",
    "  K-Means\n",
    "\n",
    "- K-Means logra segmentar los datos de aceleración en distintos grupos sin\n",
    "  necesidad de etiquetas previas, demostrando su potencial para detectar\n",
    "  patrones de inactividad en la vida diaria. Sin embargo, la selección del\n",
    "  número de clústeres requiere mayor optimización para garantizar una\n",
    "  segmentación más precisa. Impacto de la reducción de dimensionalidad\n",
    "\n",
    "- El uso de PCA ayudó a mejorar la interpretación de los datos y facilitó la\n",
    "  visualización de los clústeres, lo que sugiere que técnicas de reducción de\n",
    "  dimensionalidad son clave en el preprocesamiento. Se podrían evaluar otras\n",
    "  técnicas como t-SNE o UMAP para mejorar la representación de los datos.\n",
    "  Diferencias en la correlación entre sensores\n",
    "\n",
    "- Se identificaron correlaciones entre los sensores de la espalda y el muslo, lo\n",
    "  que indica que la actividad del usuario afecta de manera diferente cada zona\n",
    "  del cuerpo. Esto sugiere que futuros modelos podrían incorporar relaciones\n",
    "  entre múltiples sensores para mejorar la detección de actividad. Limitaciones\n",
    "  del modelo y mejoras futuras\n",
    "\n",
    "- K-Means, al ser un método basado en distancia, puede no capturar completamente\n",
    "  la variabilidad en los datos de acelerometría. Modelos más avanzados como\n",
    "  redes neuronales recurrentes (RNN), Autoencoders o CNNs podrían ser más\n",
    "  efectivos en la detección de patrones complejos. También se podría evaluar la\n",
    "  combinación de K-Means con técnicas supervisadas para refinar la\n",
    "  clasificación. Aplicaciones prácticas y futuras investigaciones\n",
    "\n",
    "- La detección de inactividad con este enfoque puede aplicarse en monitoreo de\n",
    "  salud, prevención de sedentarismo y estudios de ergonomía. Futuros estudios\n",
    "  podrían analizar la relación entre los clústeres y eventos específicos de\n",
    "  inactividad, para validar la utilidad del método en entornos reales.\n"
   ]
  },
  {
   "cell_type": "markdown",
   "metadata": {
    "id": "8UFzdAbBQtqg"
   },
   "source": [
    "### Siguientes pasos\n"
   ]
  },
  {
   "cell_type": "markdown",
   "metadata": {
    "id": "IqWvf4VFQwGR"
   },
   "source": [
    "- Verificar si $k = 4$ es el valor óptimo para la aplicación de K-Means,\n",
    "  utilizando técnicas de evaluación como el método del codo o el coeficiente de\n",
    "  silueta.\n",
    "- Confirmar que los valores atípicos no afectan negativamente al modelo; de ser\n",
    "  así, replantear la estrategia de procesamiento.\n",
    "- Explorar el uso de redes neuronales para aprovechar de forma óptima la alta\n",
    "  dimensionalidad de los datos.\n",
    "- Dado el elevado número de registros en el dataset, el consumo de recursos y el\n",
    "  tiempo de procesamiento pueden volverse ineficientes. Se recomienda considerar\n",
    "  herramientas específicas para el manejo de grandes volúmenes de datos.\n",
    "- Identificar patrones que permitan predecir los tipos de movimientos o la\n",
    "  actividad física y con ello darle respuesta al problema planteado.\n"
   ]
  }
 ],
 "metadata": {
  "colab": {
   "provenance": []
  },
  "kernelspec": {
   "display_name": ".venv",
   "language": "python",
   "name": "python3"
  },
  "language_info": {
   "codemirror_mode": {
    "name": "ipython",
    "version": 3
   },
   "file_extension": ".py",
   "mimetype": "text/x-python",
   "name": "python",
   "nbconvert_exporter": "python",
   "pygments_lexer": "ipython3",
   "version": "3.13.1"
  }
 },
 "nbformat": 4,
 "nbformat_minor": 0
}
